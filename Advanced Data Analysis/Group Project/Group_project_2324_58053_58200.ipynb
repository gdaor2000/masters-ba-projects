{
 "cells": [
  {
   "cell_type": "markdown",
   "metadata": {
    "id": "zjtcvlAnrehd"
   },
   "source": [
    "# Advanced Data Analysis 23/24: group project\n",
    "\n",
    "By delivering this notebook, we confirm that the code presented was developed by the following students.\n",
    "\n",
    "## Student 1: GUILHERME RAIMUNDO, 58053\n",
    "## Student 2: DEWANG BAN, 58200\n"
   ]
  },
  {
   "cell_type": "markdown",
   "metadata": {
    "id": "nYFcBcJwEcwO"
   },
   "source": [
    "**In the solutions for exercises 1 to 4 you should include necessarily one solution using Pandas/scikit learn and one using Spark.**\n",
    "\n",
    "Some useful links:\n",
    "* [Pandas documentations](https://pandas.pydata.org/docs/)\n",
    "\n",
    "* [scikit-learn](https://scikit-learn.org/stable/)\n",
    "\n",
    "* [Spark web site](https://spark.apache.org/)\n",
    "\n",
    "* [Spark MLlib main page](https://spark.apache.org/mllib/)\n",
    "* [Spark MLlib guide](https://spark.apache.org/docs/latest/ml-guide.html)\n",
    "\n",
    "* [Spark GraphX main page](https://spark.apache.org/graphx/)\n",
    "* [Spark GraphFrames main page](https://graphframes.github.io/graphframes/docs/_site/index.html)\n",
    "* [Spark GraphFrames User Guide](https://graphframes.github.io/graphframes/docs/_site/user-guide.html)\n",
    "\n",
    "Run the following cell just to check if it is running in COLAB."
   ]
  },
  {
   "cell_type": "code",
   "execution_count": null,
   "metadata": {
    "id": "p_h2Hx-8EcwP",
    "tags": []
   },
   "outputs": [],
   "source": [
    "import sys\n",
    "import os\n",
    "\n",
    "IN_COLAB = 'google.colab' in sys.modules\n",
    "WITH_SPARK = IN_COLAB"
   ]
  },
  {
   "cell_type": "markdown",
   "metadata": {
    "id": "3fU9cEU7EcwP"
   },
   "source": [
    "## Install software\n",
    "\n",
    "This cell installs the software needed to run the project."
   ]
  },
  {
   "cell_type": "code",
   "execution_count": null,
   "metadata": {
    "colab": {
     "base_uri": "https://localhost:8080/"
    },
    "id": "KOzu05nlEcwP",
    "outputId": "471183ad-5ee2-4e9f-f273-3ab51e6f7e6a"
   },
   "outputs": [
    {
     "name": "stdout",
     "output_type": "stream",
     "text": [
      "Reading package lists... Done\n",
      "Building dependency tree... Done\n",
      "Reading state information... Done\n",
      "The following additional packages will be installed:\n",
      "  openjdk-17-jre-headless\n",
      "Suggested packages:\n",
      "  openjdk-17-demo openjdk-17-source libnss-mdns fonts-dejavu-extra fonts-ipafont-gothic\n",
      "  fonts-ipafont-mincho fonts-wqy-microhei | fonts-wqy-zenhei fonts-indic\n",
      "The following NEW packages will be installed:\n",
      "  openjdk-17-jdk-headless openjdk-17-jre-headless\n",
      "0 upgraded, 2 newly installed, 0 to remove and 15 not upgraded.\n",
      "Need to get 119 MB of archives.\n",
      "After this operation, 271 MB of additional disk space will be used.\n",
      "Get:1 http://archive.ubuntu.com/ubuntu jammy-updates/universe amd64 openjdk-17-jre-headless amd64 17.0.9+9-1~22.04 [48.2 MB]\n",
      "Get:2 http://archive.ubuntu.com/ubuntu jammy-updates/universe amd64 openjdk-17-jdk-headless amd64 17.0.9+9-1~22.04 [71.1 MB]\n",
      "Fetched 119 MB in 2s (73.1 MB/s)\n",
      "Selecting previously unselected package openjdk-17-jre-headless:amd64.\n",
      "(Reading database ... 120882 files and directories currently installed.)\n",
      "Preparing to unpack .../openjdk-17-jre-headless_17.0.9+9-1~22.04_amd64.deb ...\n",
      "Unpacking openjdk-17-jre-headless:amd64 (17.0.9+9-1~22.04) ...\n",
      "Selecting previously unselected package openjdk-17-jdk-headless:amd64.\n",
      "Preparing to unpack .../openjdk-17-jdk-headless_17.0.9+9-1~22.04_amd64.deb ...\n",
      "Unpacking openjdk-17-jdk-headless:amd64 (17.0.9+9-1~22.04) ...\n",
      "Setting up openjdk-17-jre-headless:amd64 (17.0.9+9-1~22.04) ...\n",
      "update-alternatives: using /usr/lib/jvm/java-17-openjdk-amd64/bin/java to provide /usr/bin/java (java) in auto mode\n",
      "update-alternatives: using /usr/lib/jvm/java-17-openjdk-amd64/bin/jpackage to provide /usr/bin/jpackage (jpackage) in auto mode\n",
      "update-alternatives: using /usr/lib/jvm/java-17-openjdk-amd64/bin/keytool to provide /usr/bin/keytool (keytool) in auto mode\n",
      "update-alternatives: using /usr/lib/jvm/java-17-openjdk-amd64/bin/rmiregistry to provide /usr/bin/rmiregistry (rmiregistry) in auto mode\n",
      "update-alternatives: using /usr/lib/jvm/java-17-openjdk-amd64/lib/jexec to provide /usr/bin/jexec (jexec) in auto mode\n",
      "Setting up openjdk-17-jdk-headless:amd64 (17.0.9+9-1~22.04) ...\n",
      "update-alternatives: using /usr/lib/jvm/java-17-openjdk-amd64/bin/jar to provide /usr/bin/jar (jar) in auto mode\n",
      "update-alternatives: using /usr/lib/jvm/java-17-openjdk-amd64/bin/jarsigner to provide /usr/bin/jarsigner (jarsigner) in auto mode\n",
      "update-alternatives: using /usr/lib/jvm/java-17-openjdk-amd64/bin/javac to provide /usr/bin/javac (javac) in auto mode\n",
      "update-alternatives: using /usr/lib/jvm/java-17-openjdk-amd64/bin/javadoc to provide /usr/bin/javadoc (javadoc) in auto mode\n",
      "update-alternatives: using /usr/lib/jvm/java-17-openjdk-amd64/bin/javap to provide /usr/bin/javap (javap) in auto mode\n",
      "update-alternatives: using /usr/lib/jvm/java-17-openjdk-amd64/bin/jcmd to provide /usr/bin/jcmd (jcmd) in auto mode\n",
      "update-alternatives: using /usr/lib/jvm/java-17-openjdk-amd64/bin/jdb to provide /usr/bin/jdb (jdb) in auto mode\n",
      "update-alternatives: using /usr/lib/jvm/java-17-openjdk-amd64/bin/jdeprscan to provide /usr/bin/jdeprscan (jdeprscan) in auto mode\n",
      "update-alternatives: using /usr/lib/jvm/java-17-openjdk-amd64/bin/jdeps to provide /usr/bin/jdeps (jdeps) in auto mode\n",
      "update-alternatives: using /usr/lib/jvm/java-17-openjdk-amd64/bin/jfr to provide /usr/bin/jfr (jfr) in auto mode\n",
      "update-alternatives: using /usr/lib/jvm/java-17-openjdk-amd64/bin/jimage to provide /usr/bin/jimage (jimage) in auto mode\n",
      "update-alternatives: using /usr/lib/jvm/java-17-openjdk-amd64/bin/jinfo to provide /usr/bin/jinfo (jinfo) in auto mode\n",
      "update-alternatives: using /usr/lib/jvm/java-17-openjdk-amd64/bin/jlink to provide /usr/bin/jlink (jlink) in auto mode\n",
      "update-alternatives: using /usr/lib/jvm/java-17-openjdk-amd64/bin/jmap to provide /usr/bin/jmap (jmap) in auto mode\n",
      "update-alternatives: using /usr/lib/jvm/java-17-openjdk-amd64/bin/jmod to provide /usr/bin/jmod (jmod) in auto mode\n",
      "update-alternatives: using /usr/lib/jvm/java-17-openjdk-amd64/bin/jps to provide /usr/bin/jps (jps) in auto mode\n",
      "update-alternatives: using /usr/lib/jvm/java-17-openjdk-amd64/bin/jrunscript to provide /usr/bin/jrunscript (jrunscript) in auto mode\n",
      "update-alternatives: using /usr/lib/jvm/java-17-openjdk-amd64/bin/jshell to provide /usr/bin/jshell (jshell) in auto mode\n",
      "update-alternatives: using /usr/lib/jvm/java-17-openjdk-amd64/bin/jstack to provide /usr/bin/jstack (jstack) in auto mode\n",
      "update-alternatives: using /usr/lib/jvm/java-17-openjdk-amd64/bin/jstat to provide /usr/bin/jstat (jstat) in auto mode\n",
      "update-alternatives: using /usr/lib/jvm/java-17-openjdk-amd64/bin/jstatd to provide /usr/bin/jstatd (jstatd) in auto mode\n",
      "update-alternatives: using /usr/lib/jvm/java-17-openjdk-amd64/bin/serialver to provide /usr/bin/serialver (serialver) in auto mode\n",
      "update-alternatives: using /usr/lib/jvm/java-17-openjdk-amd64/bin/jhsdb to provide /usr/bin/jhsdb (jhsdb) in auto mode\n",
      "E: Invalid operation wget\n",
      "Collecting pyspark==3.5.0\n",
      "  Downloading pyspark-3.5.0.tar.gz (316.9 MB)\n",
      "\u001b[2K     \u001b[90m━━━━━━━━━━━━━━━━━━━━━━━━━━━━━━━━━━━━━━━━\u001b[0m \u001b[32m316.9/316.9 MB\u001b[0m \u001b[31m4.9 MB/s\u001b[0m eta \u001b[36m0:00:00\u001b[0m\n",
      "\u001b[?25h  Preparing metadata (setup.py) ... \u001b[?25l\u001b[?25hdone\n",
      "Requirement already satisfied: py4j==0.10.9.7 in /usr/local/lib/python3.10/dist-packages (from pyspark==3.5.0) (0.10.9.7)\n",
      "Building wheels for collected packages: pyspark\n",
      "  Building wheel for pyspark (setup.py) ... \u001b[?25l\u001b[?25hdone\n",
      "  Created wheel for pyspark: filename=pyspark-3.5.0-py2.py3-none-any.whl size=317425345 sha256=00a7140d073b1161b9c096380ba17e9c6c54cc9333d0f40c7cb03794c945e450\n",
      "  Stored in directory: /root/.cache/pip/wheels/41/4e/10/c2cf2467f71c678cfc8a6b9ac9241e5e44a01940da8fbb17fc\n",
      "Successfully built pyspark\n",
      "Installing collected packages: pyspark\n",
      "Successfully installed pyspark-3.5.0\n",
      "--2023-12-03 19:47:48--  https://repos.spark-packages.org/graphframes/graphframes/0.8.3-spark3.5-s_2.13/graphframes-0.8.3-spark3.5-s_2.13.jar\n",
      "Resolving repos.spark-packages.org (repos.spark-packages.org)... 52.84.125.73, 52.84.125.99, 52.84.125.114, ...\n",
      "Connecting to repos.spark-packages.org (repos.spark-packages.org)|52.84.125.73|:443... connected.\n",
      "HTTP request sent, awaiting response... 200 OK\n",
      "Length: 251438 (246K) [binary/octet-stream]\n",
      "Saving to: ‘graphframes-0.8.3-spark3.5-s_2.13.jar’\n",
      "\n",
      "graphframes-0.8.3-s 100%[===================>] 245.54K  --.-KB/s    in 0.05s   \n",
      "\n",
      "2023-12-03 19:47:49 (4.61 MB/s) - ‘graphframes-0.8.3-spark3.5-s_2.13.jar’ saved [251438/251438]\n",
      "\n",
      "Requirement already satisfied: gdown in /usr/local/lib/python3.10/dist-packages (4.6.6)\n",
      "Requirement already satisfied: filelock in /usr/local/lib/python3.10/dist-packages (from gdown) (3.13.1)\n",
      "Requirement already satisfied: requests[socks] in /usr/local/lib/python3.10/dist-packages (from gdown) (2.31.0)\n",
      "Requirement already satisfied: six in /usr/local/lib/python3.10/dist-packages (from gdown) (1.16.0)\n",
      "Requirement already satisfied: tqdm in /usr/local/lib/python3.10/dist-packages (from gdown) (4.66.1)\n",
      "Requirement already satisfied: beautifulsoup4 in /usr/local/lib/python3.10/dist-packages (from gdown) (4.11.2)\n",
      "Requirement already satisfied: soupsieve>1.2 in /usr/local/lib/python3.10/dist-packages (from beautifulsoup4->gdown) (2.5)\n",
      "Requirement already satisfied: charset-normalizer<4,>=2 in /usr/local/lib/python3.10/dist-packages (from requests[socks]->gdown) (3.3.2)\n",
      "Requirement already satisfied: idna<4,>=2.5 in /usr/local/lib/python3.10/dist-packages (from requests[socks]->gdown) (3.6)\n",
      "Requirement already satisfied: urllib3<3,>=1.21.1 in /usr/local/lib/python3.10/dist-packages (from requests[socks]->gdown) (2.0.7)\n",
      "Requirement already satisfied: certifi>=2017.4.17 in /usr/local/lib/python3.10/dist-packages (from requests[socks]->gdown) (2023.11.17)\n",
      "Requirement already satisfied: PySocks!=1.5.7,>=1.5.6 in /usr/local/lib/python3.10/dist-packages (from requests[socks]->gdown) (1.7.1)\n"
     ]
    }
   ],
   "source": [
    "if( WITH_SPARK):\n",
    "    !apt-get install openjdk-17-jdk-headless\n",
    "    !apt-get wget\n",
    "    !pip install pyspark==3.5.0\n",
    "    !wget https://repos.spark-packages.org/graphframes/graphframes/0.8.3-spark3.5-s_2.13/graphframes-0.8.3-spark3.5-s_2.13.jar\n",
    "    os.environ['PYSPARK_SUBMIT_ARGS'] = '--jars graphframes-0.8.3-spark3.5-s_2.13.jar pyspark-shell'\n",
    "    os.environ[\"PYARROW_IGNORE_TIMEZONE\"] = \"1\"\n",
    "\n",
    "!pip install gdown\n",
    "!mkdir checkpoint\n",
    "\n"
   ]
  },
  {
   "cell_type": "markdown",
   "metadata": {
    "id": "IXHpSSnEEcwQ"
   },
   "source": [
    "## Setup\n",
    "\n",
    "The following cell will import the used packages."
   ]
  },
  {
   "cell_type": "code",
   "execution_count": null,
   "metadata": {
    "id": "7lyBwH2KEcwQ",
    "tags": []
   },
   "outputs": [],
   "source": [
    "from zipfile import ZipFile\n",
    "import time\n",
    "import pandas as pd\n",
    "import numpy as np\n",
    "import ast\n",
    "import matplotlib.pyplot as plt\n",
    "if( WITH_SPARK):\n",
    "    import pyspark\n",
    "    import pyspark.pandas as ps\n",
    "    from pyspark.sql import SparkSession\n",
    "    from pyspark.sql.types import *\n",
    "    from pyspark.sql.functions import *\n",
    "    from pyspark.ml.linalg import Vectors\n",
    "    from pyspark.ml.clustering import KMeans\n",
    "    from pyspark.ml.evaluation import *\n",
    "    from pyspark.ml.feature import *\n",
    "from sklearn.preprocessing import LabelEncoder\n",
    "from sklearn.linear_model import LogisticRegression\n",
    "from sklearn.model_selection import train_test_split\n",
    "from sklearn import metrics\n",
    "import seaborn as sns\n"
   ]
  },
  {
   "cell_type": "markdown",
   "metadata": {
    "id": "anHDtopzEcwR"
   },
   "source": [
    "## Dataset\n",
    "\n",
    "In this project, you will be asked to perform analysis of [Bitcoin](https://en.wikipedia.org/wiki/Bitcoin) transactions, a cryptocurrency where transactions are stored in blocks of a blockchain - for the purpose of this project, a blockchain can be seen as a list of blocks, and each block has a list of transactions.\n",
    "\n",
    "The provided data files include a list of transactions performed in Bitcoin. The list of transactions is continuous and ordered in time, being a subset of all transactions performed in Bitcoin. A transaction transfers currency from one or more source addresses to one or more destination addresses.\n",
    "\n",
    "The datasets are a transformation form the data provided at [https://www.kaggle.com/shiheyingzhe/datasets](https://www.kaggle.com/shiheyingzhe/datasets).\n",
    "\n",
    "\n"
   ]
  },
  {
   "cell_type": "markdown",
   "metadata": {
    "id": "jX14oN5OEibP"
   },
   "source": [
    "The data sets are available in the following link: [https://drive.google.com/drive/folders/1WSJTm5nfy64uOc648TJ-SI1CHj5MbiH_?usp=sharing](https://drive.google.com/drive/folders/1WSJTm5nfy64uOc648TJ-SI1CHj5MbiH_?usp=sharing). For running locally download the smallest file and at least another one and store it in directory data. For running in Google Colab, you should access the link and Add Shortcut to your Drive."
   ]
  },
  {
   "cell_type": "code",
   "execution_count": null,
   "metadata": {
    "colab": {
     "base_uri": "https://localhost:8080/"
    },
    "id": "OrdPJwdJHaUt",
    "outputId": "570d117e-69ef-4436-b5dc-98225272a829"
   },
   "outputs": [
    {
     "name": "stdout",
     "output_type": "stream",
     "text": [
      "Mounted at /content/drive\n",
      "0-68732.csv.gz\t      260001-270000.csv.gz  320001-329999.csv.gz  360001-364000.csv.gz\n",
      "190001-209999.csv.gz  270001-280000.csv.gz  330000-337000.csv.gz  364001-367000.csv.gz\n",
      "210000-224000.csv.gz  280001-290000.csv.gz  337001-343000.csv.gz  367001-369999.csv.gz\n",
      "224001-234000.csv.gz  290001-300000.csv.gz  343001-349000.csv.gz  btc_price.csv\n",
      "234001-247000.csv.gz  300001-310000.csv.gz  349001-354000.csv.gz  labels\n",
      "247001-260000.csv.gz  310001-320000.csv.gz  354001-360000.csv.gz\n"
     ]
    }
   ],
   "source": [
    "from google.colab import drive\n",
    "drive.mount('/content/drive')\n",
    "\n",
    "# If you added the shortcut to your drive, the file should appear in this directory\n",
    "# If not, you need to explore from directory /content/drive\n",
    "!ls /content/drive/MyDrive/sbe2324ada"
   ]
  },
  {
   "cell_type": "code",
   "execution_count": null,
   "metadata": {
    "id": "I_hp6Rv2EcwR",
    "tags": []
   },
   "outputs": [],
   "source": [
    "# DATASET_DIR = \"bitcoin/archive1\"\n",
    "# FOR running in Colab\n",
    "DATASET_DIR = \"/content/drive/MyDrive/sbe2324ada\"\n",
    "\n",
    "# Small dataset\n",
    "TXDATA_FILE = \"0-68732.csv.gz\"\n",
    "# Larger dataset\n",
    "LGDATA_FILE = \"210000-224000.csv.gz\"\n",
    "\n",
    "LGDATA2_FILE = \"234001-247000.csv.gz\"\n",
    "\n",
    "# Bitcoin price\n",
    "BTCPRICE_FILE = \"btc_price.csv\"\n",
    "\n"
   ]
  },
  {
   "cell_type": "code",
   "execution_count": null,
   "metadata": {
    "id": "K_L9nwWkmIKu"
   },
   "outputs": [],
   "source": [
    "# DATASET_DIR = \"bitcoin/archive1\"\n",
    "# FOR running in Colab\n",
    "LABEL_DIR = \"/content/drive/MyDrive/sbe2324ada/labels\"\n",
    "\n",
    "# Labels file\n",
    "LABELDATA_FILE= \"labels-210000-224000.csv.gz\"\n"
   ]
  },
  {
   "cell_type": "markdown",
   "metadata": {
    "id": "5U6Xf8luEcwR"
   },
   "source": [
    "### Bitcoin transactions\n",
    "\n",
    "Each transactions CSV file has five columns, with the following contents:\n",
    "\n",
    "* **TxId**: a string of format \"block:counter\" - this can be used to identify univocally a transaction.\n",
    "* **Height**: the block in which the transaction is recorded.\n",
    "* **Input**: list of source addresses.\n",
    "* **Output**: list of destination addresses; when the list included multiple values, it includes the value transferred for each account. The following example represented two destination addresses, the first receiving *0.01* and the second *49.99*:  \n",
    "```[['1Fmjwt8172FZT5XdKnzTUcEEzc1T2MCg2a', '0.01'], ['1AbHNFdKJeVL8FRZyRZoiTzG9VCmzLrtvm', '49.99']]```\n",
    "* **Sum**: a list with a single element that is the sum of the value transferred.\n",
    "* **Time**: the time of the transaction.\n",
    "\n",
    "\n",
    "The following cells print basic infomation about the transaction files stored in the directory. The first uses Pandas, while the next two use Pandas interface for Spark."
   ]
  },
  {
   "cell_type": "code",
   "execution_count": null,
   "metadata": {
    "colab": {
     "base_uri": "https://localhost:8080/"
    },
    "id": "sg2mgIfpEcwR",
    "outputId": "61048b0d-f7eb-410f-b41f-f580965c412a"
   },
   "outputs": [
    {
     "name": "stdout",
     "output_type": "stream",
     "text": [
      "DUMP BASIC INFO FOR EACH FILE\n",
      "FILENAME : 0-68732.csv.gz\n",
      "Number of transactions : 14832\n",
      "First block : 546\n",
      "Last block : 68732\n",
      "First date : 2009-01-15 06:08:20\n",
      "Last date : 2010-07-17 16:54:44\n",
      "FILENAME : 190001-209999.csv.gz\n",
      "Number of transactions : 4183123\n",
      "First block : 190001\n",
      "Last block : 209999\n",
      "First date : 2012-07-19 09:43:01\n",
      "Last date : 2014-03-12 22:49:29\n",
      "FILENAME : 210000-224000.csv.gz\n",
      "Number of transactions : 4372368\n",
      "First block : 210000\n",
      "Last block : 224000\n",
      "First date : 2012-09-06 14:25:44\n",
      "Last date : 2014-03-13 09:37:24\n",
      "FILENAME : 224001-234000.csv.gz\n",
      "Number of transactions : 3268711\n",
      "First block : 224001\n",
      "Last block : 234000\n",
      "First date : 2012-08-24 18:14:12\n",
      "Last date : 2013-05-01 03:47:20\n",
      "FILENAME : 234001-247000.csv.gz\n",
      "Number of transactions : 3755673\n",
      "First block : 234001\n",
      "Last block : 247000\n",
      "First date : 1972-09-04 19:15:29\n",
      "Last date : 2083-06-22 23:32:50\n",
      "FILENAME : 247001-260000.csv.gz\n",
      "Number of transactions : 3605859\n",
      "First block : 247001\n",
      "Last block : 260000\n",
      "First date : 2013-07-15 11:31:03\n",
      "Last date : 2014-03-16 01:06:12\n",
      "FILENAME : 260001-270000.csv.gz\n",
      "Number of transactions : 2769663\n",
      "First block : 260001\n",
      "Last block : 270000\n",
      "First date : 2013-09-23 08:31:57\n",
      "Last date : 2070-04-24 08:28:17\n",
      "FILENAME : 270001-280000.csv.gz\n",
      "Number of transactions : 3661019\n",
      "First block : 270001\n",
      "Last block : 280000\n",
      "First date : 2013-11-14 13:02:11\n",
      "Last date : 2014-03-16 13:29:27\n",
      "FILENAME : 280001-290000.csv.gz\n",
      "Number of transactions : 2445208\n",
      "First block : 283895\n",
      "Last block : 290000\n",
      "First date : 2014-02-03 04:53:17\n",
      "Last date : 2014-03-16 13:45:30\n",
      "FILENAME : 290001-300000.csv.gz\n",
      "Number of transactions : 3848932\n",
      "First block : 290001\n",
      "Last block : 300000\n",
      "First date : 2013-03-18 16:57:27\n",
      "Last date : 2014-05-10 06:32:34\n",
      "FILENAME : 300001-310000.csv.gz\n",
      "Number of transactions : 3771780\n",
      "First block : 300001\n",
      "Last block : 310000\n",
      "First date : 2014-03-09 19:48:36\n",
      "Last date : 2014-07-09 23:04:51\n",
      "FILENAME : 310001-320000.csv.gz\n",
      "Number of transactions : 4147030\n",
      "First block : 310001\n",
      "Last block : 320000\n",
      "First date : 2014-07-08 20:02:05\n",
      "Last date : 2014-09-10 13:59:57\n",
      "FILENAME : 320001-329999.csv.gz\n",
      "Number of transactions : 5006946\n",
      "First block : 320001\n",
      "Last block : 329999\n",
      "First date : 2014-09-06 19:01:22\n",
      "Last date : 2014-11-14 16:39:17\n",
      "FILENAME : 330000-337000.csv.gz\n",
      "Number of transactions : 4092892\n",
      "First block : 330000\n",
      "Last block : 337000\n",
      "First date : 2014-11-12 23:15:18\n",
      "Last date : 2015-01-01 19:51:07\n",
      "FILENAME : 337001-343000.csv.gz\n",
      "Number of transactions : 3779208\n",
      "First block : 337001\n",
      "Last block : 343000\n",
      "First date : 2014-12-28 23:00:04\n",
      "Last date : 2015-02-11 12:21:27\n",
      "FILENAME : 343001-349000.csv.gz\n",
      "Number of transactions : 4014279\n",
      "First block : 343001\n",
      "Last block : 349000\n",
      "First date : 2015-01-30 02:41:44\n",
      "Last date : 2015-03-24 10:59:08\n",
      "FILENAME : 349001-354000.csv.gz\n",
      "Number of transactions : 3602785\n",
      "First block : 349001\n",
      "Last block : 354000\n",
      "First date : 2015-03-22 20:13:14\n",
      "Last date : 2015-04-27 23:53:38\n",
      "FILENAME : 354001-360000.csv.gz\n",
      "Number of transactions : 4389567\n",
      "First block : 354001\n",
      "Last block : 360000\n",
      "First date : 2015-04-22 17:49:15\n",
      "Last date : 2015-06-08 14:08:27\n",
      "FILENAME : 360001-364000.csv.gz\n",
      "Number of transactions : 3278880\n",
      "First block : 360001\n",
      "Last block : 364000\n",
      "First date : 2015-06-04 19:47:52\n",
      "Last date : 2015-07-05 22:45:33\n",
      "FILENAME : 364001-367000.csv.gz\n",
      "Number of transactions : 2693620\n",
      "First block : 364001\n",
      "Last block : 367000\n",
      "First date : 2015-07-04 17:58:29\n",
      "Last date : 2015-07-26 02:55:28\n",
      "FILENAME : 367001-369999.csv.gz\n",
      "Number of transactions : 2427472\n",
      "First block : 367001\n",
      "Last block : 369999\n",
      "First date : 2015-07-24 16:32:21\n",
      "Last date : 2015-08-15 17:51:16\n"
     ]
    }
   ],
   "source": [
    "# Dumps basic infomation using native Pandas\n",
    "print( \"DUMP BASIC INFO FOR EACH FILE\")\n",
    "for filename in os.listdir(DATASET_DIR) :\n",
    "    if( not filename.endswith(\".csv.gz\")):\n",
    "        continue;\n",
    "    print( \"FILENAME : \" + filename )\n",
    "    date_cols = [\"Time\"]\n",
    "    path = os.path.join(DATASET_DIR, filename)\n",
    "    df = pd.read_csv( path,compression=\"gzip\",parse_dates=date_cols)\n",
    "    print( \"Number of transactions : \" + str(df.shape[0]))\n",
    "    print( \"First block : \" + str(df[\"Height\"].min()))\n",
    "    print( \"Last block : \" + str(df[\"Height\"].max()))\n",
    "    print( \"First date : \" + str(df[\"Time\"].min()))\n",
    "    print( \"Last date : \" + str(df[\"Time\"].max()))\n",
    "    del df\n"
   ]
  },
  {
   "cell_type": "code",
   "execution_count": null,
   "metadata": {
    "colab": {
     "base_uri": "https://localhost:8080/"
    },
    "id": "a_8B38HhEcwS",
    "outputId": "217882f9-3fa7-470e-8c61-60fb602e2065"
   },
   "outputs": [
    {
     "name": "stdout",
     "output_type": "stream",
     "text": [
      "DUMP BASIC INFO FOR EACH FILE\n",
      "FILENAME : 0-68732.csv.gz\n"
     ]
    },
    {
     "name": "stderr",
     "output_type": "stream",
     "text": [
      "/usr/local/lib/python3.10/dist-packages/pyspark/pandas/utils.py:1016: PandasAPIOnSparkAdviceWarning: If `index_col` is not specified for `read_csv`, the default index is attached which can cause additional overhead.\n",
      "  warnings.warn(message, PandasAPIOnSparkAdviceWarning)\n"
     ]
    },
    {
     "name": "stdout",
     "output_type": "stream",
     "text": [
      "Number of transactions : 14832\n",
      "First block : 546\n",
      "Last block : 68732\n",
      "First date : 2009-01-15 06:08:20\n",
      "Last date : 2010-07-17 16:54:44\n",
      "FILENAME : 190001-209999.csv.gz\n"
     ]
    },
    {
     "name": "stderr",
     "output_type": "stream",
     "text": [
      "/usr/local/lib/python3.10/dist-packages/pyspark/pandas/utils.py:1016: PandasAPIOnSparkAdviceWarning: If `index_col` is not specified for `read_csv`, the default index is attached which can cause additional overhead.\n",
      "  warnings.warn(message, PandasAPIOnSparkAdviceWarning)\n"
     ]
    },
    {
     "name": "stdout",
     "output_type": "stream",
     "text": [
      "Number of transactions : 4183123\n",
      "First block : 190001\n",
      "Last block : 209999\n",
      "First date : 2012-07-19 09:43:01\n",
      "Last date : 2014-03-12 22:49:29\n",
      "FILENAME : 210000-224000.csv.gz\n"
     ]
    },
    {
     "name": "stderr",
     "output_type": "stream",
     "text": [
      "/usr/local/lib/python3.10/dist-packages/pyspark/pandas/utils.py:1016: PandasAPIOnSparkAdviceWarning: If `index_col` is not specified for `read_csv`, the default index is attached which can cause additional overhead.\n",
      "  warnings.warn(message, PandasAPIOnSparkAdviceWarning)\n"
     ]
    },
    {
     "name": "stdout",
     "output_type": "stream",
     "text": [
      "Number of transactions : 4372368\n",
      "First block : 210000\n",
      "Last block : 224000\n",
      "First date : 2012-09-06 14:25:44\n",
      "Last date : 2014-03-13 09:37:24\n",
      "FILENAME : 224001-234000.csv.gz\n"
     ]
    },
    {
     "name": "stderr",
     "output_type": "stream",
     "text": [
      "/usr/local/lib/python3.10/dist-packages/pyspark/pandas/utils.py:1016: PandasAPIOnSparkAdviceWarning: If `index_col` is not specified for `read_csv`, the default index is attached which can cause additional overhead.\n",
      "  warnings.warn(message, PandasAPIOnSparkAdviceWarning)\n"
     ]
    },
    {
     "name": "stdout",
     "output_type": "stream",
     "text": [
      "Number of transactions : 3268711\n",
      "First block : 224001\n",
      "Last block : 234000\n",
      "First date : 2012-08-24 18:14:12\n",
      "Last date : 2013-05-01 03:47:20\n",
      "FILENAME : 234001-247000.csv.gz\n"
     ]
    },
    {
     "name": "stderr",
     "output_type": "stream",
     "text": [
      "/usr/local/lib/python3.10/dist-packages/pyspark/pandas/utils.py:1016: PandasAPIOnSparkAdviceWarning: If `index_col` is not specified for `read_csv`, the default index is attached which can cause additional overhead.\n",
      "  warnings.warn(message, PandasAPIOnSparkAdviceWarning)\n"
     ]
    },
    {
     "name": "stdout",
     "output_type": "stream",
     "text": [
      "Number of transactions : 3755673\n",
      "First block : 234001\n",
      "Last block : 247000\n",
      "First date : 1972-09-04 19:15:29\n",
      "Last date : 2083-06-22 23:32:50\n",
      "FILENAME : 247001-260000.csv.gz\n"
     ]
    },
    {
     "name": "stderr",
     "output_type": "stream",
     "text": [
      "/usr/local/lib/python3.10/dist-packages/pyspark/pandas/utils.py:1016: PandasAPIOnSparkAdviceWarning: If `index_col` is not specified for `read_csv`, the default index is attached which can cause additional overhead.\n",
      "  warnings.warn(message, PandasAPIOnSparkAdviceWarning)\n"
     ]
    },
    {
     "name": "stdout",
     "output_type": "stream",
     "text": [
      "Number of transactions : 3605859\n",
      "First block : 247001\n",
      "Last block : 260000\n",
      "First date : 2013-07-15 11:31:03\n",
      "Last date : 2014-03-16 01:06:12\n",
      "FILENAME : 260001-270000.csv.gz\n"
     ]
    },
    {
     "name": "stderr",
     "output_type": "stream",
     "text": [
      "/usr/local/lib/python3.10/dist-packages/pyspark/pandas/utils.py:1016: PandasAPIOnSparkAdviceWarning: If `index_col` is not specified for `read_csv`, the default index is attached which can cause additional overhead.\n",
      "  warnings.warn(message, PandasAPIOnSparkAdviceWarning)\n"
     ]
    },
    {
     "name": "stdout",
     "output_type": "stream",
     "text": [
      "Number of transactions : 2769663\n",
      "First block : 260001\n",
      "Last block : 270000\n",
      "First date : 2013-09-23 08:31:57\n",
      "Last date : 2070-04-24 08:28:17\n",
      "FILENAME : 270001-280000.csv.gz\n"
     ]
    },
    {
     "name": "stderr",
     "output_type": "stream",
     "text": [
      "/usr/local/lib/python3.10/dist-packages/pyspark/pandas/utils.py:1016: PandasAPIOnSparkAdviceWarning: If `index_col` is not specified for `read_csv`, the default index is attached which can cause additional overhead.\n",
      "  warnings.warn(message, PandasAPIOnSparkAdviceWarning)\n"
     ]
    },
    {
     "name": "stdout",
     "output_type": "stream",
     "text": [
      "Number of transactions : 3661019\n",
      "First block : 270001\n",
      "Last block : 280000\n",
      "First date : 2013-11-14 13:02:11\n",
      "Last date : 2014-03-16 13:29:27\n",
      "FILENAME : 280001-290000.csv.gz\n"
     ]
    },
    {
     "name": "stderr",
     "output_type": "stream",
     "text": [
      "/usr/local/lib/python3.10/dist-packages/pyspark/pandas/utils.py:1016: PandasAPIOnSparkAdviceWarning: If `index_col` is not specified for `read_csv`, the default index is attached which can cause additional overhead.\n",
      "  warnings.warn(message, PandasAPIOnSparkAdviceWarning)\n"
     ]
    },
    {
     "name": "stdout",
     "output_type": "stream",
     "text": [
      "Number of transactions : 2445208\n",
      "First block : 283895\n",
      "Last block : 290000\n",
      "First date : 2014-02-03 04:53:17\n",
      "Last date : 2014-03-16 13:45:30\n",
      "FILENAME : 290001-300000.csv.gz\n"
     ]
    },
    {
     "name": "stderr",
     "output_type": "stream",
     "text": [
      "/usr/local/lib/python3.10/dist-packages/pyspark/pandas/utils.py:1016: PandasAPIOnSparkAdviceWarning: If `index_col` is not specified for `read_csv`, the default index is attached which can cause additional overhead.\n",
      "  warnings.warn(message, PandasAPIOnSparkAdviceWarning)\n"
     ]
    },
    {
     "name": "stdout",
     "output_type": "stream",
     "text": [
      "Number of transactions : 3848932\n",
      "First block : 290001\n",
      "Last block : 300000\n",
      "First date : 2013-03-18 16:57:27\n",
      "Last date : 2014-05-10 06:32:34\n",
      "FILENAME : 300001-310000.csv.gz\n"
     ]
    },
    {
     "name": "stderr",
     "output_type": "stream",
     "text": [
      "/usr/local/lib/python3.10/dist-packages/pyspark/pandas/utils.py:1016: PandasAPIOnSparkAdviceWarning: If `index_col` is not specified for `read_csv`, the default index is attached which can cause additional overhead.\n",
      "  warnings.warn(message, PandasAPIOnSparkAdviceWarning)\n"
     ]
    },
    {
     "name": "stdout",
     "output_type": "stream",
     "text": [
      "Number of transactions : 3771780\n",
      "First block : 300001\n",
      "Last block : 310000\n",
      "First date : 2014-03-09 19:48:36\n",
      "Last date : 2014-07-09 23:04:51\n",
      "FILENAME : 310001-320000.csv.gz\n"
     ]
    },
    {
     "name": "stderr",
     "output_type": "stream",
     "text": [
      "/usr/local/lib/python3.10/dist-packages/pyspark/pandas/utils.py:1016: PandasAPIOnSparkAdviceWarning: If `index_col` is not specified for `read_csv`, the default index is attached which can cause additional overhead.\n",
      "  warnings.warn(message, PandasAPIOnSparkAdviceWarning)\n"
     ]
    },
    {
     "name": "stdout",
     "output_type": "stream",
     "text": [
      "Number of transactions : 4147030\n",
      "First block : 310001\n",
      "Last block : 320000\n",
      "First date : 2014-07-08 20:02:05\n",
      "Last date : 2014-09-10 13:59:57\n",
      "FILENAME : 320001-329999.csv.gz\n"
     ]
    },
    {
     "name": "stderr",
     "output_type": "stream",
     "text": [
      "/usr/local/lib/python3.10/dist-packages/pyspark/pandas/utils.py:1016: PandasAPIOnSparkAdviceWarning: If `index_col` is not specified for `read_csv`, the default index is attached which can cause additional overhead.\n",
      "  warnings.warn(message, PandasAPIOnSparkAdviceWarning)\n"
     ]
    },
    {
     "name": "stdout",
     "output_type": "stream",
     "text": [
      "Number of transactions : 5006946\n",
      "First block : 320001\n",
      "Last block : 329999\n",
      "First date : 2014-09-06 19:01:22\n",
      "Last date : 2014-11-14 16:39:17\n",
      "FILENAME : 330000-337000.csv.gz\n"
     ]
    },
    {
     "name": "stderr",
     "output_type": "stream",
     "text": [
      "/usr/local/lib/python3.10/dist-packages/pyspark/pandas/utils.py:1016: PandasAPIOnSparkAdviceWarning: If `index_col` is not specified for `read_csv`, the default index is attached which can cause additional overhead.\n",
      "  warnings.warn(message, PandasAPIOnSparkAdviceWarning)\n"
     ]
    },
    {
     "name": "stdout",
     "output_type": "stream",
     "text": [
      "Number of transactions : 4092892\n",
      "First block : 330000\n",
      "Last block : 337000\n",
      "First date : 2014-11-12 23:15:18\n",
      "Last date : 2015-01-01 19:51:07\n",
      "FILENAME : 337001-343000.csv.gz\n"
     ]
    },
    {
     "name": "stderr",
     "output_type": "stream",
     "text": [
      "/usr/local/lib/python3.10/dist-packages/pyspark/pandas/utils.py:1016: PandasAPIOnSparkAdviceWarning: If `index_col` is not specified for `read_csv`, the default index is attached which can cause additional overhead.\n",
      "  warnings.warn(message, PandasAPIOnSparkAdviceWarning)\n"
     ]
    },
    {
     "name": "stdout",
     "output_type": "stream",
     "text": [
      "Number of transactions : 3779208\n",
      "First block : 337001\n",
      "Last block : 343000\n",
      "First date : 2014-12-28 23:00:04\n",
      "Last date : 2015-02-11 12:21:27\n",
      "FILENAME : 343001-349000.csv.gz\n"
     ]
    },
    {
     "name": "stderr",
     "output_type": "stream",
     "text": [
      "/usr/local/lib/python3.10/dist-packages/pyspark/pandas/utils.py:1016: PandasAPIOnSparkAdviceWarning: If `index_col` is not specified for `read_csv`, the default index is attached which can cause additional overhead.\n",
      "  warnings.warn(message, PandasAPIOnSparkAdviceWarning)\n"
     ]
    },
    {
     "name": "stdout",
     "output_type": "stream",
     "text": [
      "Number of transactions : 4014279\n",
      "First block : 343001\n",
      "Last block : 349000\n",
      "First date : 2015-01-30 02:41:44\n",
      "Last date : 2015-03-24 10:59:08\n",
      "FILENAME : 349001-354000.csv.gz\n"
     ]
    },
    {
     "name": "stderr",
     "output_type": "stream",
     "text": [
      "/usr/local/lib/python3.10/dist-packages/pyspark/pandas/utils.py:1016: PandasAPIOnSparkAdviceWarning: If `index_col` is not specified for `read_csv`, the default index is attached which can cause additional overhead.\n",
      "  warnings.warn(message, PandasAPIOnSparkAdviceWarning)\n"
     ]
    },
    {
     "name": "stdout",
     "output_type": "stream",
     "text": [
      "Number of transactions : 3602785\n",
      "First block : 349001\n",
      "Last block : 354000\n",
      "First date : 2015-03-22 20:13:14\n",
      "Last date : 2015-04-27 23:53:38\n",
      "FILENAME : 354001-360000.csv.gz\n"
     ]
    },
    {
     "name": "stderr",
     "output_type": "stream",
     "text": [
      "/usr/local/lib/python3.10/dist-packages/pyspark/pandas/utils.py:1016: PandasAPIOnSparkAdviceWarning: If `index_col` is not specified for `read_csv`, the default index is attached which can cause additional overhead.\n",
      "  warnings.warn(message, PandasAPIOnSparkAdviceWarning)\n"
     ]
    },
    {
     "name": "stdout",
     "output_type": "stream",
     "text": [
      "Number of transactions : 4389567\n",
      "First block : 354001\n",
      "Last block : 360000\n",
      "First date : 2015-04-22 17:49:15\n",
      "Last date : 2015-06-08 14:08:27\n",
      "FILENAME : 360001-364000.csv.gz\n"
     ]
    },
    {
     "name": "stderr",
     "output_type": "stream",
     "text": [
      "/usr/local/lib/python3.10/dist-packages/pyspark/pandas/utils.py:1016: PandasAPIOnSparkAdviceWarning: If `index_col` is not specified for `read_csv`, the default index is attached which can cause additional overhead.\n",
      "  warnings.warn(message, PandasAPIOnSparkAdviceWarning)\n"
     ]
    },
    {
     "name": "stdout",
     "output_type": "stream",
     "text": [
      "Number of transactions : 3278880\n",
      "First block : 360001\n",
      "Last block : 364000\n",
      "First date : 2015-06-04 19:47:52\n",
      "Last date : 2015-07-05 22:45:33\n",
      "FILENAME : 364001-367000.csv.gz\n"
     ]
    },
    {
     "name": "stderr",
     "output_type": "stream",
     "text": [
      "/usr/local/lib/python3.10/dist-packages/pyspark/pandas/utils.py:1016: PandasAPIOnSparkAdviceWarning: If `index_col` is not specified for `read_csv`, the default index is attached which can cause additional overhead.\n",
      "  warnings.warn(message, PandasAPIOnSparkAdviceWarning)\n"
     ]
    },
    {
     "name": "stdout",
     "output_type": "stream",
     "text": [
      "Number of transactions : 2693620\n",
      "First block : 364001\n",
      "Last block : 367000\n",
      "First date : 2015-07-04 17:58:29\n",
      "Last date : 2015-07-26 02:55:28\n",
      "FILENAME : 367001-369999.csv.gz\n"
     ]
    },
    {
     "name": "stderr",
     "output_type": "stream",
     "text": [
      "/usr/local/lib/python3.10/dist-packages/pyspark/pandas/utils.py:1016: PandasAPIOnSparkAdviceWarning: If `index_col` is not specified for `read_csv`, the default index is attached which can cause additional overhead.\n",
      "  warnings.warn(message, PandasAPIOnSparkAdviceWarning)\n"
     ]
    },
    {
     "name": "stdout",
     "output_type": "stream",
     "text": [
      "Number of transactions : 2427472\n",
      "First block : 367001\n",
      "Last block : 369999\n",
      "First date : 2015-07-24 16:32:21\n",
      "Last date : 2015-08-15 17:51:16\n"
     ]
    }
   ],
   "source": [
    "# Dumps basic infomation using Spark Pandas API\n",
    "spark = SparkSession \\\n",
    "    .builder \\\n",
    "    .master(\"local[*]\") \\\n",
    "    .appName(\"Group project\") \\\n",
    "    .getOrCreate()\n",
    "\n",
    "# Dumps basic infomation using native Pandas\n",
    "print( \"DUMP BASIC INFO FOR EACH FILE\")\n",
    "for filename in os.listdir(DATASET_DIR) :\n",
    "    if( not filename.endswith(\".csv.gz\")):\n",
    "        continue;\n",
    "    print( \"FILENAME : \" + filename )\n",
    "    path = os.path.join(DATASET_DIR, filename)\n",
    "    df = ps.read_csv( path,compression=\"gzip\")\n",
    "    print( \"Number of transactions : \" + str(df.shape[0]))\n",
    "    print( \"First block : \" + str(df[\"Height\"].min()))\n",
    "    print( \"Last block : \" + str(df[\"Height\"].max()))\n",
    "    print( \"First date : \" + str(df[\"Time\"].min()))\n",
    "    print( \"Last date : \" + str(df[\"Time\"].max()))\n",
    "    del df\n"
   ]
  },
  {
   "cell_type": "code",
   "execution_count": null,
   "metadata": {
    "colab": {
     "base_uri": "https://localhost:8080/"
    },
    "id": "2sk0A6iIEcwS",
    "outputId": "41d24019-cf91-4551-f802-5a4d8f22bcf5"
   },
   "outputs": [
    {
     "name": "stdout",
     "output_type": "stream",
     "text": [
      "DUMP BASIC INFO FOR EACH FILE\n",
      "FILENAME : 0-68732.csv.gz\n",
      "+----------------+-----------+----------+-------------------+-------------------+\n",
      "|num_transactions|first_block|last_block|         first_time|          last_time|\n",
      "+----------------+-----------+----------+-------------------+-------------------+\n",
      "|           14832|        546|     68732|2009-01-15 06:08:20|2010-07-17 16:54:44|\n",
      "+----------------+-----------+----------+-------------------+-------------------+\n",
      "\n",
      "FILENAME : 190001-209999.csv.gz\n",
      "+----------------+-----------+----------+-------------------+-------------------+\n",
      "|num_transactions|first_block|last_block|         first_time|          last_time|\n",
      "+----------------+-----------+----------+-------------------+-------------------+\n",
      "|         4183123|     190001|    209999|2012-07-19 09:43:01|2014-03-12 22:49:29|\n",
      "+----------------+-----------+----------+-------------------+-------------------+\n",
      "\n",
      "FILENAME : 210000-224000.csv.gz\n",
      "+----------------+-----------+----------+-------------------+-------------------+\n",
      "|num_transactions|first_block|last_block|         first_time|          last_time|\n",
      "+----------------+-----------+----------+-------------------+-------------------+\n",
      "|         4372368|     210000|    224000|2012-09-06 14:25:44|2014-03-13 09:37:24|\n",
      "+----------------+-----------+----------+-------------------+-------------------+\n",
      "\n",
      "FILENAME : 224001-234000.csv.gz\n",
      "+----------------+-----------+----------+-------------------+-------------------+\n",
      "|num_transactions|first_block|last_block|         first_time|          last_time|\n",
      "+----------------+-----------+----------+-------------------+-------------------+\n",
      "|         3268711|     224001|    234000|2012-08-24 18:14:12|2013-05-01 03:47:20|\n",
      "+----------------+-----------+----------+-------------------+-------------------+\n",
      "\n",
      "FILENAME : 234001-247000.csv.gz\n",
      "+----------------+-----------+----------+-------------------+-------------------+\n",
      "|num_transactions|first_block|last_block|         first_time|          last_time|\n",
      "+----------------+-----------+----------+-------------------+-------------------+\n",
      "|         3755673|     234001|    247000|1972-09-04 19:15:29|2083-06-22 23:32:50|\n",
      "+----------------+-----------+----------+-------------------+-------------------+\n",
      "\n",
      "FILENAME : 247001-260000.csv.gz\n",
      "+----------------+-----------+----------+-------------------+-------------------+\n",
      "|num_transactions|first_block|last_block|         first_time|          last_time|\n",
      "+----------------+-----------+----------+-------------------+-------------------+\n",
      "|         3605859|     247001|    260000|2013-07-15 11:31:03|2014-03-16 01:06:12|\n",
      "+----------------+-----------+----------+-------------------+-------------------+\n",
      "\n",
      "FILENAME : 260001-270000.csv.gz\n",
      "+----------------+-----------+----------+-------------------+-------------------+\n",
      "|num_transactions|first_block|last_block|         first_time|          last_time|\n",
      "+----------------+-----------+----------+-------------------+-------------------+\n",
      "|         2769663|     260001|    270000|2013-09-23 08:31:57|2070-04-24 08:28:17|\n",
      "+----------------+-----------+----------+-------------------+-------------------+\n",
      "\n",
      "FILENAME : 270001-280000.csv.gz\n",
      "+----------------+-----------+----------+-------------------+-------------------+\n",
      "|num_transactions|first_block|last_block|         first_time|          last_time|\n",
      "+----------------+-----------+----------+-------------------+-------------------+\n",
      "|         3661019|     270001|    280000|2013-11-14 13:02:11|2014-03-16 13:29:27|\n",
      "+----------------+-----------+----------+-------------------+-------------------+\n",
      "\n",
      "FILENAME : 280001-290000.csv.gz\n",
      "+----------------+-----------+----------+-------------------+-------------------+\n",
      "|num_transactions|first_block|last_block|         first_time|          last_time|\n",
      "+----------------+-----------+----------+-------------------+-------------------+\n",
      "|         2445208|     283895|    290000|2014-02-03 04:53:17|2014-03-16 13:45:30|\n",
      "+----------------+-----------+----------+-------------------+-------------------+\n",
      "\n",
      "FILENAME : 290001-300000.csv.gz\n",
      "+----------------+-----------+----------+-------------------+-------------------+\n",
      "|num_transactions|first_block|last_block|         first_time|          last_time|\n",
      "+----------------+-----------+----------+-------------------+-------------------+\n",
      "|         3848932|     290001|    300000|2013-03-18 16:57:27|2014-05-10 06:32:34|\n",
      "+----------------+-----------+----------+-------------------+-------------------+\n",
      "\n",
      "FILENAME : 300001-310000.csv.gz\n",
      "+----------------+-----------+----------+-------------------+-------------------+\n",
      "|num_transactions|first_block|last_block|         first_time|          last_time|\n",
      "+----------------+-----------+----------+-------------------+-------------------+\n",
      "|         3771780|     300001|    310000|2014-03-09 19:48:36|2014-07-09 23:04:51|\n",
      "+----------------+-----------+----------+-------------------+-------------------+\n",
      "\n",
      "FILENAME : 310001-320000.csv.gz\n",
      "+----------------+-----------+----------+-------------------+-------------------+\n",
      "|num_transactions|first_block|last_block|         first_time|          last_time|\n",
      "+----------------+-----------+----------+-------------------+-------------------+\n",
      "|         4147030|     310001|    320000|2014-07-08 20:02:05|2014-09-10 13:59:57|\n",
      "+----------------+-----------+----------+-------------------+-------------------+\n",
      "\n",
      "FILENAME : 320001-329999.csv.gz\n",
      "+----------------+-----------+----------+-------------------+-------------------+\n",
      "|num_transactions|first_block|last_block|         first_time|          last_time|\n",
      "+----------------+-----------+----------+-------------------+-------------------+\n",
      "|         5006946|     320001|    329999|2014-09-06 19:01:22|2014-11-14 16:39:17|\n",
      "+----------------+-----------+----------+-------------------+-------------------+\n",
      "\n",
      "FILENAME : 330000-337000.csv.gz\n",
      "+----------------+-----------+----------+-------------------+-------------------+\n",
      "|num_transactions|first_block|last_block|         first_time|          last_time|\n",
      "+----------------+-----------+----------+-------------------+-------------------+\n",
      "|         4092892|     330000|    337000|2014-11-12 23:15:18|2015-01-01 19:51:07|\n",
      "+----------------+-----------+----------+-------------------+-------------------+\n",
      "\n",
      "FILENAME : 337001-343000.csv.gz\n",
      "+----------------+-----------+----------+-------------------+-------------------+\n",
      "|num_transactions|first_block|last_block|         first_time|          last_time|\n",
      "+----------------+-----------+----------+-------------------+-------------------+\n",
      "|         3779208|     337001|    343000|2014-12-28 23:00:04|2015-02-11 12:21:27|\n",
      "+----------------+-----------+----------+-------------------+-------------------+\n",
      "\n",
      "FILENAME : 343001-349000.csv.gz\n",
      "+----------------+-----------+----------+-------------------+-------------------+\n",
      "|num_transactions|first_block|last_block|         first_time|          last_time|\n",
      "+----------------+-----------+----------+-------------------+-------------------+\n",
      "|         4014279|     343001|    349000|2015-01-30 02:41:44|2015-03-24 10:59:08|\n",
      "+----------------+-----------+----------+-------------------+-------------------+\n",
      "\n",
      "FILENAME : 349001-354000.csv.gz\n",
      "+----------------+-----------+----------+-------------------+-------------------+\n",
      "|num_transactions|first_block|last_block|         first_time|          last_time|\n",
      "+----------------+-----------+----------+-------------------+-------------------+\n",
      "|         3602785|     349001|    354000|2015-03-22 20:13:14|2015-04-27 23:53:38|\n",
      "+----------------+-----------+----------+-------------------+-------------------+\n",
      "\n",
      "FILENAME : 354001-360000.csv.gz\n",
      "+----------------+-----------+----------+-------------------+-------------------+\n",
      "|num_transactions|first_block|last_block|         first_time|          last_time|\n",
      "+----------------+-----------+----------+-------------------+-------------------+\n",
      "|         4389567|     354001|    360000|2015-04-22 17:49:15|2015-06-08 14:08:27|\n",
      "+----------------+-----------+----------+-------------------+-------------------+\n",
      "\n",
      "FILENAME : 360001-364000.csv.gz\n",
      "+----------------+-----------+----------+-------------------+-------------------+\n",
      "|num_transactions|first_block|last_block|         first_time|          last_time|\n",
      "+----------------+-----------+----------+-------------------+-------------------+\n",
      "|         3278880|     360001|    364000|2015-06-04 19:47:52|2015-07-05 22:45:33|\n",
      "+----------------+-----------+----------+-------------------+-------------------+\n",
      "\n",
      "FILENAME : 364001-367000.csv.gz\n",
      "+----------------+-----------+----------+-------------------+-------------------+\n",
      "|num_transactions|first_block|last_block|         first_time|          last_time|\n",
      "+----------------+-----------+----------+-------------------+-------------------+\n",
      "|         2693620|     364001|    367000|2015-07-04 17:58:29|2015-07-26 02:55:28|\n",
      "+----------------+-----------+----------+-------------------+-------------------+\n",
      "\n",
      "FILENAME : 367001-369999.csv.gz\n",
      "+----------------+-----------+----------+-------------------+-------------------+\n",
      "|num_transactions|first_block|last_block|         first_time|          last_time|\n",
      "+----------------+-----------+----------+-------------------+-------------------+\n",
      "|         2427472|     367001|    369999|2015-07-24 16:32:21|2015-08-15 17:51:16|\n",
      "+----------------+-----------+----------+-------------------+-------------------+\n",
      "\n"
     ]
    }
   ],
   "source": [
    "# Dumps basic infomation using Spark Dataframe load\n",
    "spark = SparkSession \\\n",
    "    .builder \\\n",
    "    .master(\"local[*]\") \\\n",
    "    .appName(\"Group project\") \\\n",
    "    .getOrCreate()\n",
    "\n",
    "# Dumps basic infomation using native Pandas\n",
    "print( \"DUMP BASIC INFO FOR EACH FILE\")\n",
    "for filename in os.listdir(DATASET_DIR) :\n",
    "    if( not filename.endswith(\".csv.gz\")):\n",
    "        continue;\n",
    "    print( \"FILENAME : \" + filename )\n",
    "    path = os.path.join(DATASET_DIR, filename)\n",
    "    mySchema = StructType([\n",
    "        StructField(\"TxId\", StringType()),\n",
    "        StructField(\"Height\", IntegerType()),\n",
    "        StructField(\"Input\", StringType()),\n",
    "        StructField(\"Output\", StringType()),\n",
    "        StructField(\"Sum\", StringType()),\n",
    "        StructField(\"Time\", TimestampType()),\n",
    "    ])\n",
    "\n",
    "    dataset = spark.read.load(path, format=\"csv\", compression=\"gzip\",\n",
    "                         sep=\",\", schema=mySchema, header=\"true\")\n",
    "    dataset.createOrReplaceTempView(\"data\")\n",
    "\n",
    "    statistics = spark.sql( \"\"\"SELECT COUNT( *) AS num_transactions,\n",
    "                                  MIN( Height) AS first_block,\n",
    "                                  MAX( Height) AS last_block,\n",
    "                                  MIN( Time) AS first_time,\n",
    "                                  MAX( Time) AS last_time\n",
    "                                  FROM data\"\"\")\n",
    "    statistics.show()\n"
   ]
  },
  {
   "cell_type": "markdown",
   "metadata": {
    "id": "RUgHRRgcEcwS"
   },
   "source": [
    "### Prepocessing a dataset file\n",
    "\n",
    "For simplifying the processing, we will split the transactions dataframe into the following dataframes:\n",
    "\n",
    "* **inputDF**, includes the index of the transaction, one input address, the sum and the time.\n",
    "* **outputDF**, includes the index of the transaction, one output address, the output value, the sum and the time.\n",
    "* **transactionDF**, includes the index of the transaction, the sum and the time."
   ]
  },
  {
   "cell_type": "code",
   "execution_count": null,
   "metadata": {
    "colab": {
     "base_uri": "https://localhost:8080/"
    },
    "id": "Q9oE0zvhEcwS",
    "outputId": "8cb14597-a234-4f5f-f675-c0308c6a7bf0"
   },
   "outputs": [
    {
     "name": "stdout",
     "output_type": "stream",
     "text": [
      "TxId              object\n",
      "Height             int64\n",
      "Input             object\n",
      "Sum              float64\n",
      "Time      datetime64[ns]\n",
      "dtype: object\n",
      "TxId              object\n",
      "Height             int64\n",
      "Output            object\n",
      "Sum              float64\n",
      "Time      datetime64[ns]\n",
      "Value             object\n",
      "dtype: object\n",
      "TxId              object\n",
      "Height             int64\n",
      "Sum              float64\n",
      "Time      datetime64[ns]\n",
      "dtype: object\n"
     ]
    }
   ],
   "source": [
    "date_cols = [\"Time\"]\n",
    "path = os.path.join(DATASET_DIR, TXDATA_FILE)\n",
    "df = pd.read_csv( path,compression=\"gzip\",parse_dates=date_cols)\n",
    "\n",
    "df['Input'] = df['Input'].apply(ast.literal_eval)\n",
    "df['Output'] = df['Output'].apply(ast.literal_eval)\n",
    "\n",
    "inputDF = df[[\"TxId\",\"Height\",\"Input\",\"Sum\",\"Time\"]].explode(\"Input\")\n",
    "print(inputDF.dtypes)\n",
    "\n",
    "outputDF = df[[\"TxId\",\"Height\",\"Output\",\"Sum\",\"Time\"]].explode(\"Output\")\n",
    "outputDF[[\"Output\",\"Value\"]] = outputDF[\"Output\"].to_list()\n",
    "print(outputDF.dtypes)\n",
    "\n",
    "transactionDF = df[[\"TxId\",\"Height\",\"Sum\",\"Time\"]]\n",
    "print(transactionDF.dtypes)"
   ]
  },
  {
   "cell_type": "markdown",
   "metadata": {
    "id": "USy7wswvEcwS"
   },
   "source": [
    "We repeat the same computation in Spark SQL, creating views with the same names."
   ]
  },
  {
   "cell_type": "code",
   "execution_count": null,
   "metadata": {
    "colab": {
     "base_uri": "https://localhost:8080/"
    },
    "id": "v-x6lsu9EcwT",
    "outputId": "ae5dc157-2250-48f4-92c6-202fab3d1c58"
   },
   "outputs": [
    {
     "name": "stdout",
     "output_type": "stream",
     "text": [
      "root\n",
      " |-- txid: string (nullable = true)\n",
      " |-- height: integer (nullable = true)\n",
      " |-- input: string (nullable = false)\n",
      " |-- sum: float (nullable = true)\n",
      " |-- time: timestamp (nullable = true)\n",
      "\n",
      "root\n",
      " |-- txid: string (nullable = true)\n",
      " |-- height: integer (nullable = true)\n",
      " |-- output: string (nullable = true)\n",
      " |-- sum: float (nullable = true)\n",
      " |-- time: timestamp (nullable = true)\n",
      " |-- value: float (nullable = true)\n",
      "\n",
      "root\n",
      " |-- txid: string (nullable = true)\n",
      " |-- height: integer (nullable = true)\n",
      " |-- sum: float (nullable = true)\n",
      " |-- time: timestamp (nullable = true)\n",
      "\n"
     ]
    }
   ],
   "source": [
    "spark = SparkSession \\\n",
    "    .builder \\\n",
    "    .master(\"local[*]\") \\\n",
    "    .appName(\"Group project\") \\\n",
    "    .getOrCreate()\n",
    "\n",
    "path = os.path.join(DATASET_DIR, TXDATA_FILE)\n",
    "mySchema = StructType([\n",
    "    StructField(\"TxId\", StringType()),\n",
    "    StructField(\"Height\", IntegerType()),\n",
    "    StructField(\"Input\", StringType()),\n",
    "    StructField(\"Output\", StringType()),\n",
    "    StructField(\"Sum\", FloatType()),\n",
    "    StructField(\"Time\", TimestampType()),\n",
    "])\n",
    "\n",
    "dataset = spark.read.load(path, format=\"csv\", compression=\"gzip\",\n",
    "                         sep=\",\", schema=mySchema, header=\"true\")\n",
    "dataset = dataset.withColumn(\"Input\",split(regexp_replace(\"Input\",\"[\\[\\s\\]]\",\"\"),\"\\,\"))\n",
    "dataset = dataset.withColumn(\"Output\",split(\"Output\",\"\\]\\, \\[\"))\n",
    "dataset.createOrReplaceTempView(\"data\")\n",
    "\n",
    "inputSDF = spark.sql( \"\"\"SELECT txid, height, EXPLODE(input) AS input, sum, time\n",
    "                                  FROM data\"\"\")\n",
    "inputSDF.createOrReplaceTempView(\"input\")\n",
    "inputSDF.printSchema()\n",
    "\n",
    "\n",
    "outputSDF = spark.sql( \"\"\"SELECT txid, height, EXPLODE(output) AS output, sum, time\n",
    "                                      FROM data\"\"\")\n",
    "outputSDF = outputSDF.withColumn(\"output\",split(regexp_replace(\"output\",\"[\\[\\]]\",\"\"),\"\\,\"))\n",
    "outputSDF = outputSDF.withColumn(\"value\",expr(\"CAST(output[1] AS FLOAT)\"))\n",
    "outputSDF = outputSDF.withColumn(\"output\",expr(\"output[0]\"))\n",
    "outputSDF.createOrReplaceTempView(\"output\")\n",
    "outputSDF.printSchema()\n",
    "\n",
    "transactionSDF = spark.sql( \"\"\"SELECT txid, height, sum, time\n",
    "                                  FROM data\"\"\")\n",
    "transactionSDF.createOrReplaceTempView(\"transaction\")\n",
    "transactionSDF.printSchema()\n"
   ]
  },
  {
   "cell_type": "markdown",
   "metadata": {
    "id": "w5hO6jJSm2Vn"
   },
   "source": [
    "### Bitcoin price\n",
    "\n",
    "This dataset has, for each day, the USD price of one bitcoin. The file is ```btc_price.csv```.\n"
   ]
  },
  {
   "cell_type": "code",
   "execution_count": null,
   "metadata": {
    "colab": {
     "base_uri": "https://localhost:8080/"
    },
    "id": "yVtAwccQm2Vo",
    "outputId": "5e6ab499-a9cb-424e-804d-5026a3d54b78",
    "tags": []
   },
   "outputs": [
    {
     "name": "stdout",
     "output_type": "stream",
     "text": [
      "           Date    Price\n",
      "0    2009-01-15      0.1\n",
      "1    2009-01-16      0.1\n",
      "2    2009-01-17      0.1\n",
      "3    2009-01-18      0.1\n",
      "4    2009-01-19      0.1\n",
      "...         ...      ...\n",
      "5417 2023-11-15  37874.9\n",
      "5418 2023-11-16  36161.2\n",
      "5419 2023-11-17  36595.4\n",
      "5420 2023-11-18  36568.6\n",
      "5421 2023-11-19  36792.1\n",
      "\n",
      "[5422 rows x 2 columns]\n"
     ]
    },
    {
     "data": {
      "text/plain": [
       "Date     datetime64[ns]\n",
       "Price           float64\n",
       "dtype: object"
      ]
     },
     "execution_count": 11,
     "metadata": {},
     "output_type": "execute_result"
    }
   ],
   "source": [
    "date_cols = [\"Date\"]\n",
    "path = os.path.join(DATASET_DIR, BTCPRICE_FILE)\n",
    "\n",
    "priceDF = pd.read_csv( path,parse_dates=date_cols)\n",
    "print(priceDF)\n",
    "priceDF.dtypes\n"
   ]
  },
  {
   "cell_type": "markdown",
   "metadata": {
    "id": "7jWUcrV_m2Vo"
   },
   "source": [
    "### Bitcoin tags\n",
    "\n",
    "This dataset includes a set of files with different types of addresses.\n",
    "Currently there are several files for different types of entities.\n",
    "\n",
    "A new dataset file, easier to process, will be made available soon in the same directory.\n"
   ]
  },
  {
   "cell_type": "markdown",
   "metadata": {
    "id": "EMxHiZm-2TMF"
   },
   "source": [
    "## Exercise 0 [1 point]\n",
    "\n",
    "This example computes, for each address, the number of transactions in which the address has been involved.\n",
    "\n",
    "We have the code using Spark and Pandas, printing the time for doing the computation.\n",
    "**Draw some conclusions** by comparing the time for performing the computation using Spark and Pandas, and also when using the different datasets - **Make sure you run each cell more than once and write down the last value**."
   ]
  },
  {
   "cell_type": "markdown",
   "metadata": {
    "id": "XGTMYKxV7n-U"
   },
   "source": [
    "### Pandas code"
   ]
  },
  {
   "cell_type": "code",
   "execution_count": null,
   "metadata": {
    "colab": {
     "base_uri": "https://localhost:8080/"
    },
    "id": "WD1vz2Ha7ray",
    "outputId": "bbda66f1-5ad6-4e30-dff8-cece557cd5a7"
   },
   "outputs": [
    {
     "name": "stdout",
     "output_type": "stream",
     "text": [
      "                                    cnt_in  cnt_out     cnt\n",
      "18gBZnsuSrhYLjvPUgwvDUJmksfREUGBTT    10.0   3658.0  3668.0\n",
      "1XPTgDRhN8RFnzniWCddobD9iKZatrvH4     12.0   3125.0  3137.0\n",
      "1BiRpMGDef8rEDZU6RArzYmBGATQSG1zQp     6.0    594.0   600.0\n",
      "15jJwkaxssfrq6jo82tRbHBorvfQ46GgpC     6.0    306.0   312.0\n",
      "1JC495jBZFoYnoHEbej8gCgZTBxQpAM6ma     1.0    207.0   208.0\n",
      "15VjRaDX9zpbA8LVnbrCAFzrVzN7ixHNsC    93.0    109.0   202.0\n",
      "1FeFgJRvCYUTCBj1u696eL23xpAdNB4B8p     1.0    146.0   147.0\n",
      "1HrR42k1JRLFvWJcmauqKuRG43ACg2pJRV    10.0    137.0   147.0\n",
      "16RCdSYjvj6PpCcbAWVzoArQaYVz3Tf5W4    43.0     83.0   126.0\n",
      "18NJ1NWoZd9RGrWYpmU6A7BgQddz7oT1bk    16.0    106.0   122.0\n",
      "Runtime = 0.585313081741333\n"
     ]
    }
   ],
   "source": [
    "start_time = time.time()\n",
    "\n",
    "date_cols = [\"Time\"]\n",
    "path = os.path.join(DATASET_DIR, TXDATA_FILE)\n",
    "df = pd.read_csv( path,compression=\"gzip\",parse_dates=date_cols)\n",
    "\n",
    "df['Input'] = df['Input'].apply(ast.literal_eval)\n",
    "df['Output'] = df['Output'].apply(ast.literal_eval)\n",
    "\n",
    "inputDF = df[[\"TxId\",\"Height\",\"Input\",\"Sum\",\"Time\"]].explode(\"Input\")\n",
    "\n",
    "outputDF = df[[\"TxId\",\"Height\",\"Output\",\"Sum\",\"Time\"]].explode(\"Output\")\n",
    "outputDF[[\"Output\",\"Value\"]] = outputDF[\"Output\"].to_list()\n",
    "\n",
    "addr_in = inputDF[['Input','TxId']].groupby('Input').count().rename(columns={'TxId':\"cnt_in\"})\n",
    "addr_out = outputDF[['Output','TxId']].groupby('Output').count().rename(columns={'TxId':\"cnt_out\"})\n",
    "addr=addr_in.join(addr_out,how=\"outer\").fillna(0)\n",
    "addr[\"cnt\"] = addr[\"cnt_in\"] + addr[\"cnt_out\"]\n",
    "print(addr.nlargest(10,\"cnt\"))\n",
    "\n",
    "\n",
    "end_time = time.time()\n",
    "\n",
    "print( \"Runtime = \" + str(end_time - start_time))\n"
   ]
  },
  {
   "cell_type": "code",
   "execution_count": null,
   "metadata": {
    "colab": {
     "base_uri": "https://localhost:8080/"
    },
    "id": "sxC5Fd8IOuQJ",
    "outputId": "345a21f9-aba6-46ca-b163-86b5d3aedf3a"
   },
   "outputs": [
    {
     "name": "stdout",
     "output_type": "stream",
     "text": [
      "                                      cnt_in   cnt_out       cnt\n",
      "1dice8EMZmqKvrGE4Qc9bUFf9PX3xaYDp   360501.0  359025.0  719526.0\n",
      "1dice97ECuByXAvqXpaYzSaQuPVvrtmz6   273140.0  272816.0  545956.0\n",
      "1dice7W2AicHosf5EL3GFDUVga7TgtPFn   126485.0  126751.0  253236.0\n",
      "1dice9wcMu5hLF4g81u8nioL5mmSHTApw   121250.0  121327.0  242577.0\n",
      "1dice7fUkz5h4z2wPc1wLMPWgB5mDwKDx    93528.0   93880.0  187408.0\n",
      "1VayNert3x1KzbpzMGt2qdqrAThiRovi8    73204.0   73972.0  147176.0\n",
      "1diceDCd27Cc22HV3qPNZKwGnZ8QwhLTc    70278.0   70243.0  140521.0\n",
      "1sLiMbvDGgJjKKzUYsJ2QB9MXiHeeRnCD    62974.0   65559.0  128533.0\n",
      "1dice6YgEVBf88erBFra9BHf6ZMoyvG88    60662.0   60991.0  121653.0\n",
      "1Bd5wrFxHYRkk4UCFttcPNMYzqJnQKfXUE   58410.0   61804.0  120214.0\n",
      "Runtime = 269.5265197753906\n"
     ]
    }
   ],
   "source": [
    "start_time = time.time()\n",
    "\n",
    "date_cols = [\"Time\"]\n",
    "path = os.path.join(DATASET_DIR, LGDATA_FILE)\n",
    "df = pd.read_csv( path,compression=\"gzip\",parse_dates=date_cols)\n",
    "\n",
    "df['Input'] = df['Input'].apply(ast.literal_eval)\n",
    "df['Output'] = df['Output'].apply(ast.literal_eval)\n",
    "\n",
    "inputDF = df[[\"TxId\",\"Height\",\"Input\",\"Sum\",\"Time\"]].explode(\"Input\")\n",
    "\n",
    "outputDF = df[[\"TxId\",\"Height\",\"Output\",\"Sum\",\"Time\"]].explode(\"Output\")\n",
    "outputDF[[\"Output\",\"Value\"]] = outputDF[\"Output\"].to_list()\n",
    "\n",
    "addr_in = inputDF[['Input','TxId']].groupby('Input').count().rename(columns={'TxId':\"cnt_in\"})\n",
    "addr_out = outputDF[['Output','TxId']].groupby('Output').count().rename(columns={'TxId':\"cnt_out\"})\n",
    "addr=addr_in.join(addr_out,how=\"outer\").fillna(0)\n",
    "addr[\"cnt\"] = addr[\"cnt_in\"] + addr[\"cnt_out\"]\n",
    "print(addr.nlargest(10,\"cnt\"))\n",
    "\n",
    "\n",
    "end_time = time.time()\n",
    "\n",
    "print( \"Runtime = \" + str(end_time - start_time))\n"
   ]
  },
  {
   "cell_type": "markdown",
   "metadata": {
    "id": "FAMxFNXT7rwu"
   },
   "source": [
    "### Results (Pandas)\n",
    "\n",
    "The time to process the small dataset was : **0.59** seconds.\n",
    "\n",
    "The time to process the large dataset was : **270** seconds."
   ]
  },
  {
   "cell_type": "markdown",
   "metadata": {
    "id": "ASS443Y77Qo2"
   },
   "source": [
    "### Spark SQL code"
   ]
  },
  {
   "cell_type": "code",
   "execution_count": null,
   "metadata": {
    "colab": {
     "base_uri": "https://localhost:8080/"
    },
    "id": "RryvCjhdEcwT",
    "outputId": "c90375a6-cb1f-4410-be6d-db43528969e4"
   },
   "outputs": [
    {
     "name": "stdout",
     "output_type": "stream",
     "text": [
      "+------------------------------------+----+------+-------+\n",
      "|addr                                |cnt |cnt_in|cnt_out|\n",
      "+------------------------------------+----+------+-------+\n",
      "|'18gBZnsuSrhYLjvPUgwvDUJmksfREUGBTT'|3668|10    |3658   |\n",
      "|'1XPTgDRhN8RFnzniWCddobD9iKZatrvH4' |3137|12    |3125   |\n",
      "|'1BiRpMGDef8rEDZU6RArzYmBGATQSG1zQp'|600 |6     |594    |\n",
      "|'15jJwkaxssfrq6jo82tRbHBorvfQ46GgpC'|312 |6     |306    |\n",
      "|'1JC495jBZFoYnoHEbej8gCgZTBxQpAM6ma'|208 |1     |207    |\n",
      "|'15VjRaDX9zpbA8LVnbrCAFzrVzN7ixHNsC'|202 |93    |109    |\n",
      "|'1FeFgJRvCYUTCBj1u696eL23xpAdNB4B8p'|147 |1     |146    |\n",
      "|'1HrR42k1JRLFvWJcmauqKuRG43ACg2pJRV'|147 |10    |137    |\n",
      "|'16RCdSYjvj6PpCcbAWVzoArQaYVz3Tf5W4'|126 |43    |83     |\n",
      "|'18NJ1NWoZd9RGrWYpmU6A7BgQddz7oT1bk'|122 |16    |106    |\n",
      "+------------------------------------+----+------+-------+\n",
      "\n",
      "Runtime = 1.1753313541412354\n"
     ]
    }
   ],
   "source": [
    "spark = SparkSession \\\n",
    "    .builder \\\n",
    "    .master(\"local[*]\") \\\n",
    "    .appName(\"Group project\") \\\n",
    "    .getOrCreate()\n",
    "\n",
    "start_time = time.time()\n",
    "\n",
    "path = os.path.join(DATASET_DIR, TXDATA_FILE)\n",
    "mySchema = StructType([\n",
    "    StructField(\"TxId\", StringType()),\n",
    "    StructField(\"Height\", IntegerType()),\n",
    "    StructField(\"Input\", StringType()),\n",
    "    StructField(\"Output\", StringType()),\n",
    "    StructField(\"Sum\", FloatType()),\n",
    "    StructField(\"Time\", TimestampType()),\n",
    "])\n",
    "\n",
    "dataset = spark.read.load(path, format=\"csv\", compression=\"gzip\",\n",
    "                         sep=\",\", schema=mySchema, header=\"true\")\n",
    "dataset = dataset.withColumn(\"Input\",split(regexp_replace(\"Input\",\"[\\[\\s\\]]\",\"\"),\"\\,\"))\n",
    "dataset = dataset.withColumn(\"Output\",split(\"Output\",\"\\]\\, \\[\"))\n",
    "dataset.createOrReplaceTempView(\"data\")\n",
    "\n",
    "inputSDF = spark.sql( \"\"\"SELECT txid, height, EXPLODE(input) AS input, sum, time\n",
    "                                  FROM data\"\"\")\n",
    "inputSDF.createOrReplaceTempView(\"input\")\n",
    "\n",
    "outputSDF = spark.sql( \"\"\"SELECT txid, height, EXPLODE(output) AS output, sum, time\n",
    "                                      FROM data\"\"\")\n",
    "outputSDF = outputSDF.withColumn(\"output\",split(regexp_replace(\"output\",\"[\\[\\]]\",\"\"),\"\\,\"))\n",
    "outputSDF = outputSDF.withColumn(\"value\",expr(\"CAST(output[1] AS FLOAT)\"))\n",
    "outputSDF = outputSDF.withColumn(\"output\",expr(\"output[0]\"))\n",
    "outputSDF.createOrReplaceTempView(\"output\")\n",
    "\n",
    "spark.sql( \"\"\"SELECT i.addr, cnt_in + cnt_out AS cnt, cnt_in, cnt_out FROM (\n",
    "              (SELECT input AS addr, COUNT(*) AS cnt_in FROM input GROUP BY input) i FULL OUTER JOIN\n",
    "              (SELECT output AS addr, COUNT(*) AS cnt_out FROM output GROUP BY output) o ON i.addr = o.addr)\n",
    "                ORDER BY cnt DESC\n",
    "                LIMIT 10\"\"\").show(truncate=False)\n",
    "end_time = time.time()\n",
    "\n",
    "print( \"Runtime = \" + str(end_time - start_time))\n"
   ]
  },
  {
   "cell_type": "code",
   "execution_count": null,
   "metadata": {
    "colab": {
     "base_uri": "https://localhost:8080/"
    },
    "id": "ieYvxijqReo3",
    "outputId": "117bc9a1-f652-4ac7-9a31-0647fd08314f"
   },
   "outputs": [
    {
     "name": "stdout",
     "output_type": "stream",
     "text": [
      "+------------------------------------+------+------+-------+\n",
      "|addr                                |cnt   |cnt_in|cnt_out|\n",
      "+------------------------------------+------+------+-------+\n",
      "|'1dice8EMZmqKvrGE4Qc9bUFf9PX3xaYDp' |719526|360501|359025 |\n",
      "|'1dice97ECuByXAvqXpaYzSaQuPVvrtmz6' |545956|273140|272816 |\n",
      "|'1dice7W2AicHosf5EL3GFDUVga7TgtPFn' |253236|126485|126751 |\n",
      "|'1dice9wcMu5hLF4g81u8nioL5mmSHTApw' |242577|121250|121327 |\n",
      "|'1dice7fUkz5h4z2wPc1wLMPWgB5mDwKDx' |187408|93528 |93880  |\n",
      "|'1VayNert3x1KzbpzMGt2qdqrAThiRovi8' |147176|73204 |73972  |\n",
      "|'1diceDCd27Cc22HV3qPNZKwGnZ8QwhLTc' |140521|70278 |70243  |\n",
      "|'1sLiMbvDGgJjKKzUYsJ2QB9MXiHeeRnCD' |128533|62974 |65559  |\n",
      "|'1dice6YgEVBf88erBFra9BHf6ZMoyvG88' |121653|60662 |60991  |\n",
      "|'1Bd5wrFxHYRkk4UCFttcPNMYzqJnQKfXUE'|120214|58410 |61804  |\n",
      "+------------------------------------+------+------+-------+\n",
      "\n",
      "Runtime = 122.24193906784058\n"
     ]
    }
   ],
   "source": [
    "spark = SparkSession \\\n",
    "    .builder \\\n",
    "    .master(\"local[*]\") \\\n",
    "    .appName(\"Group project\") \\\n",
    "    .getOrCreate()\n",
    "\n",
    "start_time = time.time()\n",
    "\n",
    "path = os.path.join(DATASET_DIR, LGDATA_FILE)\n",
    "mySchema = StructType([\n",
    "    StructField(\"TxId\", StringType()),\n",
    "    StructField(\"Height\", IntegerType()),\n",
    "    StructField(\"Input\", StringType()),\n",
    "    StructField(\"Output\", StringType()),\n",
    "    StructField(\"Sum\", FloatType()),\n",
    "    StructField(\"Time\", TimestampType()),\n",
    "])\n",
    "\n",
    "dataset = spark.read.load(path, format=\"csv\", compression=\"gzip\",\n",
    "                         sep=\",\", schema=mySchema, header=\"true\")\n",
    "dataset = dataset.withColumn(\"Input\",split(regexp_replace(\"Input\",\"[\\[\\s\\]]\",\"\"),\"\\,\"))\n",
    "dataset = dataset.withColumn(\"Output\",split(\"Output\",\"\\]\\, \\[\"))\n",
    "dataset.createOrReplaceTempView(\"data\")\n",
    "\n",
    "inputSDF = spark.sql( \"\"\"SELECT txid, height, EXPLODE(input) AS input, sum, time\n",
    "                                  FROM data\"\"\")\n",
    "inputSDF.createOrReplaceTempView(\"input\")\n",
    "\n",
    "outputSDF = spark.sql( \"\"\"SELECT txid, height, EXPLODE(output) AS output, sum, time\n",
    "                                      FROM data\"\"\")\n",
    "outputSDF = outputSDF.withColumn(\"output\",split(regexp_replace(\"output\",\"[\\[\\]]\",\"\"),\"\\,\"))\n",
    "outputSDF = outputSDF.withColumn(\"value\",expr(\"CAST(output[1] AS FLOAT)\"))\n",
    "outputSDF = outputSDF.withColumn(\"output\",expr(\"output[0]\"))\n",
    "outputSDF.createOrReplaceTempView(\"output\")\n",
    "\n",
    "spark.sql( \"\"\"SELECT i.addr, cnt_in + cnt_out AS cnt, cnt_in, cnt_out FROM (\n",
    "              (SELECT input AS addr, COUNT(*) AS cnt_in FROM input GROUP BY input) i FULL OUTER JOIN\n",
    "              (SELECT output AS addr, COUNT(*) AS cnt_out FROM output GROUP BY output) o ON i.addr = o.addr)\n",
    "                ORDER BY cnt DESC\n",
    "                LIMIT 10\"\"\").show(truncate=False)\n",
    "end_time = time.time()\n",
    "\n",
    "print( \"Runtime = \" + str(end_time - start_time))"
   ]
  },
  {
   "cell_type": "markdown",
   "metadata": {
    "id": "aS1p9t707Uvu"
   },
   "source": [
    "### Results (Spark)\n",
    "\n",
    "The time to process the small dataset was : **1.18** seconds.\n",
    "\n",
    "The time to process the large dataset was : **122** seconds.\n",
    "\n"
   ]
  },
  {
   "cell_type": "markdown",
   "metadata": {
    "id": "QWFmcsKV7mtn"
   },
   "source": [
    "### Discussion:\n",
    "\n",
    "**Spark SQL is faster than Pandas for larger datasets but slower for smaller ones. For small datasets, Spark's initialization and data distribution across nodes introduces significant overhead. But since Spark is designed for distributed computing which processes data in parallel across multiple nodes, so it significantly speeds up operations on larger datasets.**"
   ]
  },
  {
   "cell_type": "markdown",
   "metadata": {
    "id": "a3SYmvNhm2Vt"
   },
   "source": [
    "## Exercise 1 [3 points]\n",
    "\n",
    "This first group consists in computing some statistics on the infomration available in the dataset.\n",
    "\n",
    "The smallest dataset might lead to strange results for some statistics. Use it while you are developing you project, but if you run into strange results, just use a larger one.\n",
    "\n",
    "\n"
   ]
  },
  {
   "cell_type": "markdown",
   "metadata": {
    "id": "eClmHMHZm2Vt"
   },
   "source": [
    "### Top-10 largest transactions\n",
    "\n",
    "Display the top 10 largest transactions in terms of bitcoin currency."
   ]
  },
  {
   "cell_type": "code",
   "execution_count": null,
   "metadata": {
    "colab": {
     "base_uri": "https://localhost:8080/"
    },
    "id": "oYhQ9PNOm2Vt",
    "outputId": "8767f9af-1a02-4607-e5c0-ce1365094534"
   },
   "outputs": [
    {
     "name": "stdout",
     "output_type": "stream",
     "text": [
      "+---------+------+---------+-------------------+\n",
      "|     txid|height|      sum|               time|\n",
      "+---------+------+---------+-------------------+\n",
      "|219029:17|219029|53880.043|2013-02-01 04:36:52|\n",
      "| 219026:0|219026|50180.043|2013-02-01 04:18:03|\n",
      "| 219027:7|219027|50180.043|2013-02-01 04:36:05|\n",
      "| 218541:0|218541|50001.312|2013-01-29 06:44:05|\n",
      "| 223092:0|223092|44864.207|2013-02-25 18:07:28|\n",
      "| 218515:0|218515|40001.133|2013-01-29 02:20:22|\n",
      "| 212094:0|212094|  35000.0|2012-12-13 19:05:45|\n",
      "| 210986:0|210986|  33000.0|2012-12-05 13:05:46|\n",
      "| 210995:3|210995| 32628.37|2012-12-05 15:37:29|\n",
      "| 211132:0|211132| 32528.37|2012-12-06 15:22:36|\n",
      "+---------+------+---------+-------------------+\n",
      "\n"
     ]
    }
   ],
   "source": [
    "transactionSDF = spark.sql( \"\"\"SELECT txid, height, sum, time\n",
    "                                  FROM data\"\"\")\n",
    "\n",
    "transactionSDF.createOrReplaceTempView(\"transaction\")\n",
    "\n",
    "top10_transactions = spark.sql(\"\"\"\n",
    "    SELECT *\n",
    "    FROM transaction\n",
    "    ORDER BY sum DESC\n",
    "    LIMIT 10\n",
    "\"\"\").show()\n"
   ]
  },
  {
   "cell_type": "markdown",
   "metadata": {
    "id": "KNUfxLdFm2Vu"
   },
   "source": [
    "### Top-10 largest transactions (in USD)\n",
    "\n",
    "Display the top 10 largest transactions in terms of bitcoin currency."
   ]
  },
  {
   "cell_type": "code",
   "execution_count": null,
   "metadata": {
    "colab": {
     "base_uri": "https://localhost:8080/"
    },
    "id": "GMn2c5Cjm2Vu",
    "outputId": "876d2b61-f538-49e0-e10b-dce8a219ea25"
   },
   "outputs": [
    {
     "name": "stdout",
     "output_type": "stream",
     "text": [
      "+----------+------+---------+-------------------+-----+-----------------+\n",
      "|      txid|height|      sum|               time|Price|        value_usd|\n",
      "+----------+------+---------+-------------------+-----+-----------------+\n",
      "|  223092:0|223092|44864.207|2013-02-25 18:07:28| 30.4|    1363871.89375|\n",
      "| 219029:17|219029|53880.043|2013-02-01 04:36:52| 20.5|1104540.880859375|\n",
      "|  219026:0|219026|50180.043|2013-02-01 04:18:03| 20.5|1028690.880859375|\n",
      "|  219027:7|219027|50180.043|2013-02-01 04:36:05| 20.5|1028690.880859375|\n",
      "|  218541:0|218541|50001.312|2013-01-29 06:44:05| 19.5|     975025.59375|\n",
      "|  218515:0|218515|40001.133|2013-01-29 02:20:22| 19.5|  780022.08984375|\n",
      "|  222086:3|222086| 25000.01|2013-02-20 01:23:50| 29.6|   740000.2890625|\n",
      "|222086:296|222086|24999.998|2013-02-20 01:25:33| 29.6|739999.9421875001|\n",
      "|  221938:0|221938|24996.918|2013-02-19 02:36:27| 29.4|734909.3882812499|\n",
      "|  223569:0|223569|  22000.0|2013-02-28 11:14:45| 33.4|         734800.0|\n",
      "+----------+------+---------+-------------------+-----+-----------------+\n",
      "\n"
     ]
    }
   ],
   "source": [
    "# Convert DataFrame priceDF to Spark DataFrame priceDFS\n",
    "priceDFS = spark.createDataFrame(priceDF)\n",
    "\n",
    "# Create a TempView\n",
    "priceDFS.createOrReplaceTempView(\"price\")\n",
    "\n",
    "# Our logic is to merge the two TempView transaction and price, then use sum * price to get real value in USD\n",
    "top10_transactions_USD = spark.sql(\"\"\"\n",
    "    SELECT t.txid, t.height, t.sum, t.time, p.Price, (t.sum * p.Price) as value_usd\n",
    "    FROM transaction t\n",
    "    JOIN price p ON date_trunc('day', t.time) = p.Date\n",
    "    ORDER BY value_usd DESC\n",
    "    LIMIT 10\n",
    "\"\"\").show()"
   ]
  },
  {
   "cell_type": "markdown",
   "metadata": {
    "id": "_Yz3XbS1m2Vu"
   },
   "source": [
    "### Evolution of the number of transactions over time\n",
    "\n",
    "Display a graph that shows the evolution of the number of transactions over time.\n"
   ]
  },
  {
   "cell_type": "code",
   "execution_count": null,
   "metadata": {
    "colab": {
     "base_uri": "https://localhost:8080/",
     "height": 658
    },
    "id": "rI2Uw6F9m2Vv",
    "outputId": "5b1121c0-6a31-4b80-9e81-d9ba1181ee18"
   },
   "outputs": [
    {
     "data": {
      "text/plain": [
       "<matplotlib.legend.Legend at 0x7f5f984e73a0>"
      ]
     },
     "execution_count": 30,
     "metadata": {},
     "output_type": "execute_result"
    },
    {
     "data": {
      "image/png": "[encoded data removed]",
      "text/plain": [
       "<Figure size 1500x700 with 1 Axes>"
      ]
     },
     "metadata": {},
     "output_type": "display_data"
    }
   ],
   "source": [
    "import matplotlib.pyplot as plt\n",
    "\n",
    "transaction_counts_day = spark.sql(\"\"\"\n",
    "    SELECT to_date(time) as Date, COUNT(*) as number_of_transactions\n",
    "    FROM transaction\n",
    "    GROUP BY to_date(time)\n",
    "    ORDER BY Date\n",
    "\"\"\")\n",
    "\n",
    "# Convert the result to a Pandas DataFrame\n",
    "transaction_counts_day_pd = transaction_counts_day.toPandas()\n",
    "\n",
    "\n",
    "rolling_window_size = 30\n",
    "\n",
    "# Calculate the SMA in a monthly basis\n",
    "transaction_counts_day_pd['SMA'] = transaction_counts_day_pd['number_of_transactions'].rolling(window=rolling_window_size).mean()\n",
    "\n",
    "# Plot\n",
    "plt.figure(figsize=(15, 7))\n",
    "plt.plot(transaction_counts_day_pd['Date'], transaction_counts_day_pd['SMA'], label=f'{rolling_window_size}-Day SMA', color='red')\n",
    "plt.title('Evolution of the Number of Transactions Over Time with SMA')\n",
    "plt.xlabel('Date')\n",
    "plt.ylabel('Number of Transactions')\n",
    "plt.legend()"
   ]
  },
  {
   "cell_type": "markdown",
   "metadata": {
    "id": "AN9lGYbLZ-Qe"
   },
   "source": [
    "**We used the Simple Moving Average to show the number of transactions over time in a monthly basis, making the line more smooth.**\n",
    "\n",
    "The previous one without SMA is shown below."
   ]
  },
  {
   "cell_type": "code",
   "execution_count": null,
   "metadata": {
    "colab": {
     "base_uri": "https://localhost:8080/",
     "height": 641
    },
    "id": "V0LUi-zxZvd8",
    "outputId": "5f6e3bcf-443a-405c-d046-ba08e1e2cc77"
   },
   "outputs": [
    {
     "data": {
      "image/png": "[encoded data removed]",
      "text/plain": [
       "<Figure size 1500x700 with 1 Axes>"
      ]
     },
     "metadata": {},
     "output_type": "display_data"
    }
   ],
   "source": [
    "# Plot\n",
    "plt.figure(figsize=(15, 7))\n",
    "plt.plot(transaction_counts_day_pd['Date'], transaction_counts_day_pd['number_of_transactions'], marker='o')\n",
    "plt.title('Evolution of the Number of Transactions Over Time')\n",
    "plt.xlabel('Date')\n",
    "plt.ylabel('Number of Transactions')\n",
    "plt.show()"
   ]
  },
  {
   "cell_type": "markdown",
   "metadata": {
    "id": "NG3l64dem2Vv"
   },
   "source": [
    "### Evolution of currency transferred over time\n",
    "\n",
    "Display a graph that shows the evolution of the amount of currency transferred (in BTC and USD) over time.\n"
   ]
  },
  {
   "cell_type": "code",
   "execution_count": null,
   "metadata": {
    "colab": {
     "base_uri": "https://localhost:8080/",
     "height": 1000
    },
    "id": "SSdGOU_Hm2Vv",
    "outputId": "506cc571-5317-4d4b-a993-b51ed03eab7a"
   },
   "outputs": [
    {
     "name": "stdout",
     "output_type": "stream",
     "text": [
      "+-------------------+--------------------+\n",
      "|               Date|    total_amount_btc|\n",
      "+-------------------+--------------------+\n",
      "|2012-09-01 00:00:00|0.014000030234456062|\n",
      "|2012-11-01 00:00:00|  2663836.0331651196|\n",
      "|2012-12-01 00:00:00| 5.025106454585444E7|\n",
      "|2013-01-01 00:00:00|  5.15911742939997E7|\n",
      "|2013-02-01 00:00:00|4.2510050778081186E7|\n",
      "|2013-03-01 00:00:00|  3415451.5922718677|\n",
      "|2014-03-01 00:00:00|   331.5148032065481|\n",
      "+-------------------+--------------------+\n",
      "\n",
      "+-------------------+--------------------+-----+--------------------+\n",
      "|               Date|    total_amount_btc|Price|    total_amount_usd|\n",
      "+-------------------+--------------------+-----+--------------------+\n",
      "|2012-09-01 00:00:00|0.014000030234456062| 10.0| 0.14000030234456062|\n",
      "|2012-11-01 00:00:00|  2663836.0331651196| 10.6|2.8236661951550268E7|\n",
      "|2012-12-01 00:00:00| 5.025106454585444E7| 12.6|  6.33163413277766E8|\n",
      "|2013-01-01 00:00:00|  5.15911742939997E7| 13.3| 6.861626181101961E8|\n",
      "|2013-02-01 00:00:00|4.2510050778081186E7| 20.5| 8.714560409506643E8|\n",
      "|2013-03-01 00:00:00|  3415451.5922718677| 34.5|1.1783307993337944E8|\n",
      "|2014-03-01 00:00:00|   331.5148032065481|557.4|   184786.3513073299|\n",
      "+-------------------+--------------------+-----+--------------------+\n",
      "\n",
      "        Date  total_amount_btc  Price  total_amount_usd\n",
      "0 2012-09-01      1.400003e-02   10.0      1.400003e-01\n",
      "1 2012-11-01      2.663836e+06   10.6      2.823666e+07\n",
      "2 2012-12-01      5.025106e+07   12.6      6.331634e+08\n",
      "3 2013-01-01      5.159117e+07   13.3      6.861626e+08\n",
      "4 2013-02-01      4.251005e+07   20.5      8.714560e+08\n"
     ]
    },
    {
     "data": {
      "text/plain": [
       "<Figure size 1500x700 with 0 Axes>"
      ]
     },
     "metadata": {},
     "output_type": "display_data"
    },
    {
     "data": {
      "image/png": "[encoded data removed]",
      "text/plain": [
       "<Figure size 1500x700 with 2 Axes>"
      ]
     },
     "metadata": {},
     "output_type": "display_data"
    }
   ],
   "source": [
    "# Calculate the total amount per day in BTC over time\n",
    "total_amount_day_btc= spark.sql(\"\"\"SELECT date_trunc('month', time) as Date, SUM(sum) as total_amount_btc\n",
    "    FROM transaction\n",
    "    GROUP BY Date\n",
    "    ORDER BY Date\n",
    "    \"\"\")\n",
    "\n",
    "total_amount_day_btc.show()\n",
    "\n",
    "# Create a TempView\n",
    "total_amount_day_btc.createOrReplaceTempView(\"total_amount_day_btc\")\n",
    "\n",
    "\n",
    "# Calculate the total amount per day in USD over time=\n",
    "total_amount_day_usd= spark.sql(\"\"\" SELECT tadb.Date, tadb.total_amount_btc, p.Price, tadb.total_amount_btc * p.Price as total_amount_usd\n",
    "FROM total_amount_day_btc tadb\n",
    "JOIN price p ON tadb.Date = p.Date\n",
    "ORDER BY tadb.Date\n",
    "\"\"\")\n",
    "total_amount_day_usd.show()\n",
    "\n",
    "# Back to Pandas\n",
    "amount_day = total_amount_day_usd.toPandas()\n",
    "print(amount_day.head())\n",
    "\n",
    "plt.figure(figsize=(15, 7))\n",
    "\n",
    "max_btc = amount_day['total_amount_btc'].max()\n",
    "max_usd = amount_day['total_amount_usd'].max()\n",
    "\n",
    "plt.figure(figsize=(15, 7))\n",
    "\n",
    "\n",
    "# Plot BTC values on the primary y-axis\n",
    "ax1 = plt.gca()\n",
    "btc_plot, = ax1.plot(amount_day['Date'], amount_day['total_amount_btc'], label='BTC', color='orange', marker='o')\n",
    "ax1.set_ylabel('Total Amount (BTC)')\n",
    "ax1.set_ylim(0, max_btc * 1.1)  # Adjust the primary y-axis limit\n",
    "\n",
    "# Create secondary y-axis for USD values\n",
    "ax2 = ax1.twinx()\n",
    "usd_plot, = ax2.plot(amount_day['Date'], amount_day['total_amount_usd'], label='USD', color='purple', marker='x', linestyle='--')\n",
    "ax2.set_ylabel('Total Amount (USD)')\n",
    "ax2.set_ylim(0, max_usd * 1.1)  # Adjust the secondary y-axis limit\n",
    "\n",
    "# Titles and labels\n",
    "plt.title('Evolution of the Amount of Currency Transferred Over Time')\n",
    "ax1.set_xlabel('Date')\n",
    "\n",
    "# Combine legends from both axes\n",
    "plots = [btc_plot, usd_plot]\n",
    "labels = [plot.get_label() for plot in plots]\n",
    "plt.legend(plots, labels, loc='upper left')\n",
    "\n",
    "plt.tight_layout()\n",
    "plt.show()\n"
   ]
  },
  {
   "cell_type": "markdown",
   "metadata": {
    "id": "sqgK9v00m2V3"
   },
   "source": [
    "## Exercise 2 [4 points]\n",
    "\n",
    "Assume you want to create a web site with infomration about bitcoin. In this website, a user could go and get some statistics for any Bitcoin address. You can select the statistics you want to maintain - you should maintain at least three statistics - suggestions: address account balance (mandatory); top-3 commercial partners; average transaction value.\n",
    "\n",
    "To support this web site, it would be necessary to build one or more indices that would be used to answer the query of the user. In this context a index is a table that maps an address to a value of the statistics being computed.\n",
    "\n",
    "Write the code to build these indices - for each index, print 5 lines.\n",
    "\n",
    "**NOTE:** use the data from a single dataset file (even knowing that the value of the account balance would need to include processing all transactions).\n"
   ]
  },
  {
   "cell_type": "code",
   "execution_count": null,
   "metadata": {
    "colab": {
     "base_uri": "https://localhost:8080/"
    },
    "id": "Y0TD4B1YkD6H",
    "outputId": "b1650545-5f87-46b5-8711-27b4592c07b1"
   },
   "outputs": [
    {
     "name": "stdout",
     "output_type": "stream",
     "text": [
      "\n",
      "Balance Index : \n",
      "Address: 1DZTzaBHUDM7T3QvUKBz4qXMRpkg8jsfB5, Balance: 24.0\n",
      "Address: 1DCbY2GYVaAMCBpuBNN5GVg3a47pNK1wdi, Balance: 0\n",
      "Address: 1KAD5EnzzLtrSo2Da2G4zzD7uZrjk8zRAv, Balance: 49.0\n",
      "Address: 1DNdPgBZRWjDj1JbVZQEYMv7jvqJF7R4Py, Balance: 0\n",
      "Address: 1ELmSkQWnqgbBZNzxAZHts3MEYCngqRBeD, Balance: 0\n",
      "\n",
      "Top-3 Commercial Partners Index:\n",
      "Address:1DZTzaBHUDM7T3QvUKBz4qXMRpkg8jsfB5: Commercial Partners: ['1KAD5EnzzLtrSo2Da2G4zzD7uZrjk8zRAv', '1DZTzaBHUDM7T3QvUKBz4qXMRpkg8jsfB5']\n",
      "Address:1DCbY2GYVaAMCBpuBNN5GVg3a47pNK1wdi: Commercial Partners: ['1DZTzaBHUDM7T3QvUKBz4qXMRpkg8jsfB5']\n",
      "Address:1KAD5EnzzLtrSo2Da2G4zzD7uZrjk8zRAv: Commercial Partners: ['1KAD5EnzzLtrSo2Da2G4zzD7uZrjk8zRAv']\n",
      "Address:1DNdPgBZRWjDj1JbVZQEYMv7jvqJF7R4Py: Commercial Partners: ['19QKDUJtx9n7Vaga6nX1bVHdsnT4Khfyi6']\n",
      "Address:1ELmSkQWnqgbBZNzxAZHts3MEYCngqRBeD: Commercial Partners: ['19QKDUJtx9n7Vaga6nX1bVHdsnT4Khfyi6']\n",
      "\n",
      "List of top-3: ['1KAD5EnzzLtrSo2Da2G4zzD7uZrjk8zRAv', '1DZTzaBHUDM7T3QvUKBz4qXMRpkg8jsfB5', '1DZTzaBHUDM7T3QvUKBz4qXMRpkg8jsfB5']\n",
      "\n",
      "Average Transaction Value Index:\n",
      "Address: 1DZTzaBHUDM7T3QvUKBz4qXMRpkg8jsfB5, Average Transaction Value: 25.0\n",
      "Address: 1DCbY2GYVaAMCBpuBNN5GVg3a47pNK1wdi, Average Transaction Value: 25.0\n",
      "Address: 1KAD5EnzzLtrSo2Da2G4zzD7uZrjk8zRAv, Average Transaction Value: 25.0\n",
      "Address: 1DNdPgBZRWjDj1JbVZQEYMv7jvqJF7R4Py, Average Transaction Value: 250.0\n",
      "Address: 1ELmSkQWnqgbBZNzxAZHts3MEYCngqRBeD, Average Transaction Value: 250.0\n"
     ]
    }
   ],
   "source": [
    "import os\n",
    "import ast\n",
    "import pandas as pd\n",
    "import random\n",
    "\n",
    "date_cols = [\"Time\"]\n",
    "path = os.path.join(DATASET_DIR, TXDATA_FILE)\n",
    "df = pd.read_csv(path, compression=\"gzip\", parse_dates=date_cols)\n",
    "\n",
    "df['Input'] = df['Input'].apply(ast.literal_eval)\n",
    "df['Output'] = df['Output'].apply(ast.literal_eval)\n",
    "\n",
    "inputDF = df[[\"TxId\", \"Height\", \"Input\", \"Sum\", \"Time\"]].explode(\"Input\")\n",
    "outputDF = df[[\"TxId\", \"Height\", \"Output\", \"Sum\", \"Time\"]].explode(\"Output\")\n",
    "outputDF[[\"Output\", \"Value\"]] = outputDF[\"Output\"].to_list()\n",
    "transactionDF = df[[\"TxId\", \"Height\", \"Sum\", \"Time\"]]\n",
    "\n",
    "transactions_df = pd.merge(transactionDF, inputDF, left_on=\"TxId\", right_on=\"TxId\", suffixes=('_transaction', '_input'))\n",
    "transactions_df = pd.merge(transactions_df, outputDF, left_on=\"TxId\", right_on=\"TxId\", suffixes=('_merged', '_output'))\n",
    "\n",
    "def parse_output(output_list):\n",
    "    \"\"\"Transform a list of lists into a list of tuples.\"\"\"\n",
    "    return [(account, amount) for account, amount in output_list]\n",
    "\n",
    "# Apply the transformation to the Output column\n",
    "df['output'] = df['Output'].apply(parse_output)\n",
    "\n",
    "def update_balances_corrected(transaction):\n",
    "    global balances, commercial_partners\n",
    "\n",
    "    # Initialize dictionaries to track sent and received amounts in this transaction\n",
    "    sent_amounts = {}\n",
    "    received_amounts = {}\n",
    "\n",
    "    # Track the accounts that received money in this transaction\n",
    "    for output_account, amount in transaction[\"output\"]:\n",
    "        received_amounts[output_account] = received_amounts.get(output_account, 0) + amount\n",
    "\n",
    "    # Update commercial partners for each input account\n",
    "    for input_account in transaction[\"input\"]:\n",
    "        commercial_partners[input_account].update({output_account: received_amounts[output_account]})\n",
    "\n",
    "        # Decrease the balance for accounts in the input list\n",
    "        received_amount = received_amounts.get(input_account, 0)\n",
    "        sent_amount = sent_amounts.get(input_account, 0)\n",
    "        balance_change = sent_amount - received_amount\n",
    "        balances[input_account] = balances.get(input_account, 0) - balance_change\n",
    "\n",
    "        # Update the sent_amounts for this input_account\n",
    "        sent_amounts[input_account] = sent_amounts.get(input_account, 0) + sent_amount\n",
    "\n",
    "# Initialize the balances and commercial partners dictionaries\n",
    "balances = {}\n",
    "commercial_partners = {input_account: {'transaction_count': 0, 'total_value': 0} for input_account in df['Input'].explode().unique()}\n",
    "\n",
    "# Process each transaction in the DataFrame\n",
    "for index, row in df.iterrows():\n",
    "    transaction = {\n",
    "        'input': row['Input'],  # Use the 'Input' column\n",
    "        'output': row['output']  # Use the 'output' column which was processed earlier\n",
    "    }\n",
    "    update_balances_corrected(transaction)\n",
    "\n",
    "    # Update transaction information in commercial partners\n",
    "    for input_account in transaction['input']:\n",
    "        commercial_partners[input_account]['transaction_count'] += 1\n",
    "        commercial_partners[input_account]['total_value'] += row['Sum']\n",
    "\n",
    "# Display the updated balances for the first five accounts\n",
    "print(\"\\nBalance Index : \")\n",
    "count = 0\n",
    "for account, balance in balances.items():\n",
    "    print(f\"Address: {account}, Balance: {balance}\")\n",
    "    count += 1\n",
    "    if count >= 5:\n",
    "        break\n",
    "\n",
    "# Find top-3 commercial partners for each input\n",
    "top_partners_per_input = {input_account: sorted(commercial_partners[input_account].items(), key=lambda x: x[1], reverse=True)[:3] for input_account in commercial_partners}\n",
    "\n",
    "# Display top-3 commercial partners for each input (5 lines)\n",
    "print(\"\\nTop-3 Commercial Partners Index:\")\n",
    "for input_account, top_partners in list(top_partners_per_input.items())[:5]:\n",
    "    # Extract only the top 3 partners\n",
    "    top_3_partners = [partner for partner, _ in top_partners[:3] if partner not in ['transaction_count', 'total_value']]\n",
    "    print(f\"Address:{input_account}: Commercial Partners: {top_3_partners}\")\n",
    "\n",
    "# Create a list of all top-3 partners\n",
    "all_top_partners = [partner for top_partners in top_partners_per_input.values() for partner, _ in top_partners[:3] if partner not in ['transaction_count', 'total_value']]\n",
    "\n",
    "# Display the list of top-3 partners\n",
    "print(\"\\nList of top-3:\", all_top_partners[:3])\n",
    "\n",
    "# Calculate average transaction value per input\n",
    "average_transaction_values = {}\n",
    "for input_account, partner_info in commercial_partners.items():\n",
    "    transaction_count = partner_info['transaction_count']\n",
    "    total_value = partner_info['total_value']\n",
    "\n",
    "    # Calculate average transaction value, handling the case where transaction_count is zero to avoid division by zero\n",
    "    avg_value = total_value / transaction_count if transaction_count > 0 else 0\n",
    "\n",
    "    # Update the average_transaction_values dictionary\n",
    "    average_transaction_values[input_account] = avg_value\n",
    "\n",
    "# Display the average transaction value for the first five accounts\n",
    "print(\"\\nAverage Transaction Value Index:\")\n",
    "count = 0\n",
    "for account, avg_value in list(average_transaction_values.items())[:5]:\n",
    "    print(f\"Address: {account}, Average Transaction Value: {avg_value}\")\n",
    "    count += 1\n",
    "    if count >= 5:\n",
    "        break"
   ]
  },
  {
   "cell_type": "markdown",
   "metadata": {
    "id": "XbypMoetm2V3"
   },
   "source": [
    "#### Discussion\n",
    "\n",
    "First, we tried to calculate the balance for each address. It's complex since sometimes there are multiple addresses in the Input column. And sometimes, the Input and Output columns will have the same address if the address in the Input column didn't transfer all the money to others. So, we set for loop to find money sent by each address, money received by each address from itself, and money received from other addresses.And we print out the balance of first five accounts.The important condition we used that if the address in the Input column appears, but disappears in the Output column, it prove that this address run out of all the money recieved in the previuos all the transaction. But in the future, some other addresses can still transfer money to this address.**\n",
    "\n",
    "**The condition we used to identify top commercial partner is the total transaction value received by each account. And the average transaction value is to calculate the total transaction value first and then used it divide by the count of each address. We print out Top 3 commerical partner under this definition, and the average transaction value for the first five addresses.\n",
    "\n",
    "\n",
    "\n"
   ]
  },
  {
   "cell_type": "markdown",
   "metadata": {
    "id": "D-Km3FAbm2V4"
   },
   "source": [
    "## Exercise 3 [4 points]\n",
    "\n",
    "Explore the creation of classification models for assigning labels to addresses. Use the labels assigned in the provided dataset for training and testing.\n",
    "\n",
    "**SUGGESTION:** use statistics associated with each address, including number of transactions, avergae amount of transactions, average number of partners per day (or other time unit), etc.\n",
    "\n",
    "**NOTE:** building the best classification model is a never ending task, and we do not expect you to build a perfect classifier. What we expect you in this task is that you propose a set of variables and explain the relevance of such variable for helping differentiate between different classes, and that do the step to build and evaluate the classifier.\n"
   ]
  },
  {
   "cell_type": "code",
   "execution_count": null,
   "metadata": {
    "id": "QdnmB8RGiIRQ"
   },
   "outputs": [],
   "source": [
    "date_cols = [\"date_first_tx\"]\n",
    "path = os.path.join(LABEL_DIR, LABELDATA_FILE)\n",
    "labels_df = pd.read_csv(path, compression=\"gzip\", parse_dates=date_cols)"
   ]
  },
  {
   "cell_type": "code",
   "execution_count": null,
   "metadata": {
    "id": "ztUw27VNTZZ-"
   },
   "outputs": [],
   "source": [
    "import os\n",
    "import ast\n",
    "import pandas as pd\n",
    "\n",
    "date_cols = [\"Time\"]\n",
    "path = os.path.join(DATASET_DIR, LGDATA_FILE)\n",
    "df = pd.read_csv(path, compression=\"gzip\", parse_dates=date_cols)\n",
    "\n",
    "df['Input'] = df['Input'].apply(ast.literal_eval)\n",
    "df['Output'] = df['Output'].apply(ast.literal_eval)\n",
    "\n",
    "inputdf_labels = df[[\"TxId\", \"Height\", \"Input\", \"Sum\", \"Time\"]].explode(\"Input\")\n",
    "outputdf_labels = df[[\"TxId\", \"Height\", \"Output\", \"Sum\", \"Time\"]].explode(\"Output\")\n",
    "outputdf_labels[[\"Output\", \"Value\"]] = outputdf_labels[\"Output\"].to_list()\n",
    "\n",
    "labels_df['address'] = labels_df['address'].str.replace(\"'\", '')\n",
    "addresses = labels_df['address'].to_list()\n",
    "labels_input = inputdf_labels[inputdf_labels['Input'].isin(addresses)]\n",
    "labels_output = outputdf_labels[outputdf_labels['Output'].isin(addresses)]\n"
   ]
  },
  {
   "cell_type": "code",
   "execution_count": null,
   "metadata": {
    "id": "bRaZs3hUWIRc"
   },
   "outputs": [],
   "source": [
    "in_address = labels_input[['Input', 'TxId']].groupby('Input').count().rename(columns={'TxId': 'Count_Input'})\n",
    "out_address = labels_output[['Output', 'TxId']].groupby('Output').count().rename(columns={'TxId': 'Count_Output'})\n",
    "address = in_address.join(out_address, how='outer').fillna(0)\n",
    "\n",
    "address['Count_Transactions'] = address['Count_Input'] + address['Count_Output']\n",
    "\n",
    "sum_max_address = labels_input[['Input', 'Sum']].groupby('Input').max().rename(columns={'Sum': 'SumMax'})\n",
    "sum_min_address = labels_input[['Input', 'Sum']].groupby('Input').min().rename(columns={'Sum': 'SumMin'})\n",
    "\n",
    "sum_in_address = labels_input[['Input', 'Sum']].groupby('Input').sum().rename(columns={'Sum': 'SumTotal'})\n",
    "sum_avg_address = labels_input[['Input', 'Sum']].groupby('Input').mean().rename(columns={'Sum': 'SumAvg'})\n",
    "\n",
    "featuresDF = address.join(sum_in_address, how='inner').fillna(0)\n",
    "featuresDF = featuresDF.join(sum_avg_address, how='inner').fillna(0)\n",
    "featuresDF = featuresDF.join(sum_max_address, how='inner').fillna(0)\n",
    "featuresDF = featuresDF.join(sum_min_address, how='inner').fillna(0).reset_index().rename(columns={'index': 'Input'})\n",
    "\n",
    "classificationDF = pd.merge(featuresDF, labels_df, right_on='address', left_on='Input')"
   ]
  },
  {
   "cell_type": "code",
   "execution_count": null,
   "metadata": {
    "colab": {
     "base_uri": "https://localhost:8080/"
    },
    "id": "WdppO_kdabXY",
    "outputId": "1743f67a-c8b0-40cb-9383-f64814dd4e96"
   },
   "outputs": [
    {
     "name": "stderr",
     "output_type": "stream",
     "text": [
      "/usr/local/lib/python3.10/dist-packages/sklearn/metrics/_classification.py:1344: UndefinedMetricWarning: Recall and F-score are ill-defined and being set to 0.0 in labels with no true samples. Use `zero_division` parameter to control this behavior.\n",
      "  _warn_prf(average, modifier, msg_start, len(result))\n",
      "/usr/local/lib/python3.10/dist-packages/sklearn/metrics/_classification.py:1344: UndefinedMetricWarning: Recall and F-score are ill-defined and being set to 0.0 in labels with no true samples. Use `zero_division` parameter to control this behavior.\n",
      "  _warn_prf(average, modifier, msg_start, len(result))\n"
     ]
    },
    {
     "name": "stdout",
     "output_type": "stream",
     "text": [
      "Random Forest Classifier Results:\n",
      "Accuracy: 0.7648984937786509\n",
      "Precision: 0.7559445014582948\n",
      "Recall: 0.7648984937786509\n",
      "Confusion Matrix:\n",
      "[[  2   2  28   0   8]\n",
      " [  2   3  23   0   8]\n",
      " [ 19  10 968   1 128]\n",
      " [  0   0   0   0   0]\n",
      " [  6   6 117   1 195]]\n",
      "Classifier Report:\n",
      "              precision    recall  f1-score   support\n",
      "\n",
      "   exchanges       0.07      0.05      0.06        40\n",
      "    gambling       0.14      0.08      0.11        36\n",
      "    historic       0.85      0.86      0.86      1126\n",
      "      mining       0.00      0.00      0.00         0\n",
      "     service       0.58      0.60      0.59       325\n",
      "\n",
      "    accuracy                           0.76      1527\n",
      "   macro avg       0.33      0.32      0.32      1527\n",
      "weighted avg       0.76      0.76      0.76      1527\n",
      "\n",
      "Feature Importance:\n",
      "Count_Transactions: 0.05036607757993784\n",
      "SumTotal: 0.20973419558428416\n",
      "SumAvg: 0.24393594808654515\n",
      "SumMax: 0.23660820154343604\n",
      "SumMin: 0.2593555772057969\n"
     ]
    },
    {
     "name": "stderr",
     "output_type": "stream",
     "text": [
      "/usr/local/lib/python3.10/dist-packages/sklearn/metrics/_classification.py:1344: UndefinedMetricWarning: Recall and F-score are ill-defined and being set to 0.0 in labels with no true samples. Use `zero_division` parameter to control this behavior.\n",
      "  _warn_prf(average, modifier, msg_start, len(result))\n",
      "/usr/local/lib/python3.10/dist-packages/sklearn/metrics/_classification.py:1344: UndefinedMetricWarning: Recall and F-score are ill-defined and being set to 0.0 in labels with no true samples. Use `zero_division` parameter to control this behavior.\n",
      "  _warn_prf(average, modifier, msg_start, len(result))\n"
     ]
    }
   ],
   "source": [
    "from sklearn.model_selection import train_test_split\n",
    "from sklearn.ensemble import RandomForestClassifier\n",
    "from sklearn.metrics import accuracy_score, classification_report, confusion_matrix, precision_recall_fscore_support\n",
    "\n",
    "# Subsetting the data\n",
    "classificationDF = classificationDF.sample(frac=0.2)\n",
    "\n",
    "# Features and labels\n",
    "features = classificationDF[['Count_Transactions', 'SumTotal', 'SumAvg', 'SumMax', 'SumMin']]\n",
    "label = classificationDF['type']\n",
    "\n",
    "# Train-test split\n",
    "X_train, X_test, y_train, y_test = train_test_split(features, label, test_size=0.2, random_state=42)\n",
    "\n",
    "# Random Forest Classifier\n",
    "rf_classifier = RandomForestClassifier(n_estimators=100, random_state=42)\n",
    "rf_classifier.fit(X_train, y_train)\n",
    "rf_y_pred = rf_classifier.predict(X_test)\n",
    "\n",
    "# Get feature importance with feature names\n",
    "feature_importance_rf = dict(zip(features.columns, rf_classifier.feature_importances_))\n",
    "\n",
    "# Evaluation\n",
    "rf_accuracy = accuracy_score(y_test, rf_y_pred)\n",
    "rf_conf_matrix = confusion_matrix(y_test, rf_y_pred)\n",
    "rf_class_report = classification_report(y_test, rf_y_pred)\n",
    "\n",
    "# Extract precision and recall\n",
    "rf_precision, rf_recall, _, _ = precision_recall_fscore_support(y_test, rf_y_pred, average='weighted')\n",
    "\n",
    "# Print the results\n",
    "print(f'Random Forest Classifier Results:')\n",
    "print(f'Accuracy: {rf_accuracy}')\n",
    "print(f'Precision: {rf_precision}')\n",
    "print(f'Recall: {rf_recall}')\n",
    "print(f'Confusion Matrix:\\n{rf_conf_matrix}')\n",
    "print(f'Classifier Report:\\n{rf_class_report}')\n",
    "print(f'Feature Importance:')\n",
    "for feature, importance in feature_importance_rf.items():\n",
    "    print(f'{feature}: {importance}')"
   ]
  },
  {
   "cell_type": "code",
   "execution_count": null,
   "metadata": {
    "colab": {
     "base_uri": "https://localhost:8080/",
     "height": 466
    },
    "id": "s_c3xqslv_MK",
    "outputId": "295a8e51-dabe-4db3-ad9f-1bf6b572dcbe"
   },
   "outputs": [
    {
     "data": {
      "text/plain": [
       "Text(0.5, 23.52222222222222, 'Predicted\\xa0value')"
      ]
     },
     "execution_count": 13,
     "metadata": {},
     "output_type": "execute_result"
    },
    {
     "data": {
      "image/png": "[encoded data removed]",
      "text/plain": [
       "<Figure size 640x480 with 2 Axes>"
      ]
     },
     "metadata": {},
     "output_type": "display_data"
    }
   ],
   "source": [
    "fig, ax = plt.subplots()\n",
    "\n",
    "sns.heatmap(pd.DataFrame(rf_conf_matrix), annot=True)\n",
    "plt.ylabel('Actual value')\n",
    "plt.xlabel('Predicted value')"
   ]
  },
  {
   "cell_type": "code",
   "execution_count": null,
   "metadata": {
    "colab": {
     "base_uri": "https://localhost:8080/"
    },
    "id": "vBuPmUUIv0fX",
    "outputId": "b2ceafa1-aacd-41df-eaa3-3e87905a784e"
   },
   "outputs": [
    {
     "name": "stdout",
     "output_type": "stream",
     "text": [
      "Decision Tree Classifier Results:\n",
      "Accuracy: 0.7531106745252129\n",
      "Precision: 0.751302482492493\n",
      "Recall: 0.7531106745252129\n",
      "Confusion Matrix:\n",
      "[[  3   2  26   0   9]\n",
      " [  6   2  21   0   7]\n",
      " [ 19  16 951   1 139]\n",
      " [  0   0   0   0   0]\n",
      " [  7   6 117   1 194]]\n",
      "Classifier Report:\n",
      "              precision    recall  f1-score   support\n",
      "\n",
      "   exchanges       0.09      0.07      0.08        40\n",
      "    gambling       0.08      0.06      0.06        36\n",
      "    historic       0.85      0.84      0.85      1126\n",
      "      mining       0.00      0.00      0.00         0\n",
      "     service       0.56      0.60      0.58       325\n",
      "\n",
      "    accuracy                           0.75      1527\n",
      "   macro avg       0.31      0.31      0.31      1527\n",
      "weighted avg       0.75      0.75      0.75      1527\n",
      "\n",
      "Feature Importance:\n",
      "Count_Transactions: 0.048226859575233275\n",
      "SumTotal: 0.17045517416772346\n",
      "SumAvg: 0.2813179454389244\n",
      "SumMax: 0.21640493871206645\n",
      "SumMin: 0.28359508210605233\n"
     ]
    },
    {
     "name": "stderr",
     "output_type": "stream",
     "text": [
      "/usr/local/lib/python3.10/dist-packages/sklearn/metrics/_classification.py:1344: UndefinedMetricWarning: Recall and F-score are ill-defined and being set to 0.0 in labels with no true samples. Use `zero_division` parameter to control this behavior.\n",
      "  _warn_prf(average, modifier, msg_start, len(result))\n",
      "/usr/local/lib/python3.10/dist-packages/sklearn/metrics/_classification.py:1344: UndefinedMetricWarning: Recall and F-score are ill-defined and being set to 0.0 in labels with no true samples. Use `zero_division` parameter to control this behavior.\n",
      "  _warn_prf(average, modifier, msg_start, len(result))\n",
      "/usr/local/lib/python3.10/dist-packages/sklearn/metrics/_classification.py:1344: UndefinedMetricWarning: Recall and F-score are ill-defined and being set to 0.0 in labels with no true samples. Use `zero_division` parameter to control this behavior.\n",
      "  _warn_prf(average, modifier, msg_start, len(result))\n",
      "/usr/local/lib/python3.10/dist-packages/sklearn/metrics/_classification.py:1344: UndefinedMetricWarning: Recall and F-score are ill-defined and being set to 0.0 in labels with no true samples. Use `zero_division` parameter to control this behavior.\n",
      "  _warn_prf(average, modifier, msg_start, len(result))\n"
     ]
    }
   ],
   "source": [
    "from sklearn.tree import DecisionTreeClassifier\n",
    "from sklearn.model_selection import train_test_split\n",
    "from sklearn.metrics import accuracy_score, classification_report, confusion_matrix, precision_recall_fscore_support\n",
    "\n",
    "# Features and labels\n",
    "features = classificationDF[['Count_Transactions', 'SumTotal', 'SumAvg', 'SumMax', 'SumMin']]\n",
    "labels = classificationDF['type']\n",
    "\n",
    "# Train-test split\n",
    "X_train, X_test, y_train, y_test = train_test_split(features, labels, test_size=0.2, random_state=42)\n",
    "\n",
    "# Decision Tree Classifier\n",
    "dt_classifier = DecisionTreeClassifier(random_state=42)\n",
    "dt_classifier.fit(X_train, y_train)\n",
    "y_pred_dt = dt_classifier.predict(X_test)\n",
    "\n",
    "# Get feature importance with feature names\n",
    "feature_importance_dt = dict(zip(features.columns, dt_classifier.feature_importances_))\n",
    "\n",
    "# Evaluation for Decision Tree\n",
    "accuracy_dt = accuracy_score(y_test, y_pred_dt)\n",
    "conf_matrix_dt = confusion_matrix(y_test, y_pred_dt)\n",
    "class_report_dt = classification_report(y_test, y_pred_dt)\n",
    "\n",
    "# Extract precision and recall for Decision Tree\n",
    "precision_dt, recall_dt, _, _ = precision_recall_fscore_support(y_test, y_pred_dt, average='weighted')\n",
    "\n",
    "# Print the results for Decision Tree\n",
    "print(f'Decision Tree Classifier Results:')\n",
    "print(f'Accuracy: {accuracy_dt}')\n",
    "print(f'Precision: {precision_dt}')\n",
    "print(f'Recall: {recall_dt}')\n",
    "print(f'Confusion Matrix:\\n{conf_matrix_dt}')\n",
    "print(f'Classifier Report:\\n{class_report_dt}')\n",
    "print(f'Feature Importance:')\n",
    "for feature, importance in feature_importance_dt.items():\n",
    "    print(f'{feature}: {importance}')"
   ]
  },
  {
   "cell_type": "code",
   "execution_count": null,
   "metadata": {
    "colab": {
     "base_uri": "https://localhost:8080/",
     "height": 466
    },
    "id": "JqjroxJlwD0H",
    "outputId": "45e9720c-2ba2-40eb-fc19-0745427c39ed"
   },
   "outputs": [
    {
     "data": {
      "text/plain": [
       "Text(0.5, 23.52222222222222, 'Predicted\\xa0value')"
      ]
     },
     "execution_count": 15,
     "metadata": {},
     "output_type": "execute_result"
    },
    {
     "data": {
      "image/png": "[encoded data removed]",
      "text/plain": [
       "<Figure size 640x480 with 2 Axes>"
      ]
     },
     "metadata": {},
     "output_type": "display_data"
    }
   ],
   "source": [
    "fig, ax = plt.subplots()\n",
    "\n",
    "sns.heatmap(pd.DataFrame(conf_matrix_dt), annot=True)\n",
    "plt.ylabel('Actual value')\n",
    "plt.xlabel('Predicted value')"
   ]
  },
  {
   "cell_type": "markdown",
   "metadata": {
    "id": "pUn9zTENm2V4"
   },
   "source": [
    "#### Discussion\n",
    "\n",
    "**Explain your code and discuss results**\n",
    "\n",
    "The 7 pieces of code that we provided for this exercise explore the creation of classification models for assigning labels to addresses and use those labels assigned in the provided dataset, for training and testing datasets. We decided to build two models in order to compare results and the values of the metrics between them. The models that we built intend to predict the type of bitcoin transaction (“historic”, “service”, “gambling”,” exchanges” or “mining”) using relevant features such as total and average amount of transactions, count of transactions and maximum and minimum transactions.\n",
    "\n",
    "Firstly, we are using \"210000-224000.csv.gz\" for transactions and “labels-210000-224000.csv.gz” for the labels of the transactions. To analyse the results, we decided to just keep solutions that use a random 20% of the entire dataset because if we used the entire dataset, it would take a lot of time to run it and would also spend a lot of computing resources.\n",
    "We decided to perform a Decision Tree Classifier and a Random Forest Classifier over some other classification models that we learned in class such as kNN or SVM because decision trees and random forests can model non-linear relationships in the data. If the data has complex, non-linear patterns, decision trees and random forests may capture them more effectively than linear models like SVM. Also, random forests provide a feature importance ranking, which can help you identify the most influential features in the dataset. This can be useful for future feature selection and gaining insights into the factors driving predictions.\n",
    "\n",
    "Additionally, random forests are an ensemble of decision trees. Ensemble methods, in general, tend to improve the model's performance by reducing overfitting and increasing generalization. Random forests, by aggregating the predictions of multiple trees, often perform well on a variety of datasets. Finally, decision trees and random forests can be computationally more efficient than kNN or SVM, especially as the size of the dataset increases which is the case here. Training a single decision tree is generally faster than training complex models like SVM on large datasets. Also, they have fewer hyperparameters to tune compared to kNN or SVM. Similarly, as the kNN or the SVM, the Random Forest Classifier and the Decision Tree Classifier can be find in the sci-kit library.\n",
    "\n",
    "The first three pieces of code perform a preprocessing of the entire dataset by calculating the features into a featuresDF and assigning the labels to addresses. The result is a classificationDF that we’ll use in the models.\n",
    "\n",
    "The fourth and the fifth snippet code use scikit-learn to train a Random Forest Classifier on a subset of the classificationDF, evaluates its performance on a test set, and prints the accuracy, precision, recall, confusion matrix, classification report, and feature importance and a heatmap using the Seaborn library to visualize the confusion matrix (rf_conf_matrix) of a Random Forest Classifier, annotating the cells with the corresponding values, and labelling the axes as \"Actual value\" and \"Predicted value.\n",
    "\n",
    "The results will always depend on the number of records per category that the code randomly assigns while sub setting the dataset. There might exist alternative solutions such as a balanced subset to get the same number of records for each type that we didn’t get to have time to explore (for example, creating a subset with 100 historic records, 100 service records, 100 gambling records, 100 exchange records and 100 mining records). The Random Forest Classifier achieved an accuracy of 76.5%, with precision and recall scores of approximately 75.6%. The confusion matrix indicates varying levels of correct and misclassified predictions across different classes, while the classification report provides detailed metrics for each class, and feature importance highlights the contribution of individual features to the model's decision-making.\n",
    "\n",
    "We can conclude that the model performs well for the \"historic\" class, with high precision, recall, and F1-score. Also, the model struggles with classes like \"exchanges\" and \"gambling,\" where both precision and recall are relatively low. The \"mining\" class has a precision of 0.00, indicating that the model did not predict any instances for this class. However, the recall is not defined since there are no true samples for this class in the test set. The \"service\" class shows a decent balance between precision and recall. The heatmap in the following piece of code shows these conclusions visually.\n",
    "\n",
    "Finally, the sixth and seventh pieces of code execute the same approach of the fourth and fifth but with a Decision Tree Classifier. The Decision Tree Classifier achieved an accuracy of 75.3%, which is comparable to the Random Forest Classifier. Precision and recall are both around 75.1%, indicating a balanced performance between precision and recall. Similarly, to the Random Forest Classifier, the confusion matrix provides a breakdown of correct and incorrect predictions for each class. Some misclassifications are observed, with varying degrees across different classes.\n",
    "\n",
    "The Decision Tree Classifier provides high performance like the Random Forest Classifier, with comparable accuracy, precision, and recall. Both models exhibit challenges in distinguishing classes like \"exchanges\" and \"gambling,\" where precision and recall are relatively low. The \"historic\" class shows relatively high precision, recall, and F1-score. Similarly, to the Random Forest Classifier, the \"mining\" class has a precision of 0.00, indicating no positive predictions, and the recall is not defined due to zero true samples.\n",
    "The heatmap in the following piece of code also shows these conclusions visually. For both models, we can also see the level of importance of each feature.\n",
    "\n",
    "In summary, the Decision Tree Classifier shows consistent performance with the Random Forest Classifier as well as a good overall score in both. Since building the best classification model is a never-ending task, further analysis or potential model improvement should be always considered in some classes such as mining.\n"
   ]
  },
  {
   "cell_type": "markdown",
   "metadata": {
    "id": "UrKWkAMqm2V4"
   },
   "source": [
    "## Exercise 4 [4 points]\n",
    "\n",
    "Consider we didn't have the labels for the address, but that you would want to create groups of addresses. Propose a solution.\n"
   ]
  },
  {
   "cell_type": "code",
   "execution_count": null,
   "metadata": {
    "id": "AkekcJbbEhKj"
   },
   "outputs": [],
   "source": [
    "date_cols = [\"date_first_tx\"]\n",
    "path = os.path.join(LABEL_DIR, LABELDATA_FILE)\n",
    "labels_df = pd.read_csv(path, compression=\"gzip\", parse_dates=date_cols)"
   ]
  },
  {
   "cell_type": "code",
   "execution_count": null,
   "metadata": {
    "id": "tevWDbvjKzm6"
   },
   "outputs": [],
   "source": [
    "import os\n",
    "import ast\n",
    "import pandas as pd\n",
    "\n",
    "date_cols = [\"Time\"]\n",
    "path = os.path.join(DATASET_DIR, LGDATA_FILE)\n",
    "df = pd.read_csv(path, compression=\"gzip\", parse_dates=date_cols)\n",
    "\n",
    "df['Input'] = df['Input'].apply(ast.literal_eval)\n",
    "df['Output'] = df['Output'].apply(ast.literal_eval)\n",
    "\n",
    "inputdf_labels = df[[\"TxId\", \"Height\", \"Input\", \"Sum\", \"Time\"]].explode(\"Input\")\n",
    "outputdf_labels = df[[\"TxId\", \"Height\", \"Output\", \"Sum\", \"Time\"]].explode(\"Output\")\n",
    "outputdf_labels[[\"Output\", \"Value\"]] = outputdf_labels[\"Output\"].to_list()\n",
    "\n",
    "labels_df['address'] = labels_df['address'].str.replace(\"'\", '')\n",
    "addresses = labels_df['address'].to_list()\n",
    "labels_input = inputdf_labels[inputdf_labels['Input'].isin(addresses)]\n",
    "labels_output = outputdf_labels[outputdf_labels['Output'].isin(addresses)]"
   ]
  },
  {
   "cell_type": "code",
   "execution_count": null,
   "metadata": {
    "id": "U4OPNr1UK0ka"
   },
   "outputs": [],
   "source": [
    "in_address = labels_input[['Input', 'TxId']].groupby('Input').count().rename(columns={'TxId': 'Count_Input'})\n",
    "out_address = labels_output[['Output', 'TxId']].groupby('Output').count().rename(columns={'TxId': 'Count_Output'})\n",
    "address = in_address.join(out_address, how='outer').fillna(0)\n",
    "\n",
    "address['Count_Transactions'] = address['Count_Input'] + address['Count_Output']\n",
    "\n",
    "sum_max_address = labels_input[['Input', 'Sum']].groupby('Input').max().rename(columns={'Sum': 'SumMax'})\n",
    "sum_min_address = labels_input[['Input', 'Sum']].groupby('Input').min().rename(columns={'Sum': 'SumMin'})\n",
    "\n",
    "sum_in_address = labels_input[['Input', 'Sum']].groupby('Input').sum().rename(columns={'Sum': 'SumTotal'})\n",
    "sum_avg_address = labels_input[['Input', 'Sum']].groupby('Input').mean().rename(columns={'Sum': 'SumAvg'})\n",
    "\n",
    "featuresDF = address.join(sum_in_address, how='inner').fillna(0)\n",
    "featuresDF = featuresDF.join(sum_avg_address, how='inner').fillna(0)\n",
    "featuresDF = featuresDF.join(sum_max_address, how='inner').fillna(0)\n",
    "featuresDF = featuresDF.join(sum_min_address, how='inner').fillna(0).reset_index().rename(columns={'index': 'Input'})\n",
    "\n",
    "classificationDF = pd.merge(featuresDF, labels_df, right_on='address', left_on='Input')"
   ]
  },
  {
   "cell_type": "code",
   "execution_count": null,
   "metadata": {
    "colab": {
     "base_uri": "https://localhost:8080/",
     "height": 507
    },
    "id": "ZzBwzvMhm2V4",
    "outputId": "7980e68b-fcd5-4a3f-cbe2-2a4461d71023"
   },
   "outputs": [
    {
     "name": "stderr",
     "output_type": "stream",
     "text": [
      "<ipython-input-20-21e5c468929f>:19: FutureWarning: The default value of numeric_only in DataFrameGroupBy.mean is deprecated. In a future version, numeric_only will default to False. Either specify numeric_only or select only columns which should be valid for the function.\n",
      "  cluster_stats = featuresDF.groupby('Cluster').mean()\n"
     ]
    },
    {
     "data": {
      "image/png": "[encoded data removed]",
      "text/plain": [
       "<Figure size 640x480 with 1 Axes>"
      ]
     },
     "metadata": {},
     "output_type": "display_data"
    }
   ],
   "source": [
    "import os\n",
    "import ast\n",
    "import pandas as pd\n",
    "from sklearn.preprocessing import StandardScaler\n",
    "from sklearn.cluster import KMeans\n",
    "from sklearn.decomposition import PCA\n",
    "import matplotlib.pyplot as plt\n",
    "\n",
    "# Feature Scaling\n",
    "scaler = StandardScaler()\n",
    "scaled_features = scaler.fit_transform(featuresDF.iloc[:, 1:])\n",
    "\n",
    "# Clustering (K-Means)\n",
    "n_clusters = 5\n",
    "kmeans = KMeans(n_clusters=n_clusters, random_state=42, n_init=10)\n",
    "featuresDF['Cluster'] = kmeans.fit_predict(scaled_features)\n",
    "\n",
    "# Explore the Clusters\n",
    "cluster_stats = featuresDF.groupby('Cluster').mean()\n",
    "\n",
    "# Visualization using PCA\n",
    "pca = PCA(n_components=2)\n",
    "reduced_features = pca.fit_transform(scaled_features)\n",
    "\n",
    "plt.scatter(reduced_features[:, 0], reduced_features[:, 1], c=featuresDF['Cluster'], cmap='viridis')\n",
    "plt.title('Cluster Visualization')\n",
    "plt.show()"
   ]
  },
  {
   "cell_type": "code",
   "execution_count": null,
   "metadata": {
    "colab": {
     "base_uri": "https://localhost:8080/"
    },
    "id": "MSdn-u85O46-",
    "outputId": "691c3cd3-5656-4581-bd08-4c33d7f0648b"
   },
   "outputs": [
    {
     "name": "stderr",
     "output_type": "stream",
     "text": [
      "/usr/local/lib/python3.10/dist-packages/sklearn/metrics/_classification.py:1344: UndefinedMetricWarning: Precision and F-score are ill-defined and being set to 0.0 in labels with no predicted samples. Use `zero_division` parameter to control this behavior.\n",
      "  _warn_prf(average, modifier, msg_start, len(result))\n",
      "/usr/local/lib/python3.10/dist-packages/sklearn/metrics/_classification.py:1344: UndefinedMetricWarning: Precision and F-score are ill-defined and being set to 0.0 in labels with no predicted samples. Use `zero_division` parameter to control this behavior.\n",
      "  _warn_prf(average, modifier, msg_start, len(result))\n"
     ]
    },
    {
     "name": "stdout",
     "output_type": "stream",
     "text": [
      "Random Forest Classifier Results:\n",
      "Accuracy: 0.7338572364112639\n",
      "Precision: 0.5385464434331777\n",
      "Recall: 0.7338572364112639\n",
      "Confusion Matrix:\n",
      "[[   0    0  207    0    0]\n",
      " [   0    0  141    0    0]\n",
      " [   0    0 5603    0    0]\n",
      " [   0    0    4    0    0]\n",
      " [   0    0 1680    0    0]]\n",
      "Classifier Report:\n",
      "              precision    recall  f1-score   support\n",
      "\n",
      "   exchanges       0.00      0.00      0.00       207\n",
      "    gambling       0.00      0.00      0.00       141\n",
      "    historic       0.73      1.00      0.85      5603\n",
      "      mining       0.00      0.00      0.00         4\n",
      "     service       0.00      0.00      0.00      1680\n",
      "\n",
      "    accuracy                           0.73      7635\n",
      "   macro avg       0.15      0.20      0.17      7635\n",
      "weighted avg       0.54      0.73      0.62      7635\n",
      "\n",
      "Feature Importance:\n",
      "Cluster: 1.0\n"
     ]
    },
    {
     "name": "stderr",
     "output_type": "stream",
     "text": [
      "/usr/local/lib/python3.10/dist-packages/sklearn/metrics/_classification.py:1344: UndefinedMetricWarning: Precision and F-score are ill-defined and being set to 0.0 in labels with no predicted samples. Use `zero_division` parameter to control this behavior.\n",
      "  _warn_prf(average, modifier, msg_start, len(result))\n",
      "/usr/local/lib/python3.10/dist-packages/sklearn/metrics/_classification.py:1344: UndefinedMetricWarning: Precision and F-score are ill-defined and being set to 0.0 in labels with no predicted samples. Use `zero_division` parameter to control this behavior.\n",
      "  _warn_prf(average, modifier, msg_start, len(result))\n"
     ]
    }
   ],
   "source": [
    "from sklearn.model_selection import train_test_split\n",
    "from sklearn.ensemble import RandomForestClassifier\n",
    "from sklearn.metrics import accuracy_score, classification_report, confusion_matrix\n",
    "from sklearn.metrics import precision_recall_fscore_support\n",
    "\n",
    "# Assuming featuresDF contains the clustering information\n",
    "# You may need to adjust this depending on how your clustering results are stored\n",
    "classificationDF['Cluster'] = featuresDF['Cluster']\n",
    "\n",
    "# Subsetting the data\n",
    "classificationDF = classificationDF.sample(frac=0.2)\n",
    "\n",
    "# Features and labels\n",
    "features = classificationDF[['Cluster']]\n",
    "label = classificationDF['type']\n",
    "\n",
    "# Train-test split\n",
    "X_train, X_test, y_train, y_test = train_test_split(features, label, test_size=0.2, random_state=42)\n",
    "\n",
    "# Random Forest Classifier\n",
    "rf_classifier = RandomForestClassifier(n_estimators=100, random_state=42)\n",
    "rf_classifier.fit(X_train, y_train)\n",
    "rf_y_pred = rf_classifier.predict(X_test)\n",
    "\n",
    "# Get feature importance with feature names\n",
    "feature_importance_rf = dict(zip(features.columns, rf_classifier.feature_importances_))\n",
    "\n",
    "# Evaluation\n",
    "rf_accuracy = accuracy_score(y_test, rf_y_pred)\n",
    "rf_conf_matrix = confusion_matrix(y_test, rf_y_pred)\n",
    "rf_class_report = classification_report(y_test, rf_y_pred)\n",
    "\n",
    "# Extract precision and recall\n",
    "rf_precision, rf_recall, _, _ = precision_recall_fscore_support(y_test, rf_y_pred, average='weighted')\n",
    "\n",
    "# Print the results\n",
    "print(f'Random Forest Classifier Results:')\n",
    "print(f'Accuracy: {rf_accuracy}')\n",
    "print(f'Precision: {rf_precision}')\n",
    "print(f'Recall: {rf_recall}')\n",
    "print(f'Confusion Matrix:\\n{rf_conf_matrix}')\n",
    "print(f'Classifier Report:\\n{rf_class_report}')\n",
    "print(f'Feature Importance:')\n",
    "for feature, importance in feature_importance_rf.items():\n",
    "    print(f'{feature}: {importance}')"
   ]
  },
  {
   "cell_type": "code",
   "execution_count": null,
   "metadata": {
    "colab": {
     "base_uri": "https://localhost:8080/",
     "height": 466
    },
    "id": "8vfJLnGbPUUC",
    "outputId": "5fc86efa-5b03-4b69-8079-654c0ec84e50"
   },
   "outputs": [
    {
     "data": {
      "text/plain": [
       "Text(0.5, 23.52222222222222, 'Predicted\\xa0value')"
      ]
     },
     "execution_count": 22,
     "metadata": {},
     "output_type": "execute_result"
    },
    {
     "data": {
      "image/png": "[encoded data removed]",
      "text/plain": [
       "<Figure size 640x480 with 2 Axes>"
      ]
     },
     "metadata": {},
     "output_type": "display_data"
    }
   ],
   "source": [
    "fig, ax = plt.subplots()\n",
    "\n",
    "sns.heatmap(pd.DataFrame(rf_conf_matrix), annot=True)\n",
    "plt.ylabel('Actual value')\n",
    "plt.xlabel('Predicted value')"
   ]
  },
  {
   "cell_type": "code",
   "execution_count": null,
   "metadata": {
    "colab": {
     "base_uri": "https://localhost:8080/"
    },
    "id": "bTNtrAKWP0dg",
    "outputId": "d22ddcb1-84ef-4482-dd19-02a0cf7d70eb"
   },
   "outputs": [
    {
     "name": "stderr",
     "output_type": "stream",
     "text": [
      "/usr/local/lib/python3.10/dist-packages/sklearn/metrics/_classification.py:1344: UndefinedMetricWarning: Precision and F-score are ill-defined and being set to 0.0 in labels with no predicted samples. Use `zero_division` parameter to control this behavior.\n",
      "  _warn_prf(average, modifier, msg_start, len(result))\n",
      "/usr/local/lib/python3.10/dist-packages/sklearn/metrics/_classification.py:1344: UndefinedMetricWarning: Precision and F-score are ill-defined and being set to 0.0 in labels with no predicted samples. Use `zero_division` parameter to control this behavior.\n",
      "  _warn_prf(average, modifier, msg_start, len(result))\n"
     ]
    },
    {
     "name": "stdout",
     "output_type": "stream",
     "text": [
      "Decision Tree Classifier Results:\n",
      "Accuracy: 0.7338572364112639\n",
      "Precision: 0.5385464434331777\n",
      "Recall: 0.7338572364112639\n",
      "Confusion Matrix:\n",
      "[[   0    0  207    0    0]\n",
      " [   0    0  141    0    0]\n",
      " [   0    0 5603    0    0]\n",
      " [   0    0    4    0    0]\n",
      " [   0    0 1680    0    0]]\n",
      "Classifier Report:\n",
      "              precision    recall  f1-score   support\n",
      "\n",
      "   exchanges       0.00      0.00      0.00       207\n",
      "    gambling       0.00      0.00      0.00       141\n",
      "    historic       0.73      1.00      0.85      5603\n",
      "      mining       0.00      0.00      0.00         4\n",
      "     service       0.00      0.00      0.00      1680\n",
      "\n",
      "    accuracy                           0.73      7635\n",
      "   macro avg       0.15      0.20      0.17      7635\n",
      "weighted avg       0.54      0.73      0.62      7635\n",
      "\n",
      "Feature Importance:\n",
      "Cluster: 1.0\n"
     ]
    },
    {
     "name": "stderr",
     "output_type": "stream",
     "text": [
      "/usr/local/lib/python3.10/dist-packages/sklearn/metrics/_classification.py:1344: UndefinedMetricWarning: Precision and F-score are ill-defined and being set to 0.0 in labels with no predicted samples. Use `zero_division` parameter to control this behavior.\n",
      "  _warn_prf(average, modifier, msg_start, len(result))\n",
      "/usr/local/lib/python3.10/dist-packages/sklearn/metrics/_classification.py:1344: UndefinedMetricWarning: Precision and F-score are ill-defined and being set to 0.0 in labels with no predicted samples. Use `zero_division` parameter to control this behavior.\n",
      "  _warn_prf(average, modifier, msg_start, len(result))\n"
     ]
    }
   ],
   "source": [
    "from sklearn.tree import DecisionTreeClassifier\n",
    "from sklearn.model_selection import train_test_split\n",
    "from sklearn.metrics import accuracy_score, classification_report, confusion_matrix, precision_recall_fscore_support\n",
    "\n",
    "# Assuming featuresDF contains the clustering information\n",
    "# You may need to adjust this depending on how your clustering results are stored\n",
    "classificationDF['Cluster'] = featuresDF['Cluster']\n",
    "\n",
    "# Features and labels\n",
    "features = classificationDF[['Cluster']]\n",
    "label = classificationDF['type']\n",
    "\n",
    "# Train-test split\n",
    "X_train, X_test, y_train, y_test = train_test_split(features, label, test_size=0.2, random_state=42)\n",
    "\n",
    "# Decision Tree Classifier\n",
    "dt_classifier = DecisionTreeClassifier(random_state=42)\n",
    "dt_classifier.fit(X_train, y_train)\n",
    "dt_y_pred = dt_classifier.predict(X_test)\n",
    "\n",
    "# Get feature importance with feature names\n",
    "feature_importance_dt = dict(zip(features.columns, dt_classifier.feature_importances_))\n",
    "\n",
    "# Evaluation\n",
    "dt_accuracy = accuracy_score(y_test, dt_y_pred)\n",
    "dt_conf_matrix = confusion_matrix(y_test, dt_y_pred)\n",
    "dt_class_report = classification_report(y_test, dt_y_pred)\n",
    "\n",
    "# Extract precision and recall for Decision Tree\n",
    "dt_precision, dt_recall, _, _ = precision_recall_fscore_support(y_test, dt_y_pred, average='weighted')\n",
    "\n",
    "# Print the results for Decision Tree Classifier\n",
    "print(f'Decision Tree Classifier Results:')\n",
    "print(f'Accuracy: {dt_accuracy}')\n",
    "print(f'Precision: {dt_precision}')\n",
    "print(f'Recall: {dt_recall}')\n",
    "print(f'Confusion Matrix:\\n{dt_conf_matrix}')\n",
    "print(f'Classifier Report:\\n{dt_class_report}')\n",
    "print(f'Feature Importance:')\n",
    "for feature, importance in feature_importance_dt.items():\n",
    "    print(f'{feature}: {importance}')"
   ]
  },
  {
   "cell_type": "code",
   "execution_count": null,
   "metadata": {
    "colab": {
     "base_uri": "https://localhost:8080/",
     "height": 466
    },
    "id": "CZR5BDX7P_qx",
    "outputId": "bc28d005-c810-4c46-8aa8-f2b554e85a25"
   },
   "outputs": [
    {
     "data": {
      "text/plain": [
       "Text(0.5, 23.52222222222222, 'Predicted\\xa0value')"
      ]
     },
     "execution_count": 20,
     "metadata": {},
     "output_type": "execute_result"
    },
    {
     "data": {
      "image/png": "[encoded data removed]",
      "text/plain": [
       "<Figure size 640x480 with 2 Axes>"
      ]
     },
     "metadata": {},
     "output_type": "display_data"
    }
   ],
   "source": [
    "fig, ax = plt.subplots()\n",
    "\n",
    "sns.heatmap(pd.DataFrame(dt_conf_matrix), annot=True)\n",
    "plt.ylabel('Actual value')\n",
    "plt.xlabel('Predicted value')"
   ]
  },
  {
   "cell_type": "markdown",
   "metadata": {
    "id": "bFHaLxEsm2V4"
   },
   "source": [
    "#### Discussion\n",
    "\n",
    "**Explain your code and discuss results**\n",
    "\n",
    "The exercise 4 follows the same logic as 3 but there is one condition in the question that changes the approach: we didn't have the labels for the address and we want to create groups of addresses. The solution could to be found by developing a model similarly as stated in question 3.\n",
    "\n",
    "As in 3, the code starts by processing the dataset related to transactions and addresses and creating features from the data. The fourth piece of the code is the most important because it utilizes unsupervised learning techniques, specifically K-Means clustering and Principal Component Analysis (PCA), to identify patterns and groupings within a dataset.\n",
    "\n",
    "It scales the features using StandardScaler, applies K-Means clustering with five clusters, explores cluster characteristics through statistical analysis, and visually represents the clusters in a 2D space using PCA, providing insights into the inherent structure of the data without relying on predefined labels. The cluster visualization obtained from the plot, with a multitude of clusters concentrated in the bottom left and a lone cluster in the top-right, indicates a dominant pattern among most addresses, while the isolated cluster may represent outliers or addresses with unique transaction characteristics.\n",
    "We thought of using t-SNE for cluster visualization instead of PCA because it may be advantageous in capturing non-linear patterns, preserving local structures, handling crowded clusters, and providing a more informative representation, especially when dealing with high-dimensional data which is the case here. We ended choosing PCA because it’s faster and spend less time running.\n",
    "\n",
    "The result of the Random Forest Classifier achieved an accuracy of 73.4%, with precision and recall both around 53.9%. The precision and recall values indicate that the model's performance is not balanced across classes which is normal because can't see the labels for the addresses. The confusion matrix shows that the model is predicting most instances as the \"historic\" class (label 2), leading to a lack of diversity in predictions. There are no predictions for the \"exchanges,\" \"gambling,\" and \"mining\" classes. Precision, recall, and F1-score metrics indicate poor performance for the \"exchanges,\" \"gambling,\" \"mining,\" and \"service\" classes. The high recall for the \"historic\" class is due to the imbalanced nature of the dataset, where most instances belong to this class. Also, the feature importance analysis highlights that the decision tree heavily relies on the \"Cluster\" feature for decision-making.\n",
    "\n",
    "Finally, the model shows a lack of sensitivity to minority classes (\"exchanges,\" \"gambling,\" \"mining,\" and \"service\"), as indicated by low precision, recall, and F1-score values for these classes. It tends to predict most instances as the majority class (\"historic\"), leading to high recall for this class but poor performance for others. The overall accuracy might be misleading due to the dominance of the \"historic\" class in the dataset. The plot also evidences the statements made above. The following plot confirms these results\n",
    "\n",
    "On the other hand, the Decision Tree Classifier achieved an accuracy of 73.4%, with precision and recall both around 53.9%, identical to the Random Forest Classifier.\n",
    "Like the Random Forest Classifier, the precision and recall values indicate an imbalanced performance across classes. The confusion matrix is identical to that of the Random Forest Classifier, indicating that the Decision Tree Classifier also tends to predict most instances as the \"historic\" class. Precision, recall, and F1-score metrics are consistent with the overall imbalanced performance across classes.\n",
    "\n",
    "Concluding, the Decision Tree Classifier demonstrates similar imbalanced class predictions as the Random Forest Classifier, with a focus on the majority class (\"historic\"). The overall accuracy might be misleading due to the dominance of the \"historic\" class in the dataset. The following plot also confirms these results\n",
    "\n",
    "For both models, further analysis, data preprocessing (such as addressing class imbalance), or model tuning may be necessary to improve performance on minority classes. The results are poor because we are using unsupervised learning techniques, so it’s difficult to find a better result when compared to supervised learning techniques.\n",
    "\n",
    "Also, it is important to state that the results will always depend on the number of records per category that the code randomly assigns while sub setting the dataset. That can explain the higher number of predictions in the historic category. There might exist alternative solutions such as a balanced subset to get the same number of records for each type that we didn’t get to have time to explore (for example, creating a subset with 100 historic records, 100 service records, 100 gambling records, 100 exchange records and 100 mining records).\n"
   ]
  },
  {
   "cell_type": "markdown",
   "metadata": {
    "id": "oqI5LF2Gm2V5"
   },
   "source": [
    "## Exercise 5 [3+1 points]\n",
    "\n",
    "Propose a problem to solve and implement it (for 3 points).\n",
    "\n",
    "Use cuDF/cuML/cuGrpahs for 1 extra point."
   ]
  },
  {
   "cell_type": "code",
   "execution_count": null,
   "metadata": {
    "id": "Eh15qutxm2V5"
   },
   "outputs": [],
   "source": [
    "import pandas as pd\n",
    "\n",
    "# Assuming classificationDF is your DataFrame\n",
    "classificationDF['date_first_tx'] = pd.to_datetime(classificationDF['date_first_tx']).dt.strftime('%m/%d/%Y')\n",
    "classificationDF['date_first_tx'] = classificationDF['date_first_tx'].astype(str)\n",
    "\n",
    "# Rename the column to \"Date\"\n",
    "classificationDF = classificationDF.rename(columns={'date_first_tx': 'Date'})\n"
   ]
  },
  {
   "cell_type": "code",
   "execution_count": null,
   "metadata": {
    "colab": {
     "base_uri": "https://localhost:8080/"
    },
    "id": "wgvYxvURWCjq",
    "outputId": "ffd5fa85-9a08-4169-a075-635ef03b27c3"
   },
   "outputs": [
    {
     "name": "stdout",
     "output_type": "stream",
     "text": [
      "Sat Dec  2 21:11:46 2023       \n",
      "+-----------------------------------------------------------------------------+\n",
      "| NVIDIA-SMI 525.105.17   Driver Version: 525.105.17   CUDA Version: 12.0     |\n",
      "|-------------------------------+----------------------+----------------------+\n",
      "| GPU  Name        Persistence-M| Bus-Id        Disp.A | Volatile Uncorr. ECC |\n",
      "| Fan  Temp  Perf  Pwr:Usage/Cap|         Memory-Usage | GPU-Util  Compute M. |\n",
      "|                               |                      |               MIG M. |\n",
      "|===============================+======================+======================|\n",
      "|   0  Tesla T4            Off  | 00000000:00:04.0 Off |                    0 |\n",
      "| N/A   58C    P8    12W /  70W |      0MiB / 15360MiB |      0%      Default |\n",
      "|                               |                      |                  N/A |\n",
      "+-------------------------------+----------------------+----------------------+\n",
      "                                                                               \n",
      "+-----------------------------------------------------------------------------+\n",
      "| Processes:                                                                  |\n",
      "|  GPU   GI   CI        PID   Type   Process name                  GPU Memory |\n",
      "|        ID   ID                                                   Usage      |\n",
      "|=============================================================================|\n",
      "|  No running processes found                                                 |\n",
      "+-----------------------------------------------------------------------------+\n"
     ]
    }
   ],
   "source": [
    "!nvidia-smi"
   ]
  },
  {
   "cell_type": "code",
   "execution_count": null,
   "metadata": {
    "colab": {
     "base_uri": "https://localhost:8080/"
    },
    "id": "mOeqYEi4W_1Q",
    "outputId": "73092734-4c12-4fd4-8ca7-3e5c413a1108"
   },
   "outputs": [
    {
     "name": "stdout",
     "output_type": "stream",
     "text": [
      "Cloning into 'rapidsai-csp-utils'...\n",
      "remote: Enumerating objects: 400, done.\u001b[K\n",
      "remote: Counting objects: 100% (131/131), done.\u001b[K\n",
      "remote: Compressing objects: 100% (80/80), done.\u001b[K\n",
      "remote: Total 400 (delta 95), reused 52 (delta 51), pack-reused 269\u001b[K\n",
      "Receiving objects: 100% (400/400), 109.76 KiB | 15.68 MiB/s, done.\n",
      "Resolving deltas: 100% (197/197), done.\n",
      "Collecting pynvml\n",
      "  Downloading pynvml-11.5.0-py3-none-any.whl (53 kB)\n",
      "     ━━━━━━━━━━━━━━━━━━━━━━━━━━━━━━━━━━━━━━━━ 53.1/53.1 kB 906.5 kB/s eta 0:00:00\n",
      "Installing collected packages: pynvml\n",
      "Successfully installed pynvml-11.5.0\n",
      "***********************************************************************\n",
      "Woo! Your instance has the right kind of GPU, a Tesla T4!\n",
      "We will now install RAPIDS via pip!  Please stand by, should be quick...\n",
      "***********************************************************************\n",
      "\n"
     ]
    }
   ],
   "source": [
    "# This get the RAPIDS-Colab install files and test check your GPU.  Run this and the next cell only.\n",
    "# Please read the output of this cell.  If your Colab Instance is not RAPIDS compatible, it will warn you and give you remediation steps.\n",
    "!git clone https://github.com/rapidsai/rapidsai-csp-utils.git\n",
    "!python rapidsai-csp-utils/colab/env-check.py"
   ]
  },
  {
   "cell_type": "code",
   "execution_count": null,
   "metadata": {
    "colab": {
     "base_uri": "https://localhost:8080/"
    },
    "id": "NFyQ8VLKYHqW",
    "outputId": "64310074-9856-43be-9fc7-b5c1969e201f"
   },
   "outputs": [
    {
     "name": "stdout",
     "output_type": "stream",
     "text": [
      "Updating your Colab environment.  This will restart your kernel.  Don't Panic!\n",
      "Found existing installation: cupy-cuda11x 11.0.0\n",
      "Uninstalling cupy-cuda11x-11.0.0:\n",
      "  Successfully uninstalled cupy-cuda11x-11.0.0\n",
      "PPA publishes dbgsym, you may need to include 'main/debug' component\n",
      "Repository: 'deb https://ppa.launchpadcontent.net/ubuntu-toolchain-r/test/ubuntu/ jammy main'\n",
      "Description:\n",
      "Toolchain test builds; see https://wiki.ubuntu.com/ToolChain\n",
      "\n",
      "More info: https://launchpad.net/~ubuntu-toolchain-r/+archive/ubuntu/test\n",
      "Adding repository.\n",
      "Adding deb entry to /etc/apt/sources.list.d/ubuntu-toolchain-r-ubuntu-test-jammy.list\n",
      "Adding disabled deb-src entry to /etc/apt/sources.list.d/ubuntu-toolchain-r-ubuntu-test-jammy.list\n",
      "Adding key to /etc/apt/trusted.gpg.d/ubuntu-toolchain-r-ubuntu-test.gpg with fingerprint 60C317803A41BA51845E371A1E9377A2BA9EF27F\n",
      "Get:1 https://cloud.r-project.org/bin/linux/ubuntu jammy-cran40/ InRelease [3,626 B]\n",
      "Hit:2 https://developer.download.nvidia.com/compute/cuda/repos/ubuntu2204/x86_64  InRelease\n",
      "Get:3 http://security.ubuntu.com/ubuntu jammy-security InRelease [110 kB]\n",
      "Hit:4 http://archive.ubuntu.com/ubuntu jammy InRelease\n",
      "Get:5 http://archive.ubuntu.com/ubuntu jammy-updates InRelease [119 kB]\n",
      "Get:6 https://ppa.launchpadcontent.net/c2d4u.team/c2d4u4.0+/ubuntu jammy InRelease [18.1 kB]\n",
      "Hit:7 https://ppa.launchpadcontent.net/deadsnakes/ppa/ubuntu jammy InRelease\n",
      "Hit:8 https://ppa.launchpadcontent.net/graphics-drivers/ppa/ubuntu jammy InRelease\n",
      "Get:9 https://ppa.launchpadcontent.net/ubuntu-toolchain-r/test/ubuntu jammy InRelease [23.8 kB]\n",
      "Hit:10 https://ppa.launchpadcontent.net/ubuntugis/ppa/ubuntu jammy InRelease\n",
      "Get:11 http://archive.ubuntu.com/ubuntu jammy-backports InRelease [109 kB]\n",
      "Get:12 https://ppa.launchpadcontent.net/c2d4u.team/c2d4u4.0+/ubuntu jammy/main Sources [2,245 kB]\n",
      "Get:13 http://archive.ubuntu.com/ubuntu jammy-updates/restricted amd64 Packages [1,520 kB]\n",
      "Get:14 https://ppa.launchpadcontent.net/c2d4u.team/c2d4u4.0+/ubuntu jammy/main amd64 Packages [1,153 kB]\n",
      "Get:15 https://ppa.launchpadcontent.net/ubuntu-toolchain-r/test/ubuntu jammy/main amd64 Packages [17.4 kB]\n",
      "Get:16 http://archive.ubuntu.com/ubuntu jammy-updates/main amd64 Packages [1,535 kB]\n",
      "Get:17 http://archive.ubuntu.com/ubuntu jammy-updates/universe amd64 Packages [1,294 kB]\n",
      "Fetched 8,146 kB in 3s (2,331 kB/s)\n",
      "Reading package lists... Done\n",
      "Added repo\n",
      "Hit:1 https://cloud.r-project.org/bin/linux/ubuntu jammy-cran40/ InRelease\n",
      "Hit:2 https://developer.download.nvidia.com/compute/cuda/repos/ubuntu2204/x86_64  InRelease\n",
      "Hit:3 http://security.ubuntu.com/ubuntu jammy-security InRelease\n",
      "Hit:4 http://archive.ubuntu.com/ubuntu jammy InRelease\n",
      "Hit:5 http://archive.ubuntu.com/ubuntu jammy-updates InRelease\n",
      "Hit:6 https://ppa.launchpadcontent.net/c2d4u.team/c2d4u4.0+/ubuntu jammy InRelease\n",
      "Hit:7 https://ppa.launchpadcontent.net/deadsnakes/ppa/ubuntu jammy InRelease\n",
      "Hit:8 http://archive.ubuntu.com/ubuntu jammy-backports InRelease\n",
      "Hit:9 https://ppa.launchpadcontent.net/graphics-drivers/ppa/ubuntu jammy InRelease\n",
      "Hit:10 https://ppa.launchpadcontent.net/ubuntu-toolchain-r/test/ubuntu jammy InRelease\n",
      "Hit:11 https://ppa.launchpadcontent.net/ubuntugis/ppa/ubuntu jammy InRelease\n",
      "Reading package lists... Done\n",
      "Installing libstdc++\n",
      "Reading package lists... Done\n",
      "Building dependency tree... Done\n",
      "Reading state information... Done\n",
      "Package libstdc++6 is not available, but is referred to by another package.\n",
      "This may mean that the package is missing, has been obsoleted, or\n",
      "is only available from another source\n",
      "\n",
      "E: Version '11.1.0*' for 'libstdc++6' was not found\n",
      "restarting Colab...\n"
     ]
    }
   ],
   "source": [
    "# This will update the Colab environment and restart the kernel.  Don't run the next cell until you see the session crash.\n",
    "!bash rapidsai-csp-utils/colab/update_gcc.sh\n",
    "import os\n",
    "os._exit(00)"
   ]
  },
  {
   "cell_type": "code",
   "execution_count": null,
   "metadata": {
    "colab": {
     "base_uri": "https://localhost:8080/"
    },
    "id": "4Tiwy16gYXw_",
    "outputId": "24bdd388-c185-4cdd-c435-f4c008361b42"
   },
   "outputs": [
    {
     "name": "stdout",
     "output_type": "stream",
     "text": [
      "⏬ Downloading https://github.com/conda-forge/miniforge/releases/download/23.1.0-1/Mambaforge-23.1.0-1-Linux-x86_64.sh...\n",
      "📦 Installing...\n",
      "📌 Adjusting configuration...\n",
      "🩹 Patching environment...\n",
      "⏲ Done in 0:00:17\n",
      "🔁 Restarting kernel...\n"
     ]
    }
   ],
   "source": [
    "# This will install CondaColab.  This will restart your kernel one last time.  Run this cell by itself and only run the next cell once you see the session crash.\n",
    "import condacolab\n",
    "condacolab.install()"
   ]
  },
  {
   "cell_type": "code",
   "execution_count": null,
   "metadata": {
    "colab": {
     "base_uri": "https://localhost:8080/"
    },
    "id": "OnOhrrKDYlia",
    "outputId": "d5cc8710-929d-4ab4-f1d8-e8980e222be9"
   },
   "outputs": [
    {
     "name": "stdout",
     "output_type": "stream",
     "text": [
      "✨🍰✨ Everything looks OK!\n"
     ]
    }
   ],
   "source": [
    "# you can now run the rest of the cells as normal\n",
    "import condacolab\n",
    "condacolab.check()"
   ]
  },
  {
   "cell_type": "code",
   "execution_count": null,
   "metadata": {
    "colab": {
     "base_uri": "https://localhost:8080/"
    },
    "id": "xRVqb9pwYoDP",
    "outputId": "dce7e29f-6518-4842-b612-71e81438d832"
   },
   "outputs": [
    {
     "name": "stdout",
     "output_type": "stream",
     "text": [
      "Found existing installation: cffi 1.15.1\n",
      "Uninstalling cffi-1.15.1:\n",
      "  Successfully uninstalled cffi-1.15.1\n",
      "WARNING: Running pip as the 'root' user can result in broken permissions and conflicting behaviour with the system package manager. It is recommended to use a virtual environment instead: https://pip.pypa.io/warnings/venv\n",
      "Found existing installation: cryptography 40.0.1\n",
      "Uninstalling cryptography-40.0.1:\n",
      "  Successfully uninstalled cryptography-40.0.1\n",
      "WARNING: Running pip as the 'root' user can result in broken permissions and conflicting behaviour with the system package manager. It is recommended to use a virtual environment instead: https://pip.pypa.io/warnings/venv\n",
      "Collecting cffi==1.15.0\n",
      "  Downloading cffi-1.15.0-cp310-cp310-manylinux_2_12_x86_64.manylinux2010_x86_64.whl (446 kB)\n",
      "     ━━━━━━━━━━━━━━━━━━━━━━━━━━━━━━━━━━━━━━━━ 446.3/446.3 kB 17.6 MB/s eta 0:00:00\n",
      "Requirement already satisfied: pycparser in /usr/local/lib/python3.10/site-packages (from cffi==1.15.0) (2.21)\n",
      "Installing collected packages: cffi\n",
      "Successfully installed cffi-1.15.0\n",
      "WARNING: Running pip as the 'root' user can result in broken permissions and conflicting behaviour with the system package manager. It is recommended to use a virtual environment instead: https://pip.pypa.io/warnings/venv\n",
      "Installing RAPIDS Stable 23.10\n",
      "Starting the RAPIDS install on Colab.  This will take about 15 minutes.\n",
      "Collecting package metadata (current_repodata.json): ...working... done\n",
      "Solving environment: ...working... done\n",
      "\n",
      "\n",
      "==> WARNING: A newer version of conda exists. <==\n",
      "  current version: 23.1.0\n",
      "  latest version: 23.10.0\n",
      "\n",
      "Please update conda by running\n",
      "\n",
      "    $ conda update -n base -c conda-forge conda\n",
      "\n",
      "Or to minimize the number of packages updated during conda update use\n",
      "\n",
      "     conda install conda=23.10.0\n",
      "\n",
      "\n",
      "\n",
      "## Package Plan ##\n",
      "\n",
      "  environment location: /usr/local\n",
      "\n",
      "  added / updated specs:\n",
      "    - mamba\n",
      "\n",
      "\n",
      "The following packages will be downloaded:\n",
      "\n",
      "    package                    |            build\n",
      "    ---------------------------|-----------------\n",
      "    ca-certificates-2023.11.17 |       hbcca054_0         151 KB  conda-forge\n",
      "    certifi-2023.11.17         |     pyhd8ed1ab_0         155 KB  conda-forge\n",
      "    openssl-3.2.0              |       hd590300_1         2.7 MB  conda-forge\n",
      "    python_abi-3.10            |          4_cp310           6 KB  conda-forge\n",
      "    ------------------------------------------------------------\n",
      "                                           Total:         3.0 MB\n",
      "\n",
      "The following packages will be UPDATED:\n",
      "\n",
      "  ca-certificates                      2022.12.7-ha878542_0 --> 2023.11.17-hbcca054_0\n",
      "  certifi                            2022.12.7-pyhd8ed1ab_0 --> 2023.11.17-pyhd8ed1ab_0\n",
      "  openssl                                  3.1.0-h0b41bf4_0 --> 3.2.0-hd590300_1\n",
      "  python_abi                                   3.10-3_cp310 --> 3.10-4_cp310\n",
      "\n",
      "\n",
      "\n",
      "Downloading and Extracting Packages\n",
      "\n",
      "ca-certificates-2023 | 151 KB    |            |   0%\n",
      "\n",
      "python_abi-3.10      | 6 KB      |            |   0% \u001b[A\n",
      "\n",
      "\n",
      "openssl-3.2.0        | 2.7 MB    |            |   0% \u001b[A\u001b[A\n",
      "\n",
      "\n",
      "\n",
      "certifi-2023.11.17   | 155 KB    |            |   0% \u001b[A\u001b[A\u001b[A\n",
      "ca-certificates-2023 | 151 KB    | #          |  11%\n",
      "\n",
      "python_abi-3.10      | 6 KB      | ########## | 100% \u001b[A\n",
      "\n",
      "\n",
      "\n",
      "certifi-2023.11.17   | 155 KB    | #          |  10% \u001b[A\u001b[A\u001b[A\n",
      "\n",
      "\n",
      "openssl-3.2.0        | 2.7 MB    |            |   1% \u001b[A\u001b[A\n",
      "\n",
      "python_abi-3.10      | 6 KB      | ########## | 100% \u001b[A\n",
      "ca-certificates-2023 | 151 KB    | ########## | 100%\n",
      "\n",
      "\n",
      "\n",
      "certifi-2023.11.17   | 155 KB    | ########## | 100% \u001b[A\u001b[A\u001b[A\n",
      "\n",
      "\n",
      "openssl-3.2.0        | 2.7 MB    | ########## | 100% \u001b[A\u001b[A\n",
      "\n",
      "\n",
      "openssl-3.2.0        | 2.7 MB    | ########## | 100% \u001b[A\u001b[A\n",
      "\n",
      "\n",
      "                                                     \u001b[A\n",
      "\n",
      "\n",
      "                                                     \u001b[A\u001b[A\n",
      "\n",
      "\n",
      "\n",
      "                                                     \u001b[A\u001b[A\u001b[A\n",
      "Preparing transaction: ...working... done\n",
      "Verifying transaction: ...working... done\n",
      "Executing transaction: ...working... done\n",
      "Transaction\n",
      "\n",
      "  Prefix: /usr/local\n",
      "\n",
      "  Updating specs:\n",
      "\n",
      "   - python=3.10\n",
      "   - cudatoolkit=11.8\n",
      "   - rapids=23.10\n",
      "   - llvmlite\n",
      "   - gcsfs\n",
      "   - openssl\n",
      "   - dask-sql\n",
      "   - ca-certificates\n",
      "   - certifi\n",
      "   - openssl\n",
      "\n",
      "\n",
      "  Package                               Version  Build                              Channel                   Size\n",
      "────────────────────────────────────────────────────────────────────────────────────────────────────────────────────\n",
      "  Install:\n",
      "────────────────────────────────────────────────────────────────────────────────────────────────────────────────────\n",
      "\n",
      "  + aiohttp                               3.9.1  py310h2372a71_0                    conda-forge/linux-64     693kB\n",
      "  + aiosignal                             1.3.1  pyhd8ed1ab_0                       conda-forge/noarch        13kB\n",
      "  + annotated-types                       0.6.0  pyhd8ed1ab_0                       conda-forge/noarch        17kB\n",
      "  + anyio                                 3.7.1  pyhd8ed1ab_0                       conda-forge/noarch        97kB\n",
      "  + appdirs                               1.4.4  pyh9f0ad1d_0                       conda-forge/noarch        13kB\n",
      "  + argon2-cffi                          23.1.0  pyhd8ed1ab_0                       conda-forge/noarch        19kB\n",
      "  + argon2-cffi-bindings                 21.2.0  py310h2372a71_4                    conda-forge/linux-64      34kB\n",
      "  + arrow                                 1.3.0  pyhd8ed1ab_0                       conda-forge/noarch       100kB\n",
      "  + async-timeout                         4.0.3  pyhd8ed1ab_0                       conda-forge/noarch        11kB\n",
      "  + attrs                                23.1.0  pyh71513ae_1                       conda-forge/noarch        55kB\n",
      "  + aws-c-auth                            0.7.0  hf8751d9_2                         conda-forge/linux-64     102kB\n",
      "  + aws-c-cal                             0.6.0  h93469e0_0                         conda-forge/linux-64      50kB\n",
      "  + aws-c-common                         0.8.23  hd590300_0                         conda-forge/linux-64     197kB\n",
      "  + aws-c-compression                    0.2.17  h862ab75_1                         conda-forge/linux-64      19kB\n",
      "  + aws-c-event-stream                    0.3.1  h9599702_1                         conda-forge/linux-64      54kB\n",
      "  + aws-c-http                           0.7.11  hbe98c3e_0                         conda-forge/linux-64     194kB\n",
      "  + aws-c-io                            0.13.28  h3870b5a_0                         conda-forge/linux-64     155kB\n",
      "  + aws-c-mqtt                           0.8.14  h2e270ba_2                         conda-forge/linux-64     154kB\n",
      "  + aws-c-s3                             0.3.13  heb0bb06_2                         conda-forge/linux-64      87kB\n",
      "  + aws-c-sdkutils                       0.1.11  h862ab75_1                         conda-forge/linux-64      53kB\n",
      "  + aws-checksums                        0.1.16  h862ab75_1                         conda-forge/linux-64      50kB\n",
      "  + aws-crt-cpp                          0.20.3  he9c0e7f_4                         conda-forge/linux-64     321kB\n",
      "  + aws-sdk-cpp                         1.10.57  hbc2ea52_17                        conda-forge/linux-64       4MB\n",
      "  + beautifulsoup4                       4.12.2  pyha770c72_0                       conda-forge/noarch       115kB\n",
      "  + bleach                                6.1.0  pyhd8ed1ab_0                       conda-forge/noarch       131kB\n",
      "  + blinker                               1.7.0  pyhd8ed1ab_0                       conda-forge/noarch        18kB\n",
      "  + blosc                                1.21.5  h0f2a231_0                         conda-forge/linux-64      49kB\n",
      "  + bokeh                                 3.3.2  pyhd8ed1ab_0                       conda-forge/noarch         5MB\n",
      "  + branca                                0.7.0  pyhd8ed1ab_1                       conda-forge/noarch        29kB\n",
      "  + brotli                                1.0.9  h166bdaf_9                         conda-forge/linux-64      20kB\n",
      "  + brotli-bin                            1.0.9  h166bdaf_9                         conda-forge/linux-64      20kB\n",
      "  + cached-property                       1.5.2  hd8ed1ab_1                         conda-forge/noarch         4kB\n",
      "  + cached_property                       1.5.2  pyha770c72_1                       conda-forge/noarch        11kB\n",
      "  + cachetools                            5.3.2  pyhd8ed1ab_0                       conda-forge/noarch        15kB\n",
      "  + cairo                                1.16.0  hbbf8b49_1016                      conda-forge/linux-64       1MB\n",
      "  + cfitsio                               4.2.0  hd9d235c_0                         conda-forge/linux-64     848kB\n",
      "  + click                                 8.1.7  unix_pyh707e725_0                  conda-forge/noarch        84kB\n",
      "  + click-plugins                         1.1.1  py_0                               conda-forge/noarch         9kB\n",
      "  + cligj                                 0.7.2  pyhd8ed1ab_1                       conda-forge/noarch        10kB\n",
      "  + cloudpickle                           3.0.0  pyhd8ed1ab_0                       conda-forge/noarch        25kB\n",
      "  + colorcet                              3.0.1  pyhd8ed1ab_0                       conda-forge/noarch         2MB\n",
      "  + contourpy                             1.2.0  py310hd41b1e2_0                    conda-forge/linux-64     239kB\n",
      "  + cubinlinker                           0.3.0  py310hfdf336d_0                    rapidsai/linux-64          8MB\n",
      "  + cucim                              23.10.00  cuda11_py310_231011_g8dd1727_0     rapidsai/linux-64          4MB\n",
      "  + cuda-cudart                         11.8.89  0                                  nvidia/linux-64          202kB\n",
      "  + cuda-nvrtc                          11.8.89  0                                  nvidia/linux-64           20MB\n",
      "  + cuda-profiler-api                   11.8.86  0                                  nvidia/linux-64           19kB\n",
      "  + cuda-python                          11.8.3  py310hf9913ef_0                    nvidia/linux-64            6MB\n",
      "  + cuda-version                           11.8  h70ddcb2_2                         conda-forge/noarch        21kB\n",
      "  + cudatoolkit                          11.8.0  h4ba93d1_12                        conda-forge/linux-64     716MB\n",
      "  + cudf                               23.10.02  cuda11_py310_231116_gece2b2c524_0  rapidsai/linux-64          8MB\n",
      "  + cudf_kafka                         23.10.02  cuda11_py310_231116_gece2b2c524_0  rapidsai/linux-64        139kB\n",
      "  + cugraph                            23.10.00  cuda11_py310_231011_gc3dc860d_0    rapidsai/linux-64          2MB\n",
      "  + cuml                               23.10.00  cuda11_py310_231011_g623996072_0   rapidsai/linux-64         10MB\n",
      "  + cuproj                             23.10.00  cuda11_py310_231011_g29cddcdc_0    rapidsai/linux-64        875kB\n",
      "  + cupy                                 12.2.0  py310hf4db66c_4                    conda-forge/linux-64      42MB\n",
      "  + cuspatial                          23.10.00  cuda11_py310_231011_g29cddcdc_0    rapidsai/linux-64        996kB\n",
      "  + custreamz                          23.10.02  cuda11_py310_231116_gece2b2c524_0  rapidsai/linux-64         34kB\n",
      "  + cuxfilter                          23.10.00  cuda11_py310_231011_g6600aff_0     rapidsai/linux-64        112kB\n",
      "  + cycler                               0.12.1  pyhd8ed1ab_0                       conda-forge/noarch        13kB\n",
      "  + cyrus-sasl                           2.1.27  h54b06d7_7                         conda-forge/linux-64     220kB\n",
      "  + cytoolz                              0.12.2  py310h2372a71_1                    conda-forge/linux-64     368kB\n",
      "  + dask                               2023.9.2  pyhd8ed1ab_0                       conda-forge/noarch         7kB\n",
      "  + dask-core                          2023.9.2  pyhd8ed1ab_0                       conda-forge/noarch       859kB\n",
      "  + dask-cuda                          23.10.00  py310_231011_gdc811d3_0            rapidsai/linux-64        188kB\n",
      "  + dask-cudf                          23.10.02  cuda11_py310_231116_gece2b2c524_0  rapidsai/linux-64        138kB\n",
      "  + dask-sql                          2023.11.0  py310hac45122_0                    conda-forge/linux-64      12MB\n",
      "  + datashader                           0.16.0  pyhd8ed1ab_0                       conda-forge/noarch        17MB\n",
      "  + decorator                             5.1.1  pyhd8ed1ab_0                       conda-forge/noarch        12kB\n",
      "  + defusedxml                            0.7.1  pyhd8ed1ab_0                       conda-forge/noarch        24kB\n",
      "  + distributed                        2023.9.2  pyhd8ed1ab_0                       conda-forge/noarch       785kB\n",
      "  + dlpack                                  0.5  h9c3ff4c_0                         conda-forge/linux-64      13kB\n",
      "  + entrypoints                             0.4  pyhd8ed1ab_0                       conda-forge/noarch         9kB\n",
      "  + exceptiongroup                        1.2.0  pyhd8ed1ab_0                       conda-forge/noarch        20kB\n",
      "  + expat                                 2.5.0  hcb278e6_1                         conda-forge/linux-64     137kB\n",
      "  + fastapi                             0.104.1  pyhd8ed1ab_0                       conda-forge/noarch        71kB\n",
      "  + fastrlock                             0.8.2  py310hc6cd4ac_1                    conda-forge/linux-64      37kB\n",
      "  + fiona                                 1.9.3  py310ha325b7b_0                    conda-forge/linux-64     902kB\n",
      "  + folium                               0.15.0  pyhd8ed1ab_0                       conda-forge/noarch        73kB\n",
      "  + font-ttf-dejavu-sans-mono              2.37  hab24e00_0                         conda-forge/noarch       397kB\n",
      "  + font-ttf-inconsolata                  3.000  h77eed37_0                         conda-forge/noarch        97kB\n",
      "  + font-ttf-source-code-pro              2.038  h77eed37_0                         conda-forge/noarch       701kB\n",
      "  + font-ttf-ubuntu                        0.83  h77eed37_1                         conda-forge/noarch         2MB\n",
      "  + fontconfig                           2.14.2  h14ed4e7_0                         conda-forge/linux-64     272kB\n",
      "  + fonts-conda-ecosystem                     1  0                                  conda-forge/noarch         4kB\n",
      "  + fonts-conda-forge                         1  0                                  conda-forge/noarch         4kB\n",
      "  + fonttools                            4.46.0  py310h2372a71_0                    conda-forge/linux-64       2MB\n",
      "  + fqdn                                  1.5.1  pyhd8ed1ab_0                       conda-forge/noarch        14kB\n",
      "  + freetype                             2.12.1  h267a509_2                         conda-forge/linux-64     635kB\n",
      "  + freexl                                2.0.0  h743c826_0                         conda-forge/linux-64      60kB\n",
      "  + frozenlist                            1.4.0  py310h2372a71_1                    conda-forge/linux-64      54kB\n",
      "  + fsspec                            2023.10.0  pyhca7485f_0                       conda-forge/noarch       125kB\n",
      "  + gcsfs                             2023.10.0  pyhd8ed1ab_0                       conda-forge/noarch        36kB\n",
      "  + gdal                                  3.6.4  py310h5c4b078_20                   conda-forge/linux-64       1MB\n",
      "  + gdk-pixbuf                          2.42.10  h6c15284_3                         conda-forge/linux-64     574kB\n",
      "  + geopandas                            0.14.1  pyhd8ed1ab_0                       conda-forge/noarch         8kB\n",
      "  + geopandas-base                       0.14.1  pyha770c72_0                       conda-forge/noarch         1MB\n",
      "  + geos                                 3.12.0  h59595ed_0                         conda-forge/linux-64       2MB\n",
      "  + geotiff                               1.7.1  hee599c5_13                        conda-forge/linux-64     133kB\n",
      "  + gettext                              0.21.1  h27087fc_0                         conda-forge/linux-64       4MB\n",
      "  + gflags                                2.2.2  he1b5a44_1004                      conda-forge/linux-64     117kB\n",
      "  + giflib                                5.2.1  h0b41bf4_3                         conda-forge/linux-64      77kB\n",
      "  + glog                                  0.6.0  h6f12383_0                         conda-forge/linux-64     114kB\n",
      "  + gmock                                1.14.0  ha770c72_1                         conda-forge/linux-64       7kB\n",
      "  + google-api-core                      2.14.0  pyhd8ed1ab_0                       conda-forge/noarch        79kB\n",
      "  + google-auth                          2.24.0  pyhca7485f_0                       conda-forge/noarch       104kB\n",
      "  + google-auth-oauthlib                  1.1.0  pyhd8ed1ab_0                       conda-forge/noarch        21kB\n",
      "  + google-cloud-core                     2.3.3  pyhd8ed1ab_0                       conda-forge/noarch        29kB\n",
      "  + google-cloud-storage                 2.13.0  pyhca7485f_0                       conda-forge/noarch        87kB\n",
      "  + google-crc32c                         1.1.2  py310hc5c09a0_5                    conda-forge/linux-64      24kB\n",
      "  + google-resumable-media                2.6.0  pyhd8ed1ab_0                       conda-forge/noarch        46kB\n",
      "  + googleapis-common-protos             1.61.0  pyhd8ed1ab_0                       conda-forge/noarch       123kB\n",
      "  + grpcio                               1.54.2  py310heca2aa9_2                    conda-forge/linux-64     755kB\n",
      "  + gtest                                1.14.0  h00ab1b0_1                         conda-forge/linux-64     405kB\n",
      "  + h11                                  0.14.0  pyhd8ed1ab_0                       conda-forge/noarch        48kB\n",
      "  + h2                                    4.1.0  pyhd8ed1ab_0                       conda-forge/noarch        47kB\n",
      "  + hdf4                                 4.2.15  h501b40f_6                         conda-forge/linux-64     758kB\n",
      "  + hdf5                                 1.14.2  nompi_h4f84152_100                 conda-forge/linux-64       4MB\n",
      "  + holoviews                            1.18.1  pyhd8ed1ab_0                       conda-forge/noarch         3MB\n",
      "  + hpack                                 4.0.0  pyh9f0ad1d_0                       conda-forge/noarch        25kB\n",
      "  + httpcore                              1.0.2  pyhd8ed1ab_0                       conda-forge/noarch        45kB\n",
      "  + httpx                                0.25.2  pyhd8ed1ab_0                       conda-forge/noarch        64kB\n",
      "  + hyperframe                            6.0.1  pyhd8ed1ab_0                       conda-forge/noarch        15kB\n",
      "  + imagecodecs-lite                  2019.12.3  py310h1f7b6fc_7                    conda-forge/linux-64     169kB\n",
      "  + imageio                              2.31.5  pyh8c1a49c_0                       conda-forge/noarch       291kB\n",
      "  + importlib-metadata                    6.9.0  pyha770c72_0                       conda-forge/noarch        26kB\n",
      "  + importlib_metadata                    6.9.0  hd8ed1ab_0                         conda-forge/noarch        10kB\n",
      "  + importlib_resources                   6.1.1  pyhd8ed1ab_0                       conda-forge/noarch        30kB\n",
      "  + isoduration                         20.11.0  pyhd8ed1ab_0                       conda-forge/noarch        17kB\n",
      "  + jbig                                    2.1  h7f98852_2003                      conda-forge/linux-64      44kB\n",
      "  + jinja2                                3.1.2  pyhd8ed1ab_1                       conda-forge/noarch       101kB\n",
      "  + joblib                                1.3.2  pyhd8ed1ab_0                       conda-forge/noarch       221kB\n",
      "  + json-c                                 0.17  h7ab15ed_0                         conda-forge/linux-64      83kB\n",
      "  + jsonpointer                             2.4  py310hff52083_3                    conda-forge/linux-64      16kB\n",
      "  + jsonschema                           4.20.0  pyhd8ed1ab_0                       conda-forge/noarch        72kB\n",
      "  + jsonschema-specifications         2023.11.2  pyhd8ed1ab_0                       conda-forge/noarch        16kB\n",
      "  + jsonschema-with-format-nongpl        4.20.0  pyhd8ed1ab_0                       conda-forge/noarch         7kB\n",
      "  + jupyter-server-proxy                  4.1.0  pyhd8ed1ab_0                       conda-forge/noarch        34kB\n",
      "  + jupyter_client                        8.6.0  pyhd8ed1ab_0                       conda-forge/noarch       106kB\n",
      "  + jupyter_core                          5.5.0  py310hff52083_0                    conda-forge/linux-64      79kB\n",
      "  + jupyter_events                        0.9.0  pyhd8ed1ab_0                       conda-forge/noarch        21kB\n",
      "  + jupyter_server                       2.11.1  pyhd8ed1ab_0                       conda-forge/noarch       321kB\n",
      "  + jupyter_server_terminals              0.4.4  pyhd8ed1ab_1                       conda-forge/noarch        19kB\n",
      "  + jupyterlab_pygments                   0.3.0  pyhd8ed1ab_0                       conda-forge/noarch        19kB\n",
      "  + kealib                                1.5.2  hcd42e92_1                         conda-forge/linux-64     170kB\n",
      "  + kiwisolver                            1.4.5  py310hd41b1e2_1                    conda-forge/linux-64      73kB\n",
      "  + lazy_loader                             0.3  pyhd8ed1ab_0                       conda-forge/noarch        14kB\n",
      "  + lcms2                                  2.15  h7f713cb_2                         conda-forge/linux-64     241kB\n",
      "  + lerc                                  4.0.0  h27087fc_0                         conda-forge/linux-64     282kB\n",
      "  + libabseil                        20230125.3  cxx17_h59595ed_0                   conda-forge/linux-64       1MB\n",
      "  + libaec                                1.1.2  h59595ed_1                         conda-forge/linux-64      35kB\n",
      "  + libarrow                             12.0.1  hd2d78f0_7_cpu                     conda-forge/linux-64      28MB\n",
      "  + libblas                               3.9.0  20_linux64_openblas                conda-forge/linux-64      14kB\n",
      "  + libboost-headers                     1.83.0  ha770c72_0                         conda-forge/linux-64      14MB\n",
      "  + libbrotlicommon                       1.0.9  h166bdaf_9                         conda-forge/linux-64      71kB\n",
      "  + libbrotlidec                          1.0.9  h166bdaf_9                         conda-forge/linux-64      33kB\n",
      "  + libbrotlienc                          1.0.9  h166bdaf_9                         conda-forge/linux-64     265kB\n",
      "  + libcblas                              3.9.0  20_linux64_openblas                conda-forge/linux-64      14kB\n",
      "  + libcrc32c                             1.1.2  h9c3ff4c_0                         conda-forge/linux-64      20kB\n",
      "  + libcublas                         11.11.3.6  0                                  nvidia/linux-64          382MB\n",
      "  + libcublas-dev                     11.11.3.6  0                                  nvidia/linux-64          413MB\n",
      "  + libcucim                           23.10.00  cuda11_231011_g8dd1727_0           rapidsai/linux-64          5MB\n",
      "  + libcudf                            23.10.02  cuda11_231116_gece2b2c524_0        rapidsai/linux-64        292MB\n",
      "  + libcudf_kafka                      23.10.02  cuda11_231116_gece2b2c524_0        rapidsai/linux-64         39kB\n",
      "  + libcufft                          10.9.0.58  0                                  nvidia/linux-64          150MB\n",
      "  + libcufile                          1.4.0.31  0                                  nvidia/linux-64          561kB\n",
      "  + libcufile-dev                      1.4.0.31  0                                  nvidia/linux-64            2MB\n",
      "  + libcugraph                         23.10.00  cuda11_231011_gc3dc860d_0          rapidsai/linux-64        594MB\n",
      "  + libcugraph_etl                     23.10.00  cuda11_231011_gc3dc860d_0          rapidsai/linux-64        620kB\n",
      "  + libcugraphops                      23.10.00  cuda11_231011_gca4b54ac_0          nvidia/linux-64           38MB\n",
      "  + libcuml                            23.10.00  cuda11_231011_g623996072_0         rapidsai/linux-64        265MB\n",
      "  + libcumlprims                       23.10.00  cuda11_231011_ge818397_0           nvidia/linux-64            5MB\n",
      "  + libcurand                         10.3.0.86  0                                  nvidia/linux-64           56MB\n",
      "  + libcurand-dev                     10.3.0.86  0                                  nvidia/linux-64           56MB\n",
      "  + libcusolver                       11.4.1.48  0                                  nvidia/linux-64          101MB\n",
      "  + libcusolver-dev                   11.4.1.48  0                                  nvidia/linux-64           70MB\n",
      "  + libcusparse                       11.7.5.86  0                                  nvidia/linux-64          185MB\n",
      "  + libcusparse-dev                   11.7.5.86  0                                  nvidia/linux-64          377MB\n",
      "  + libcuspatial                       23.10.00  cuda11_231011_g29cddcdc_0          rapidsai/linux-64         29MB\n",
      "  + libdeflate                             1.19  hd590300_0                         conda-forge/linux-64      67kB\n",
      "  + libevent                             2.1.12  hf998b51_1                         conda-forge/linux-64     427kB\n",
      "  + libexpat                              2.5.0  hcb278e6_1                         conda-forge/linux-64      78kB\n",
      "  + libgdal                               3.6.4  h4a9e2c2_20                        conda-forge/linux-64      10MB\n",
      "  + libgfortran-ng                       13.2.0  h69a702a_0                         conda-forge/linux-64      23kB\n",
      "  + libgfortran5                         13.2.0  ha4646dd_0                         conda-forge/linux-64       1MB\n",
      "  + libglib                              2.78.1  hebfc3b9_0                         conda-forge/linux-64       3MB\n",
      "  + libgoogle-cloud                      2.12.0  hac9eb74_1                         conda-forge/linux-64      46MB\n",
      "  + libgrpc                              1.54.2  hb20ce57_2                         conda-forge/linux-64       6MB\n",
      "  + libjpeg-turbo                       2.1.5.1  hd590300_1                         conda-forge/linux-64     496kB\n",
      "  + libkml                                1.3.0  h01aab08_1018                      conda-forge/linux-64     514kB\n",
      "  + libkvikio                          23.10.00  cuda11_231011_g5ea0525_0           rapidsai/linux-64         38kB\n",
      "  + liblapack                             3.9.0  20_linux64_openblas                conda-forge/linux-64      14kB\n",
      "  + libllvm14                            14.0.6  hcd5def8_4                         conda-forge/linux-64      31MB\n",
      "  + libnetcdf                             4.9.2  nompi_h80fb2b6_112                 conda-forge/linux-64     848kB\n",
      "  + libntlm                                 1.4  h7f98852_1002                      conda-forge/linux-64      33kB\n",
      "  + libnuma                              2.0.16  h0b41bf4_1                         conda-forge/linux-64      41kB\n",
      "  + libopenblas                          0.3.25  pthreads_h413a1c8_0                conda-forge/linux-64       6MB\n",
      "  + libpng                               1.6.39  h753d276_0                         conda-forge/linux-64     283kB\n",
      "  + libpq                                  16.1  hfc447b1_0                         conda-forge/linux-64       3MB\n",
      "  + libprotobuf                         3.21.12  hfc55251_2                         conda-forge/linux-64       2MB\n",
      "  + libraft                            23.10.00  cuda11_231011_gafdddfb3_0          rapidsai/linux-64        639MB\n",
      "  + libraft-headers                    23.10.00  cuda11_231011_gafdddfb3_0          rapidsai/linux-64          6kB\n",
      "  + libraft-headers-only               23.10.00  cuda11_231011_gafdddfb3_0          rapidsai/linux-64          3MB\n",
      "  + librdkafka                            1.9.2  ha5a0de0_2                         conda-forge/linux-64      14MB\n",
      "  + librmm                             23.10.00  cuda11_231011_gf8ac6f8e_0          rapidsai/linux-64        776kB\n",
      "  + librttopo                             1.1.0  hb58d41b_14                        conda-forge/linux-64     233kB\n",
      "  + libsodium                            1.0.18  h36c2ea0_1                         conda-forge/linux-64     375kB\n",
      "  + libspatialindex                       1.9.3  h9c3ff4c_4                         conda-forge/linux-64       5MB\n",
      "  + libspatialite                         5.0.1  h090f1da_29                        conda-forge/linux-64       3MB\n",
      "  + libthrift                            0.18.1  h8fd135c_2                         conda-forge/linux-64       4MB\n",
      "  + libtiff                               4.6.0  h29866fb_1                         conda-forge/linux-64     277kB\n",
      "  + libutf8proc                           2.8.0  h166bdaf_0                         conda-forge/linux-64     101kB\n",
      "  + libuv                                1.44.2  hd590300_1                         conda-forge/linux-64     824kB\n",
      "  + libwebp                               1.3.2  hdffd6e0_0                         conda-forge/linux-64      86kB\n",
      "  + libwebp-base                          1.3.2  hd590300_0                         conda-forge/linux-64     402kB\n",
      "  + libxcb                                 1.15  h0b41bf4_0                         conda-forge/linux-64     384kB\n",
      "  + libxgboost                            1.7.6  rapidsai_h795055c_2310             rapidsai/linux-64        115MB\n",
      "  + libzip                               1.10.1  h2629f0a_3                         conda-forge/linux-64     107kB\n",
      "  + linkify-it-py                         2.0.0  pyhd8ed1ab_0                       conda-forge/noarch        22kB\n",
      "  + llvmlite                             0.40.1  py310h1b8f574_0                    conda-forge/linux-64       3MB\n",
      "  + locket                                1.0.0  pyhd8ed1ab_0                       conda-forge/noarch         8kB\n",
      "  + lz4                                   4.3.2  py310h350c4a5_1                    conda-forge/linux-64      37kB\n",
      "  + mapclassify                           2.6.1  pyhd8ed1ab_0                       conda-forge/noarch        39kB\n",
      "  + markdown                              3.5.1  pyhd8ed1ab_0                       conda-forge/noarch        77kB\n",
      "  + markdown-it-py                        3.0.0  pyhd8ed1ab_0                       conda-forge/noarch        64kB\n",
      "  + markupsafe                            2.1.3  py310h2372a71_1                    conda-forge/linux-64      24kB\n",
      "  + matplotlib-base                       3.8.0  py310h62c0568_1                    conda-forge/linux-64       7MB\n",
      "  + mdit-py-plugins                       0.4.0  pyhd8ed1ab_0                       conda-forge/noarch        41kB\n",
      "  + mdurl                                 0.1.0  pyhd8ed1ab_0                       conda-forge/noarch        14kB\n",
      "  + minizip                               4.0.3  h0ab5242_0                         conda-forge/linux-64      92kB\n",
      "  + mistune                               3.0.2  pyhd8ed1ab_0                       conda-forge/noarch        66kB\n",
      "  + msgpack-python                        1.0.7  py310hd41b1e2_0                    conda-forge/linux-64     197kB\n",
      "  + multidict                             6.0.4  py310h2372a71_1                    conda-forge/linux-64      57kB\n",
      "  + multipledispatch                      0.6.0  py_0                               conda-forge/noarch        12kB\n",
      "  + munch                                 4.0.0  pyhd8ed1ab_0                       conda-forge/noarch        15kB\n",
      "  + munkres                               1.1.4  pyh9f0ad1d_0                       conda-forge/noarch        12kB\n",
      "  + nbclient                              0.8.0  pyhd8ed1ab_0                       conda-forge/noarch        65kB\n",
      "  + nbconvert-core                       7.11.0  pyhd8ed1ab_0                       conda-forge/noarch       188kB\n",
      "  + nbformat                              5.9.2  pyhd8ed1ab_0                       conda-forge/noarch       100kB\n",
      "  + nccl                               2.19.4.1  h6103f9b_0                         conda-forge/linux-64     118MB\n",
      "  + networkx                              3.2.1  pyhd8ed1ab_0                       conda-forge/noarch         1MB\n",
      "  + nodejs                               20.5.1  hf52ce11_0                         conda-forge/linux-64      17MB\n",
      "  + nspr                                   4.35  h27087fc_0                         conda-forge/linux-64     227kB\n",
      "  + nss                                    3.95  h1d7d5a4_0                         conda-forge/linux-64       2MB\n",
      "  + numba                                0.57.1  py310h0f6aa51_0                    conda-forge/linux-64       4MB\n",
      "  + numpy                                1.24.4  py310ha4c1d20_0                    conda-forge/linux-64       7MB\n",
      "  + nvcomp                                2.6.1  h838ba91_3                         conda-forge/linux-64       8MB\n",
      "  + nvtx                                  0.2.8  py310h2372a71_1                    conda-forge/linux-64     105kB\n",
      "  + oauthlib                              3.2.2  pyhd8ed1ab_0                       conda-forge/noarch        92kB\n",
      "  + openjpeg                              2.5.0  h488ebb8_3                         conda-forge/linux-64     357kB\n",
      "  + openslide                             3.4.1  h4738aba_10                        conda-forge/linux-64     112kB\n",
      "  + orc                                   1.9.0  h2f23424_1                         conda-forge/linux-64       1MB\n",
      "  + overrides                             7.4.0  pyhd8ed1ab_0                       conda-forge/noarch        30kB\n",
      "  + packaging                              23.2  pyhd8ed1ab_0                       conda-forge/noarch        49kB\n",
      "  + pandas                                1.5.3  py310h9b08913_1                    conda-forge/linux-64      12MB\n",
      "  + pandocfilters                         1.5.0  pyhd8ed1ab_0                       conda-forge/noarch        12kB\n",
      "  + panel                                 1.3.4  pyhd8ed1ab_0                       conda-forge/noarch        15MB\n",
      "  + param                                 2.0.1  pyhca7485f_0                       conda-forge/noarch       100kB\n",
      "  + partd                                 1.4.1  pyhd8ed1ab_0                       conda-forge/noarch        21kB\n",
      "  + pcre2                                 10.40  hc3806b6_0                         conda-forge/linux-64       2MB\n",
      "  + pillow                               10.0.1  py310h29da1c1_1                    conda-forge/linux-64      46MB\n",
      "  + pixman                               0.42.2  h59595ed_0                         conda-forge/linux-64     385kB\n",
      "  + pkgutil-resolve-name                 1.3.10  pyhd8ed1ab_1                       conda-forge/noarch        11kB\n",
      "  + platformdirs                          4.0.0  pyhd8ed1ab_0                       conda-forge/noarch        20kB\n",
      "  + poppler                             23.08.0  hf2349cb_2                         conda-forge/linux-64       2MB\n",
      "  + poppler-data                         0.4.12  hd8ed1ab_0                         conda-forge/noarch         2MB\n",
      "  + postgresql                             16.1  h8972f4a_0                         conda-forge/linux-64       5MB\n",
      "  + proj                                  9.3.0  h1d62c97_2                         conda-forge/linux-64       3MB\n",
      "  + prometheus_client                    0.19.0  pyhd8ed1ab_0                       conda-forge/noarch        48kB\n",
      "  + prompt-toolkit                       3.0.41  pyha770c72_0                       conda-forge/noarch       270kB\n",
      "  + protobuf                            4.21.12  py310heca2aa9_0                    conda-forge/linux-64     324kB\n",
      "  + psutil                                5.9.5  py310h2372a71_1                    conda-forge/linux-64     361kB\n",
      "  + pthread-stubs                           0.4  h36c2ea0_1001                      conda-forge/linux-64       6kB\n",
      "  + ptxcompiler                           0.8.1  py310h70a93da_2                    conda-forge/linux-64       8MB\n",
      "  + ptyprocess                            0.7.0  pyhd3deb0d_0                       conda-forge/noarch        17kB\n",
      "  + py-xgboost                            1.7.6  rapidsai_py310h1395376_2310        rapidsai/linux-64        216kB\n",
      "  + pyarrow                              12.0.1  py310h0576679_7_cpu                conda-forge/linux-64       4MB\n",
      "  + pyasn1                                0.5.1  pyhd8ed1ab_0                       conda-forge/noarch        64kB\n",
      "  + pyasn1-modules                        0.3.0  pyhd8ed1ab_0                       conda-forge/noarch        96kB\n",
      "  + pyct                                  0.5.0  pyhd8ed1ab_0                       conda-forge/noarch        20kB\n",
      "  + pydantic                              2.5.2  pyhd8ed1ab_0                       conda-forge/noarch       262kB\n",
      "  + pydantic-core                        2.14.5  py310hcb5633a_0                    conda-forge/linux-64       2MB\n",
      "  + pyee                                  8.1.0  pyhd8ed1ab_0                       conda-forge/noarch        14kB\n",
      "  + pygments                             2.17.2  pyhd8ed1ab_0                       conda-forge/noarch       860kB\n",
      "  + pyjwt                                 2.8.0  pyhd8ed1ab_0                       conda-forge/noarch        25kB\n",
      "  + pylibcugraph                       23.10.00  cuda11_py310_231011_gc3dc860d_0    rapidsai/linux-64        755kB\n",
      "  + pylibraft                          23.10.00  cuda11_py310_231011_gafdddfb3_0    rapidsai/linux-64          2MB\n",
      "  + pynvml                               11.4.1  pyhd8ed1ab_0                       conda-forge/noarch        41kB\n",
      "  + pyparsing                             3.1.1  pyhd8ed1ab_0                       conda-forge/noarch        90kB\n",
      "  + pyppeteer                             1.0.2  pyhd8ed1ab_0                       conda-forge/noarch        64kB\n",
      "  + pyproj                                3.6.1  py310h32c33b7_4                    conda-forge/linux-64     527kB\n",
      "  + python-confluent-kafka                1.9.2  py310h5764c6d_2                    conda-forge/linux-64     149kB\n",
      "  + python-dateutil                       2.8.2  pyhd8ed1ab_0                       conda-forge/noarch       246kB\n",
      "  + python-fastjsonschema                2.19.0  pyhd8ed1ab_0                       conda-forge/noarch       226kB\n",
      "  + python-json-logger                    2.0.7  pyhd8ed1ab_0                       conda-forge/noarch        13kB\n",
      "  + pytz                           2023.3.post1  pyhd8ed1ab_0                       conda-forge/noarch       187kB\n",
      "  + pyu2f                                 0.1.5  pyhd8ed1ab_0                       conda-forge/noarch        32kB\n",
      "  + pyviz_comms                           3.0.0  pyhd8ed1ab_0                       conda-forge/noarch        48kB\n",
      "  + pywavelets                            1.4.1  py310h1f7b6fc_1                    conda-forge/linux-64       4MB\n",
      "  + pyyaml                                6.0.1  py310h2372a71_1                    conda-forge/linux-64     171kB\n",
      "  + pyzmq                                25.1.1  py310h795f18f_2                    conda-forge/linux-64     457kB\n",
      "  + raft-dask                          23.10.00  cuda11_py310_231011_gafdddfb3_0    rapidsai/linux-64        420kB\n",
      "  + rapids                             23.10.00  cuda11_py310_231011_gd3958fe_0     rapidsai/linux-64          6kB\n",
      "  + rapids-xgboost                     23.10.00  cuda11_py310_231011_gd3958fe_0     rapidsai/linux-64          5kB\n",
      "  + rdma-core                              28.9  h59595ed_1                         conda-forge/linux-64       4MB\n",
      "  + re2                              2023.03.02  h8c504da_0                         conda-forge/linux-64     201kB\n",
      "  + referencing                          0.31.1  pyhd8ed1ab_0                       conda-forge/noarch        38kB\n",
      "  + requests-oauthlib                     1.3.1  pyhd8ed1ab_0                       conda-forge/noarch        22kB\n",
      "  + rfc3339-validator                     0.1.4  pyhd8ed1ab_0                       conda-forge/noarch         8kB\n",
      "  + rfc3986-validator                     0.1.1  pyh9f0ad1d_0                       conda-forge/noarch         8kB\n",
      "  + rich                                 13.7.0  pyhd8ed1ab_0                       conda-forge/noarch       184kB\n",
      "  + rmm                                23.10.00  cuda11_py310_231011_gf8ac6f8e_0    rapidsai/linux-64        671kB\n",
      "  + rpds-py                              0.13.2  py310hcb5633a_0                    conda-forge/linux-64     990kB\n",
      "  + rsa                                     4.9  pyhd8ed1ab_0                       conda-forge/noarch        30kB\n",
      "  + rtree                                 1.1.0  py310hbdcdc62_0                    conda-forge/linux-64      50kB\n",
      "  + s2n                                  1.3.46  h06160fa_0                         conda-forge/linux-64     367kB\n",
      "  + scikit-image                         0.20.0  py310h9b08913_1                    conda-forge/linux-64      10MB\n",
      "  + scikit-learn                          1.3.2  py310h1fdf081_1                    conda-forge/linux-64       8MB\n",
      "  + scipy                                1.11.4  py310hb13e2d6_0                    conda-forge/linux-64      15MB\n",
      "  + send2trash                            1.8.2  pyh41d4057_0                       conda-forge/noarch        23kB\n",
      "  + shapely                               2.0.2  py310h7dcad9a_0                    conda-forge/linux-64     482kB\n",
      "  + simpervisor                           1.0.0  pyhd8ed1ab_0                       conda-forge/noarch        13kB\n",
      "  + six                                  1.16.0  pyh6c4a22f_0                       conda-forge/noarch        14kB\n",
      "  + snappy                               1.1.10  h9fff704_0                         conda-forge/linux-64      39kB\n",
      "  + sniffio                               1.3.0  pyhd8ed1ab_0                       conda-forge/noarch        14kB\n",
      "  + sortedcontainers                      2.4.0  pyhd8ed1ab_0                       conda-forge/noarch        26kB\n",
      "  + soupsieve                               2.5  pyhd8ed1ab_1                       conda-forge/noarch        37kB\n",
      "  + spdlog                               1.11.0  h9b3ece8_1                         conda-forge/linux-64     221kB\n",
      "  + sqlite                               3.39.2  h4ff8645_0                         conda-forge/linux-64       2MB\n",
      "  + starlette                            0.27.0  pyhd8ed1ab_0                       conda-forge/noarch        55kB\n",
      "  + streamz                               0.6.4  pyh6c4a22f_0                       conda-forge/noarch        65kB\n",
      "  + tabulate                              0.9.0  pyhd8ed1ab_1                       conda-forge/noarch        36kB\n",
      "  + tblib                                 2.0.0  pyhd8ed1ab_0                       conda-forge/noarch        17kB\n",
      "  + terminado                            0.18.0  pyh0d859eb_0                       conda-forge/noarch        22kB\n",
      "  + threadpoolctl                         3.2.0  pyha21a80b_0                       conda-forge/noarch        21kB\n",
      "  + tifffile                           2020.6.3  py_0                               conda-forge/noarch       111kB\n",
      "  + tiledb                               2.16.3  hf0b6e87_3                         conda-forge/linux-64       6MB\n",
      "  + tinycss2                              1.2.1  pyhd8ed1ab_0                       conda-forge/noarch        23kB\n",
      "  + tornado                               6.3.3  py310h2372a71_1                    conda-forge/linux-64     642kB\n",
      "  + traitlets                            5.14.0  pyhd8ed1ab_0                       conda-forge/noarch       110kB\n",
      "  + treelite                              3.9.1  py310h4a6579d_0                    conda-forge/linux-64     765kB\n",
      "  + types-python-dateutil             2.8.19.14  pyhd8ed1ab_0                       conda-forge/noarch        21kB\n",
      "  + typing-extensions                     4.8.0  hd8ed1ab_0                         conda-forge/noarch        10kB\n",
      "  + typing_extensions                     4.8.0  pyha770c72_0                       conda-forge/noarch        35kB\n",
      "  + typing_utils                          0.1.0  pyhd8ed1ab_0                       conda-forge/noarch        14kB\n",
      "  + tzcode                                2023c  h0b41bf4_0                         conda-forge/linux-64      69kB\n",
      "  + tzlocal                                 5.2  py310hff52083_0                    conda-forge/linux-64      36kB\n",
      "  + uc-micro-py                           1.0.1  pyhd8ed1ab_0                       conda-forge/noarch         9kB\n",
      "  + ucx                                  1.14.1  h64cca9d_5                         conda-forge/linux-64      15MB\n",
      "  + ucx-proc                              1.0.0  gpu                                rapidsai/linux-64          9kB\n",
      "  + ucx-py                              0.34.00  py310_231011_g17dceab_0            rapidsai/linux-64        474kB\n",
      "  + unicodedata2                         15.1.0  py310h2372a71_0                    conda-forge/linux-64     374kB\n",
      "  + uri-template                          1.3.0  pyhd8ed1ab_0                       conda-forge/noarch        24kB\n",
      "  + uriparser                             0.9.7  hcb278e6_1                         conda-forge/linux-64      47kB\n",
      "  + uvicorn                        0.24.0.post1  py310hff52083_0                    conda-forge/linux-64      97kB\n",
      "  + wcwidth                              0.2.12  pyhd8ed1ab_0                       conda-forge/noarch        32kB\n",
      "  + webcolors                              1.13  pyhd8ed1ab_0                       conda-forge/noarch        18kB\n",
      "  + webencodings                          0.5.1  pyhd8ed1ab_2                       conda-forge/noarch        16kB\n",
      "  + websocket-client                      1.6.4  pyhd8ed1ab_0                       conda-forge/noarch        46kB\n",
      "  + websockets                             10.4  py310h5764c6d_1                    conda-forge/linux-64     129kB\n",
      "  + xarray                            2023.11.0  pyhd8ed1ab_0                       conda-forge/noarch       713kB\n",
      "  + xerces-c                              3.2.4  h8d71039_2                         conda-forge/linux-64       2MB\n",
      "  + xgboost                               1.7.6  rapidsai_py310h1395376_2310        rapidsai/linux-64         16kB\n",
      "  + xorg-kbproto                          1.0.7  h7f98852_1002                      conda-forge/linux-64      27kB\n",
      "  + xorg-libice                           1.1.1  hd590300_0                         conda-forge/linux-64      58kB\n",
      "  + xorg-libsm                            1.2.4  h7391055_0                         conda-forge/linux-64      27kB\n",
      "  + xorg-libx11                           1.8.7  h8ee46fc_0                         conda-forge/linux-64     829kB\n",
      "  + xorg-libxau                          1.0.11  hd590300_0                         conda-forge/linux-64      14kB\n",
      "  + xorg-libxdmcp                         1.1.3  h7f98852_0                         conda-forge/linux-64      19kB\n",
      "  + xorg-libxext                          1.3.4  h0b41bf4_2                         conda-forge/linux-64      50kB\n",
      "  + xorg-libxrender                      0.9.11  hd590300_0                         conda-forge/linux-64      38kB\n",
      "  + xorg-renderproto                     0.11.1  h7f98852_1002                      conda-forge/linux-64      10kB\n",
      "  + xorg-xextproto                        7.3.0  h0b41bf4_1003                      conda-forge/linux-64      30kB\n",
      "  + xorg-xproto                          7.0.31  h7f98852_1007                      conda-forge/linux-64      75kB\n",
      "  + xyzservices                       2023.10.1  pyhd8ed1ab_0                       conda-forge/noarch        36kB\n",
      "  + yaml                                  0.2.5  h7f98852_2                         conda-forge/linux-64      89kB\n",
      "  + yarl                                  1.9.3  py310h2372a71_0                    conda-forge/linux-64     113kB\n",
      "  + zeromq                                4.3.5  h59595ed_0                         conda-forge/linux-64     343kB\n",
      "  + zict                                  3.0.0  pyhd8ed1ab_0                       conda-forge/noarch        36kB\n",
      "  + zipp                                 3.17.0  pyhd8ed1ab_0                       conda-forge/noarch        19kB\n",
      "  + zlib                                 1.2.13  h166bdaf_4                         conda-forge/linux-64      94kB\n",
      "\n",
      "  Change:\n",
      "────────────────────────────────────────────────────────────────────────────────────────────────────────────────────\n",
      "\n",
      "  - libarchive                            3.6.2  h3d51595_0                         conda-forge\n",
      "  + libarchive                            3.6.2  h039dbb9_1                         conda-forge/linux-64     844kB\n",
      "\n",
      "  Upgrade:\n",
      "────────────────────────────────────────────────────────────────────────────────────────────────────────────────────\n",
      "\n",
      "  - krb5                                 1.20.1  h81ceb04_0                         conda-forge\n",
      "  + krb5                                 1.21.2  h659d440_0                         conda-forge/linux-64       1MB\n",
      "  - libcurl                              7.88.1  hdc1c0ab_1                         conda-forge\n",
      "  + libcurl                               8.4.0  hca28451_0                         conda-forge/linux-64     386kB\n",
      "  - libmamba                              1.4.1  hcea66bb_0                         conda-forge\n",
      "  + libmamba                              1.5.0  h658169a_0                         conda-forge/linux-64       2MB\n",
      "  - libmambapy                            1.4.1  py310h1428755_0                    conda-forge\n",
      "  + libmambapy                            1.5.0  py310h8aae740_0                    conda-forge/linux-64     297kB\n",
      "  - libsolv                              0.7.23  h3eb15da_0                         conda-forge\n",
      "  + libsolv                              0.7.27  hfc55251_0                         conda-forge/linux-64     470kB\n",
      "  - libsqlite                            3.40.0  h753d276_0                         conda-forge\n",
      "  + libsqlite                            3.44.2  h2797004_0                         conda-forge/linux-64     846kB\n",
      "  - libssh2                              1.10.0  hf14f497_3                         conda-forge\n",
      "  + libssh2                              1.11.0  h0841786_0                         conda-forge/linux-64     271kB\n",
      "  - libxml2                              2.10.3  hfdac1af_6                         conda-forge\n",
      "  + libxml2                              2.11.5  h0d562d8_0                         conda-forge/linux-64     705kB\n",
      "  - mamba                                 1.4.1  py310h51d5547_0                    conda-forge\n",
      "  + mamba                                 1.5.0  py310h51d5547_0                    conda-forge/linux-64      51kB\n",
      "  - zstd                                  1.5.2  h3eb15da_6                         conda-forge\n",
      "  + zstd                                  1.5.5  hfc55251_0                         conda-forge/linux-64     545kB\n",
      "\n",
      "  Downgrade:\n",
      "────────────────────────────────────────────────────────────────────────────────────────────────────────────────────\n",
      "\n",
      "  - openssl                               3.2.0  hd590300_1                         conda-forge\n",
      "  + openssl                               3.1.4  hd590300_0                         conda-forge/linux-64       3MB\n",
      "\n",
      "  Summary:\n",
      "\n",
      "  Install: 381 packages\n",
      "  Change: 1 packages\n",
      "  Upgrade: 10 packages\n",
      "  Downgrade: 1 packages\n",
      "\n",
      "  Total download: 5GB\n",
      "\n",
      "────────────────────────────────────────────────────────────────────────────────────────────────────────────────────\n",
      "\n",
      "\n",
      "\n",
      "Looking for: ['python=3.10', 'cudatoolkit=11.8', 'rapids=23.10', 'llvmlite', 'gcsfs', 'openssl', 'dask-sql']\n",
      "\n",
      "\n",
      "Pinned packages:\n",
      "  - python 3.10.*\n",
      "  - python_abi 3.10.* *cp310*\n",
      "  - cudatoolkit 11.8.*\n",
      "\n",
      "\n",
      "\n",
      "Downloading and Extracting Packages\n",
      "\n",
      "Preparing transaction: ...working... done\n",
      "Verifying transaction: ...working... done\n",
      "Executing transaction: ...working... By downloading and using the CUDA Toolkit conda packages, you accept the terms and conditions of the CUDA End User License Agreement (EULA): https://docs.nvidia.com/cuda/eula/index.html\n",
      "\n",
      "\n",
      "By downloading and using the CubinLinker conda packages, you accept the terms and conditions of the CubinLinker License Agreement: https://docs.rapids.ai/licenses/CubinLinker.txt\n",
      "\n",
      "done\n",
      "RAPIDS conda installation complete.  Updating Colab's libraries...\n",
      "Copying /usr/local/lib/libcudf.so to /usr/lib/libcudf.so\n",
      "Copying /usr/local/lib/libnccl.so to /usr/lib/libnccl.so\n",
      "Copying /usr/local/lib/libcuml.so to /usr/lib/libcuml.so\n",
      "Copying /usr/local/lib/libcugraph.so to /usr/lib/libcugraph.so\n",
      "Copying /usr/local/lib/libxgboost.so to /usr/lib/libxgboost.so\n",
      "Copying /usr/local/lib/libcuspatial.so to /usr/lib/libcuspatial.so\n",
      "Copying /usr/local/lib/libgeos.so to /usr/lib/libgeos.so\n",
      "Copying /usr/local/lib/libgeos_c.so to /usr/lib/libgeos_c.so\n"
     ]
    }
   ],
   "source": [
    "# Installing RAPIDS is now 'python rapidsai-csp-utils/colab/install_rapids.py <release> <packages>'\n",
    "# The <release> options are 'stable' and 'nightly'.  Leaving it blank or adding any other words will default to stable.\n",
    "!python rapidsai-csp-utils/colab/install_rapids.py stable\n",
    "import os\n",
    "os.environ['NUMBAPRO_NVVM'] = '/usr/local/cuda/nvvm/lib64/libnvvm.so'\n",
    "os.environ['NUMBAPRO_LIBDEVICE'] = '/usr/local/cuda/nvvm/libdevice/'\n",
    "os.environ['CONDA_PREFIX'] = '/usr/local'"
   ]
  },
  {
   "cell_type": "code",
   "execution_count": null,
   "metadata": {
    "id": "yj2SU7v_blba"
   },
   "outputs": [],
   "source": [
    "import cudf, cuml, cugraph, cuspatial"
   ]
  },
  {
   "cell_type": "code",
   "execution_count": null,
   "metadata": {
    "colab": {
     "base_uri": "https://localhost:8080/",
     "height": 35
    },
    "id": "JbzY56Vwbzan",
    "outputId": "7b1ce57f-903e-4cf3-b18c-8923e5de4879"
   },
   "outputs": [
    {
     "data": {
      "application/vnd.google.colaboratory.intrinsic+json": {
       "type": "string"
      },
      "text/plain": [
       "'23.10.02'"
      ]
     },
     "execution_count": 5,
     "metadata": {},
     "output_type": "execute_result"
    }
   ],
   "source": [
    "cudf.__version__"
   ]
  },
  {
   "cell_type": "code",
   "execution_count": null,
   "metadata": {
    "colab": {
     "base_uri": "https://localhost:8080/",
     "height": 579
    },
    "id": "qBXnGX76Wiau",
    "outputId": "16d358a2-5605-449a-db5c-69455d26ea1b"
   },
   "outputs": [
    {
     "name": "stderr",
     "output_type": "stream",
     "text": [
      "/usr/local/lib/python3.10/site-packages/cuml/internals/api_decorators.py:344: UserWarning: For reproducible results in Random Forest Classifier or for almost reproducible results in Random Forest Regressor, n_streams=1 is recommended. If n_streams is > 1, results may vary due to stream/thread timing differences, even when random_state is set\n",
      "  return func(**kwargs)\n",
      "/usr/local/lib/python3.10/site-packages/cuml/internals/api_decorators.py:188: UserWarning: To use pickling first train using float32 data to fit the estimator\n",
      "  ret = func(*args, **kwargs)\n"
     ]
    },
    {
     "name": "stdout",
     "output_type": "stream",
     "text": [
      "Mean Squared Error: 42.773579778598524\n"
     ]
    },
    {
     "data": {
      "image/png": "[encoded data removed]",
      "text/plain": [
       "<Figure size 640x480 with 1 Axes>"
      ]
     },
     "metadata": {},
     "output_type": "display_data"
    }
   ],
   "source": [
    "# Import necessary libraries\n",
    "import os\n",
    "import cudf\n",
    "import cuml\n",
    "import cugraph\n",
    "from cuml.model_selection import train_test_split\n",
    "from cuml.metrics import mean_squared_error\n",
    "import matplotlib.pyplot as plt\n",
    "\n",
    "date_cols = [\"Date\"]\n",
    "path = os.path.join(DATASET_DIR, BTCPRICE_FILE)\n",
    "bitcoin_prices = pd.read_csv(path, parse_dates=date_cols)\n",
    "\n",
    "# Assuming 'Date' column needs to be converted to datetime in classificationDF\n",
    "classificationDF['Date'] = pd.to_datetime(classificationDF['Date'])\n",
    "\n",
    "# Merge datasets based on timestamp or date\n",
    "merged_df = cudf.merge(classificationDF, bitcoin_prices, on='Date', how='inner')\n",
    "\n",
    "# Feature selection\n",
    "X = merged_df[['Count_Transactions', 'SumTotal', 'SumAvg', 'SumMax', 'SumMin']]\n",
    "y = merged_df['Price']\n",
    "\n",
    "# Assuming X and y are pandas DataFrame and Series respectively\n",
    "X_cudf = cudf.from_pandas(X)\n",
    "y_cudf = cudf.from_pandas(y)\n",
    "\n",
    "# Split the dataset into training and testing sets\n",
    "X_train, X_test, y_train, y_test = train_test_split(X_cudf, y_cudf, test_size=0.2, random_state=42)\n",
    "\n",
    "# Train a machine learning model (Random Forest) using cuML\n",
    "model = cuml.ensemble.RandomForestRegressor(n_estimators=100, random_state=42)\n",
    "model.fit(X_train, y_train)\n",
    "\n",
    "# Make predictions on the test set\n",
    "y_pred = model.predict(X_test)\n",
    "\n",
    "# Evaluate the model\n",
    "mse = mean_squared_error(y_test, y_pred)\n",
    "print(f'Mean Squared Error: {mse}')\n",
    "\n",
    "# Visualize the predicted prices against the actual prices\n",
    "plt.scatter(y_test.to_pandas().to_numpy(), y_pred.to_pandas().to_numpy(), label='Actual vs Predicted Prices')\n",
    "plt.xlabel('Actual Transaction Information Selected')\n",
    "plt.ylabel('Predicted Bitcoin Prices')\n",
    "plt.title('Bitcoin Price Prediction')\n",
    "\n",
    "# Add legend\n",
    "plt.legend()\n",
    "\n",
    "plt.show()"
   ]
  },
  {
   "cell_type": "markdown",
   "metadata": {
    "id": "gVfdbzLem2V5"
   },
   "source": [
    "#### Discussion\n",
    "\n",
    "**Explain your code and discuss results**\n",
    "\n",
    "Considering the subject of this assignment, we were challenged to propose a problem to solve and implement it using cuDF/cuML/cuGraphs. Our suggestion relies on the fact that we have a dataset called classificationDF containing various numerical features related to transactions and partners, and another dataset with Bitcoin prices and the date of the price. Our goal is to predict Bitcoin prices based on the information available in the features from the classificationDF.\n",
    "To achieve that, we performed a regression model where we only selected numerical values because we are trying to predict a numerical value. Before developing the model, the first piece of code makes sure that the date column of the bitcoins price data frame is in the same format as the date in the classificationDF. Then, we used the features that we calculated in exercise 3 to predict the price and then we define the price as target variable.\n",
    "\n",
    "The most important code part, is the second which explicitly does the following tasks:\n",
    "•\tImports necessary libraries for data manipulation, machine learning, and visualization.\n",
    "\n",
    "•\tReads Bitcoin price data from a CSV file into a Pandas DataFrame.\n",
    "\n",
    "•\tConverts the 'Date' column in a Data Frame named 'classificationDF' to datetime format.\n",
    "\n",
    "•\tMerges two Data Frames, 'classificationDF' and 'bitcoin_prices,' based on the 'Date' column using cuDF (GPU-accelerated DataFrame library).\n",
    "\n",
    "•\tSelects specific features ('Count_Transactions', 'SumTotal', 'SumAvg', 'SumMax', 'SumMin') and the target variable ('Price') from the merged DataFrame.\n",
    "\n",
    "•\tConverts the selected features and target variable to cuDF format.\n",
    "\n",
    "•\tSplits the dataset into training and testing sets using cuML's train_test_split function.\n",
    "\n",
    "•\tTrains a Random Forest regression model on the training set using cuML.\n",
    "\n",
    "•\tMakes predictions on the test set using the trained model.\n",
    "\n",
    "•\tEvaluates the model performance by calculating the mean squared error between the predicted and actual values.\n",
    "\n",
    "•\tVisualizes the predicted Bitcoin prices using a scatter plot.\n",
    "\n",
    "Given that the prices are expressed in tenths, an Mean Squared Error (MSE) value of 42.77 implies that, on average, the model's predictions deviate by approximately 42.77 tenths from the actual values in the test set, suggesting a moderate level of prediction error that may warrant further refinement of the model.\n",
    "\n",
    "Lastly, the scatter plot reinforces this tendency by showing a positive slope with closely clustered points around the regression line, suggesting that the model captures the general trend in the data, but there is a moderate level of deviation from the actual values, indicating the potential for further refinement to improve precision. Techniques that might improve the model include hyperparameter-tuning or a new selection of more relevant features.\n"
   ]
  }
 ],
 "metadata": {
  "accelerator": "GPU",
  "colab": {
   "gpuType": "T4",
   "provenance": []
  },
  "kernelspec": {
   "display_name": "Python 3 (ipykernel)",
   "language": "python",
   "name": "python3"
  },
  "language_info": {
   "codemirror_mode": {
    "name": "ipython",
    "version": 3
   },
   "file_extension": ".py",
   "mimetype": "text/x-python",
   "name": "python",
   "nbconvert_exporter": "python",
   "pygments_lexer": "ipython3",
   "version": "3.11.4"
  }
 },
 "nbformat": 4,
 "nbformat_minor": 1
}
