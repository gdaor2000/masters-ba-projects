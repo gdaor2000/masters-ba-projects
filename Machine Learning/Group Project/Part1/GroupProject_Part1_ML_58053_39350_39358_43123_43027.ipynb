{
  "cells": [
    {
      "cell_type": "markdown",
      "metadata": {
        "id": "i0NtBHjPCuox"
      },
      "source": [
        "## Hotel Booking Prediction\n",
        "\n",
        "Project developed for academic purposes by Master's students of NOVA SBE in Business Analytics:\n",
        "\n",
        "- Guilherme Raimundo - 58053;\n",
        "- Francisco Gomes - 39350;\n",
        "- Martim Costa - 39358;\n",
        "- Luís Oliveira - 43123;\n",
        "- Marta Dinis - 43027;\n",
        "\n"
      ]
    },
    {
      "cell_type": "markdown",
      "metadata": {
        "id": "rlElZkakCnQH"
      },
      "source": [
        "# Problem overview\n"
      ]
    },
    {
      "cell_type": "markdown",
      "metadata": {
        "id": "as5DFYTFCnQJ"
      },
      "source": [
        "## Background Story  "
      ]
    },
    {
      "cell_type": "markdown",
      "metadata": {
        "id": "9tI-ZN4oCnQJ"
      },
      "source": [
        "In the hotel industry, two places are diving deep into what makes guests tick. One's a laid-back resort called Seaside Escape (H1), and the other's a lively city spot named Urban Retreat (H2). They both decided to keep track of a bunch of stuff about their bookings - we're talking over 119,390 bits of info from July 1, 2015, to August 31, 2017. This includes all the bookings, even the ones that got canceled.\n",
        "\n",
        "Usually, hotels keep their cards close to their chest, especially about their guests and how they book their stays. But Seaside Escape and Urban Retreat are shaking things up. They've cleaned up the data so there's nothing private in there and are sharing it with the world. Why? Because it's super hard to find real-deal business data that students and researchers can learn from, especially in the hotel biz.\n",
        "\n",
        "With this goldmine of data, curious people can really dig into what makes guests choose a hotel, why they might cancel, and how to make their stay better. It's a big deal for anyone wanting to get smarter about how hotels work and how to make guests happy. So, in a nutshell, these two hotels are not just about giving their guests a sweet stay; they're also helping to teach the world a thing or two about the hotel game.\n",
        "\n",
        "## The Challenge\n",
        "\n",
        "Seaside Escape and Urban Retreat's rich booking datasets illuminate guest booking behaviors and cancellation patterns over two years but fall short in offering predictive insights for individual guest decisions. Traditional approaches to guest management and engagement have been effective to a degree, but the management teams at both hotels believe that a leap forward is possible through a more analytical strategy.\n",
        "\n",
        "We are a member of the guest experience innovation team! Our mission is to craft a predictive model that leverages the extensive data from both hotels to forecast whether guests will follow through with their bookings or cancel. This model seeks to revolutionize how Seaside Escape and Urban Retreat interact with potential and existing guests by enabling proactive adjustments to services, personalized guest communication, and targeted promotional offers.\n",
        "\n",
        "This predictive endeavor aims to enhance guest satisfaction and retention, ensuring both hotels not only meet but exceed the evolving expectations of their guests, thereby setting new standards in the hospitality industry for customer care and engagement."
      ]
    },
    {
      "cell_type": "markdown",
      "metadata": {
        "id": "xGmN3HzLCnQK"
      },
      "source": [
        "## Data Description"
      ]
    },
    {
      "cell_type": "markdown",
      "metadata": {
        "id": "tBlhqvNBCnQK"
      },
      "source": [
        "This idea for a predictive model is based on an article that contains two dataframes with the main information to tackle the problem:"
      ]
    },
    {
      "cell_type": "markdown",
      "metadata": {
        "id": "6bk5vEWQCnQK"
      },
      "source": [
        "##### Variables\n",
        "- **ADR** (Average Daily Rate): Numeric. Defined as the sum of all lodging transactions divided by the total number of staying nights. Source/Engineering: BO, BL, and TR.\n",
        "- **Adults**: Integer. Number of adults. Source: BO and BL.\n",
        "- **Agent**: Categorical. ID of the travel agency that made the booking. Source: BO and BL.\n",
        "- **ArrivalDateDayOfMonth**: Integer. Day of the month of the arrival date. Source: BO and BL.\n",
        "- **ArrivalDateMonth**: Categorical. Month of arrival date, categorized from “January” to “December”. Source: BO and BL.\n",
        "- **ArrivalDateWeekNumber**: Integer. Week number of the arrival date. Source: BO and BL.\n",
        "- **ArrivalDateYear**: Integer. Year of arrival date. Source: BO and BL.\n",
        "- **AssignedRoomType**: Categorical. Code for the type of room assigned to the booking, which may differ from the reserved room type for various reasons. Source: BO and BL.\n",
        "- **Babies**: Integer. Number of babies. Source: BO and BL.\n",
        "- **BookingChanges**: Integer. Number of changes made to the booking before check-in or cancellation. Source/Engineering: BO and BL.\n",
        "- **Children**: Integer. Number of children, including both payable and non-payable. Source/Engineering: BO and BL.\n",
        "- **Company**: Categorical. ID of the company/entity responsible for the booking or payment. Source: BO and BL.\n",
        "- **Country**: Categorical. Country of origin in ISO 3155–3:2013 format. Source: BO, BL, and NT.\n",
        "- **CustomerType**: Categorical. Assumes one of four categories: Contract, Group, Transient, Transient-party, based on the nature of the booking. Source: BO and BL.\n",
        "- **DaysInWaitingList**: Integer. Days the booking was on the waiting list before confirmation. Source/Engineering: BO.\n",
        "- **DepositType**: Categorical. Indicates if a deposit was made, with categories: No Deposit, Non Refund, Refundable. Source/Engineering: BO and TR.\n",
        "- **DistributionChannel**: Categorical. Booking distribution channel, with “TA” for Travel Agents and “TO” for Tour Operators. Source: BO, BL, and DC.\n",
        "- **IsCanceled**: Categorical. Indicates if the booking was canceled (1) or not (0). Source: BO.\n",
        "- **IsRepeatedGuest**: Categorical. Indicates if the booking was from a repeated guest (1) or not (0). Source: BO, BL, and C.\n",
        "- **LeadTime**: Integer. Days between the booking date and the arrival date. Source/Engineering: BO and BL.\n",
        "- **MarketSegment**: Categorical. Designation of market segment, with “TA” for Travel Agents and “TO” for Tour Operators. Source: BO, BL, and MS.\n",
        "- **Meal**: Categorical. Type of meal booked, with categories: Undefined/SC, BB (Bed & Breakfast), HB (Half board), FB (Full board). Source: BO, BL, and ML.\n",
        "- **PreviousBookingsNotCanceled**: Integer. Number of previous bookings not canceled by the customer. Source/Engineering: BO and BL.\n",
        "- **PreviousCancellations**: Integer. Number of previous bookings canceled by the customer. Source/Engineering: BO and BL.\n",
        "- **RequiredCardParkingSpaces**: Integer. Number of car parking spaces required. Source: BO and BL.\n",
        "- **ReservationStatus**: Categorical. Last status of the reservation: Canceled, Check-Out, No-Show. Source: BO.\n",
        "- **ReservationStatusDate**: Date. Date when the last status was set. Source: BO.\n",
        "- **ReservedRoomType**: Categorical. Code for the type of room reserved. Source: BO and BL.\n",
        "- **StaysInWeekendNights**: Integer. Number of weekend nights stayed. Source/Engineering: BO and BL.\n",
        "- **StaysInWeekNights**: Integer. Number of week nights stayed. Source/Engineering: BO and BL.\n",
        "- **TotalOfSpecialRequests**: Integer. Number of special requests made by the customer. Source/Engineering: BO and BL."
      ]
    },
    {
      "cell_type": "markdown",
      "metadata": {
        "id": "GcZiv1FPCnQL"
      },
      "source": [
        "## PHASE 1 - EXPLORATORY DATA ANALYSIS"
      ]
    },
    {
      "cell_type": "code",
      "execution_count": null,
      "metadata": {
        "id": "vxX_XNNywGSI"
      },
      "outputs": [],
      "source": [
        "import pandas as pd\n",
        "import numpy as np\n",
        "import matplotlib.pyplot as plt\n",
        "import seaborn as sns"
      ]
    },
    {
      "cell_type": "code",
      "execution_count": null,
      "metadata": {
        "id": "fI3L5XbTCnQL"
      },
      "outputs": [],
      "source": [
        "# let's import the datasets and read them as pandas dataframes\n",
        "\n",
        "h1_df = pd.read_csv('H1.csv')\n",
        "h2_df = pd.read_csv('H2.csv')"
      ]
    },
    {
      "cell_type": "code",
      "execution_count": null,
      "metadata": {
        "id": "7CasiZ8OwGSJ"
      },
      "outputs": [],
      "source": [
        "# Add a column to each dataframe to indicate the hotel\n",
        "\n",
        "h1_df['hotel'] = 'H1'\n",
        "h2_df['hotel'] = 'H2'"
      ]
    },
    {
      "cell_type": "code",
      "execution_count": null,
      "metadata": {
        "id": "DQrA2882CnQM"
      },
      "outputs": [],
      "source": [
        "# datasets h1_df and h2_df have the same columns, so we can just add them together to create a bigger dataset (keeping the exact same values)\n",
        "\n",
        "df = pd.concat([h1_df, h2_df])"
      ]
    },
    {
      "cell_type": "code",
      "execution_count": null,
      "metadata": {
        "id": "vCK-6Vn_wGSK",
        "outputId": "489ebde9-7b84-486e-9551-faaf471c589a"
      },
      "outputs": [
        {
          "data": {
            "text/html": [
              "<div>\n",
              "<style scoped>\n",
              "    .dataframe tbody tr th:only-of-type {\n",
              "        vertical-align: middle;\n",
              "    }\n",
              "\n",
              "    .dataframe tbody tr th {\n",
              "        vertical-align: top;\n",
              "    }\n",
              "\n",
              "    .dataframe thead th {\n",
              "        text-align: right;\n",
              "    }\n",
              "</style>\n",
              "<table border=\"1\" class=\"dataframe\">\n",
              "  <thead>\n",
              "    <tr style=\"text-align: right;\">\n",
              "      <th></th>\n",
              "      <th>IsCanceled</th>\n",
              "      <th>LeadTime</th>\n",
              "      <th>ArrivalDateYear</th>\n",
              "      <th>ArrivalDateMonth</th>\n",
              "      <th>ArrivalDateWeekNumber</th>\n",
              "      <th>ArrivalDateDayOfMonth</th>\n",
              "      <th>StaysInWeekendNights</th>\n",
              "      <th>StaysInWeekNights</th>\n",
              "      <th>Adults</th>\n",
              "      <th>Children</th>\n",
              "      <th>...</th>\n",
              "      <th>Agent</th>\n",
              "      <th>Company</th>\n",
              "      <th>DaysInWaitingList</th>\n",
              "      <th>CustomerType</th>\n",
              "      <th>ADR</th>\n",
              "      <th>RequiredCarParkingSpaces</th>\n",
              "      <th>TotalOfSpecialRequests</th>\n",
              "      <th>ReservationStatus</th>\n",
              "      <th>ReservationStatusDate</th>\n",
              "      <th>hotel</th>\n",
              "    </tr>\n",
              "  </thead>\n",
              "  <tbody>\n",
              "    <tr>\n",
              "      <th>0</th>\n",
              "      <td>0</td>\n",
              "      <td>342</td>\n",
              "      <td>2015</td>\n",
              "      <td>July</td>\n",
              "      <td>27</td>\n",
              "      <td>1</td>\n",
              "      <td>0</td>\n",
              "      <td>0</td>\n",
              "      <td>2</td>\n",
              "      <td>0.0</td>\n",
              "      <td>...</td>\n",
              "      <td>NULL</td>\n",
              "      <td>NULL</td>\n",
              "      <td>0</td>\n",
              "      <td>Transient</td>\n",
              "      <td>0.0</td>\n",
              "      <td>0</td>\n",
              "      <td>0</td>\n",
              "      <td>Check-Out</td>\n",
              "      <td>2015-07-01</td>\n",
              "      <td>H1</td>\n",
              "    </tr>\n",
              "    <tr>\n",
              "      <th>1</th>\n",
              "      <td>0</td>\n",
              "      <td>737</td>\n",
              "      <td>2015</td>\n",
              "      <td>July</td>\n",
              "      <td>27</td>\n",
              "      <td>1</td>\n",
              "      <td>0</td>\n",
              "      <td>0</td>\n",
              "      <td>2</td>\n",
              "      <td>0.0</td>\n",
              "      <td>...</td>\n",
              "      <td>NULL</td>\n",
              "      <td>NULL</td>\n",
              "      <td>0</td>\n",
              "      <td>Transient</td>\n",
              "      <td>0.0</td>\n",
              "      <td>0</td>\n",
              "      <td>0</td>\n",
              "      <td>Check-Out</td>\n",
              "      <td>2015-07-01</td>\n",
              "      <td>H1</td>\n",
              "    </tr>\n",
              "    <tr>\n",
              "      <th>2</th>\n",
              "      <td>0</td>\n",
              "      <td>7</td>\n",
              "      <td>2015</td>\n",
              "      <td>July</td>\n",
              "      <td>27</td>\n",
              "      <td>1</td>\n",
              "      <td>0</td>\n",
              "      <td>1</td>\n",
              "      <td>1</td>\n",
              "      <td>0.0</td>\n",
              "      <td>...</td>\n",
              "      <td>NULL</td>\n",
              "      <td>NULL</td>\n",
              "      <td>0</td>\n",
              "      <td>Transient</td>\n",
              "      <td>75.0</td>\n",
              "      <td>0</td>\n",
              "      <td>0</td>\n",
              "      <td>Check-Out</td>\n",
              "      <td>2015-07-02</td>\n",
              "      <td>H1</td>\n",
              "    </tr>\n",
              "    <tr>\n",
              "      <th>3</th>\n",
              "      <td>0</td>\n",
              "      <td>13</td>\n",
              "      <td>2015</td>\n",
              "      <td>July</td>\n",
              "      <td>27</td>\n",
              "      <td>1</td>\n",
              "      <td>0</td>\n",
              "      <td>1</td>\n",
              "      <td>1</td>\n",
              "      <td>0.0</td>\n",
              "      <td>...</td>\n",
              "      <td>304</td>\n",
              "      <td>NULL</td>\n",
              "      <td>0</td>\n",
              "      <td>Transient</td>\n",
              "      <td>75.0</td>\n",
              "      <td>0</td>\n",
              "      <td>0</td>\n",
              "      <td>Check-Out</td>\n",
              "      <td>2015-07-02</td>\n",
              "      <td>H1</td>\n",
              "    </tr>\n",
              "    <tr>\n",
              "      <th>4</th>\n",
              "      <td>0</td>\n",
              "      <td>14</td>\n",
              "      <td>2015</td>\n",
              "      <td>July</td>\n",
              "      <td>27</td>\n",
              "      <td>1</td>\n",
              "      <td>0</td>\n",
              "      <td>2</td>\n",
              "      <td>2</td>\n",
              "      <td>0.0</td>\n",
              "      <td>...</td>\n",
              "      <td>240</td>\n",
              "      <td>NULL</td>\n",
              "      <td>0</td>\n",
              "      <td>Transient</td>\n",
              "      <td>98.0</td>\n",
              "      <td>0</td>\n",
              "      <td>1</td>\n",
              "      <td>Check-Out</td>\n",
              "      <td>2015-07-03</td>\n",
              "      <td>H1</td>\n",
              "    </tr>\n",
              "  </tbody>\n",
              "</table>\n",
              "<p>5 rows × 32 columns</p>\n",
              "</div>"
            ],
            "text/plain": [
              "   IsCanceled  LeadTime  ArrivalDateYear ArrivalDateMonth  \\\n",
              "0           0       342             2015             July   \n",
              "1           0       737             2015             July   \n",
              "2           0         7             2015             July   \n",
              "3           0        13             2015             July   \n",
              "4           0        14             2015             July   \n",
              "\n",
              "   ArrivalDateWeekNumber  ArrivalDateDayOfMonth  StaysInWeekendNights  \\\n",
              "0                     27                      1                     0   \n",
              "1                     27                      1                     0   \n",
              "2                     27                      1                     0   \n",
              "3                     27                      1                     0   \n",
              "4                     27                      1                     0   \n",
              "\n",
              "   StaysInWeekNights  Adults  Children  ...        Agent      Company  \\\n",
              "0                  0       2       0.0  ...         NULL         NULL   \n",
              "1                  0       2       0.0  ...         NULL         NULL   \n",
              "2                  1       1       0.0  ...         NULL         NULL   \n",
              "3                  1       1       0.0  ...          304         NULL   \n",
              "4                  2       2       0.0  ...          240         NULL   \n",
              "\n",
              "  DaysInWaitingList CustomerType   ADR  RequiredCarParkingSpaces  \\\n",
              "0                 0    Transient   0.0                         0   \n",
              "1                 0    Transient   0.0                         0   \n",
              "2                 0    Transient  75.0                         0   \n",
              "3                 0    Transient  75.0                         0   \n",
              "4                 0    Transient  98.0                         0   \n",
              "\n",
              "   TotalOfSpecialRequests  ReservationStatus ReservationStatusDate hotel  \n",
              "0                       0          Check-Out            2015-07-01    H1  \n",
              "1                       0          Check-Out            2015-07-01    H1  \n",
              "2                       0          Check-Out            2015-07-02    H1  \n",
              "3                       0          Check-Out            2015-07-02    H1  \n",
              "4                       1          Check-Out            2015-07-03    H1  \n",
              "\n",
              "[5 rows x 32 columns]"
            ]
          },
          "execution_count": 5,
          "metadata": {},
          "output_type": "execute_result"
        }
      ],
      "source": [
        "df.head()"
      ]
    },
    {
      "cell_type": "code",
      "execution_count": null,
      "metadata": {
        "id": "key4ejWBwGSK",
        "outputId": "52b0a64b-28c9-4ad0-cbea-c91e81a14145"
      },
      "outputs": [
        {
          "data": {
            "text/html": [
              "<div>\n",
              "<style scoped>\n",
              "    .dataframe tbody tr th:only-of-type {\n",
              "        vertical-align: middle;\n",
              "    }\n",
              "\n",
              "    .dataframe tbody tr th {\n",
              "        vertical-align: top;\n",
              "    }\n",
              "\n",
              "    .dataframe thead th {\n",
              "        text-align: right;\n",
              "    }\n",
              "</style>\n",
              "<table border=\"1\" class=\"dataframe\">\n",
              "  <thead>\n",
              "    <tr style=\"text-align: right;\">\n",
              "      <th></th>\n",
              "      <th>IsCanceled</th>\n",
              "      <th>LeadTime</th>\n",
              "      <th>ArrivalDateYear</th>\n",
              "      <th>ArrivalDateWeekNumber</th>\n",
              "      <th>ArrivalDateDayOfMonth</th>\n",
              "      <th>StaysInWeekendNights</th>\n",
              "      <th>StaysInWeekNights</th>\n",
              "      <th>Adults</th>\n",
              "      <th>Children</th>\n",
              "      <th>Babies</th>\n",
              "      <th>IsRepeatedGuest</th>\n",
              "      <th>PreviousCancellations</th>\n",
              "      <th>PreviousBookingsNotCanceled</th>\n",
              "      <th>BookingChanges</th>\n",
              "      <th>DaysInWaitingList</th>\n",
              "      <th>ADR</th>\n",
              "      <th>RequiredCarParkingSpaces</th>\n",
              "      <th>TotalOfSpecialRequests</th>\n",
              "    </tr>\n",
              "  </thead>\n",
              "  <tbody>\n",
              "    <tr>\n",
              "      <th>count</th>\n",
              "      <td>119390.000000</td>\n",
              "      <td>119390.000000</td>\n",
              "      <td>119390.000000</td>\n",
              "      <td>119390.000000</td>\n",
              "      <td>119390.000000</td>\n",
              "      <td>119390.000000</td>\n",
              "      <td>119390.000000</td>\n",
              "      <td>119390.000000</td>\n",
              "      <td>119386.000000</td>\n",
              "      <td>119390.000000</td>\n",
              "      <td>119390.000000</td>\n",
              "      <td>119390.000000</td>\n",
              "      <td>119390.000000</td>\n",
              "      <td>119390.000000</td>\n",
              "      <td>119390.000000</td>\n",
              "      <td>119390.000000</td>\n",
              "      <td>119390.000000</td>\n",
              "      <td>119390.000000</td>\n",
              "    </tr>\n",
              "    <tr>\n",
              "      <th>mean</th>\n",
              "      <td>0.370416</td>\n",
              "      <td>104.011416</td>\n",
              "      <td>2016.156554</td>\n",
              "      <td>27.165173</td>\n",
              "      <td>15.798241</td>\n",
              "      <td>0.927599</td>\n",
              "      <td>2.500302</td>\n",
              "      <td>1.856403</td>\n",
              "      <td>0.103890</td>\n",
              "      <td>0.007949</td>\n",
              "      <td>0.031912</td>\n",
              "      <td>0.087118</td>\n",
              "      <td>0.137097</td>\n",
              "      <td>0.221124</td>\n",
              "      <td>2.321149</td>\n",
              "      <td>101.831122</td>\n",
              "      <td>0.062518</td>\n",
              "      <td>0.571363</td>\n",
              "    </tr>\n",
              "    <tr>\n",
              "      <th>std</th>\n",
              "      <td>0.482918</td>\n",
              "      <td>106.863097</td>\n",
              "      <td>0.707476</td>\n",
              "      <td>13.605138</td>\n",
              "      <td>8.780829</td>\n",
              "      <td>0.998613</td>\n",
              "      <td>1.908286</td>\n",
              "      <td>0.579261</td>\n",
              "      <td>0.398561</td>\n",
              "      <td>0.097436</td>\n",
              "      <td>0.175767</td>\n",
              "      <td>0.844336</td>\n",
              "      <td>1.497437</td>\n",
              "      <td>0.652306</td>\n",
              "      <td>17.594721</td>\n",
              "      <td>50.535790</td>\n",
              "      <td>0.245291</td>\n",
              "      <td>0.792798</td>\n",
              "    </tr>\n",
              "    <tr>\n",
              "      <th>min</th>\n",
              "      <td>0.000000</td>\n",
              "      <td>0.000000</td>\n",
              "      <td>2015.000000</td>\n",
              "      <td>1.000000</td>\n",
              "      <td>1.000000</td>\n",
              "      <td>0.000000</td>\n",
              "      <td>0.000000</td>\n",
              "      <td>0.000000</td>\n",
              "      <td>0.000000</td>\n",
              "      <td>0.000000</td>\n",
              "      <td>0.000000</td>\n",
              "      <td>0.000000</td>\n",
              "      <td>0.000000</td>\n",
              "      <td>0.000000</td>\n",
              "      <td>0.000000</td>\n",
              "      <td>-6.380000</td>\n",
              "      <td>0.000000</td>\n",
              "      <td>0.000000</td>\n",
              "    </tr>\n",
              "    <tr>\n",
              "      <th>25%</th>\n",
              "      <td>0.000000</td>\n",
              "      <td>18.000000</td>\n",
              "      <td>2016.000000</td>\n",
              "      <td>16.000000</td>\n",
              "      <td>8.000000</td>\n",
              "      <td>0.000000</td>\n",
              "      <td>1.000000</td>\n",
              "      <td>2.000000</td>\n",
              "      <td>0.000000</td>\n",
              "      <td>0.000000</td>\n",
              "      <td>0.000000</td>\n",
              "      <td>0.000000</td>\n",
              "      <td>0.000000</td>\n",
              "      <td>0.000000</td>\n",
              "      <td>0.000000</td>\n",
              "      <td>69.290000</td>\n",
              "      <td>0.000000</td>\n",
              "      <td>0.000000</td>\n",
              "    </tr>\n",
              "    <tr>\n",
              "      <th>50%</th>\n",
              "      <td>0.000000</td>\n",
              "      <td>69.000000</td>\n",
              "      <td>2016.000000</td>\n",
              "      <td>28.000000</td>\n",
              "      <td>16.000000</td>\n",
              "      <td>1.000000</td>\n",
              "      <td>2.000000</td>\n",
              "      <td>2.000000</td>\n",
              "      <td>0.000000</td>\n",
              "      <td>0.000000</td>\n",
              "      <td>0.000000</td>\n",
              "      <td>0.000000</td>\n",
              "      <td>0.000000</td>\n",
              "      <td>0.000000</td>\n",
              "      <td>0.000000</td>\n",
              "      <td>94.575000</td>\n",
              "      <td>0.000000</td>\n",
              "      <td>0.000000</td>\n",
              "    </tr>\n",
              "    <tr>\n",
              "      <th>75%</th>\n",
              "      <td>1.000000</td>\n",
              "      <td>160.000000</td>\n",
              "      <td>2017.000000</td>\n",
              "      <td>38.000000</td>\n",
              "      <td>23.000000</td>\n",
              "      <td>2.000000</td>\n",
              "      <td>3.000000</td>\n",
              "      <td>2.000000</td>\n",
              "      <td>0.000000</td>\n",
              "      <td>0.000000</td>\n",
              "      <td>0.000000</td>\n",
              "      <td>0.000000</td>\n",
              "      <td>0.000000</td>\n",
              "      <td>0.000000</td>\n",
              "      <td>0.000000</td>\n",
              "      <td>126.000000</td>\n",
              "      <td>0.000000</td>\n",
              "      <td>1.000000</td>\n",
              "    </tr>\n",
              "    <tr>\n",
              "      <th>max</th>\n",
              "      <td>1.000000</td>\n",
              "      <td>737.000000</td>\n",
              "      <td>2017.000000</td>\n",
              "      <td>53.000000</td>\n",
              "      <td>31.000000</td>\n",
              "      <td>19.000000</td>\n",
              "      <td>50.000000</td>\n",
              "      <td>55.000000</td>\n",
              "      <td>10.000000</td>\n",
              "      <td>10.000000</td>\n",
              "      <td>1.000000</td>\n",
              "      <td>26.000000</td>\n",
              "      <td>72.000000</td>\n",
              "      <td>21.000000</td>\n",
              "      <td>391.000000</td>\n",
              "      <td>5400.000000</td>\n",
              "      <td>8.000000</td>\n",
              "      <td>5.000000</td>\n",
              "    </tr>\n",
              "  </tbody>\n",
              "</table>\n",
              "</div>"
            ],
            "text/plain": [
              "          IsCanceled       LeadTime  ArrivalDateYear  ArrivalDateWeekNumber  \\\n",
              "count  119390.000000  119390.000000    119390.000000          119390.000000   \n",
              "mean        0.370416     104.011416      2016.156554              27.165173   \n",
              "std         0.482918     106.863097         0.707476              13.605138   \n",
              "min         0.000000       0.000000      2015.000000               1.000000   \n",
              "25%         0.000000      18.000000      2016.000000              16.000000   \n",
              "50%         0.000000      69.000000      2016.000000              28.000000   \n",
              "75%         1.000000     160.000000      2017.000000              38.000000   \n",
              "max         1.000000     737.000000      2017.000000              53.000000   \n",
              "\n",
              "       ArrivalDateDayOfMonth  StaysInWeekendNights  StaysInWeekNights  \\\n",
              "count          119390.000000         119390.000000      119390.000000   \n",
              "mean               15.798241              0.927599           2.500302   \n",
              "std                 8.780829              0.998613           1.908286   \n",
              "min                 1.000000              0.000000           0.000000   \n",
              "25%                 8.000000              0.000000           1.000000   \n",
              "50%                16.000000              1.000000           2.000000   \n",
              "75%                23.000000              2.000000           3.000000   \n",
              "max                31.000000             19.000000          50.000000   \n",
              "\n",
              "              Adults       Children         Babies  IsRepeatedGuest  \\\n",
              "count  119390.000000  119386.000000  119390.000000    119390.000000   \n",
              "mean        1.856403       0.103890       0.007949         0.031912   \n",
              "std         0.579261       0.398561       0.097436         0.175767   \n",
              "min         0.000000       0.000000       0.000000         0.000000   \n",
              "25%         2.000000       0.000000       0.000000         0.000000   \n",
              "50%         2.000000       0.000000       0.000000         0.000000   \n",
              "75%         2.000000       0.000000       0.000000         0.000000   \n",
              "max        55.000000      10.000000      10.000000         1.000000   \n",
              "\n",
              "       PreviousCancellations  PreviousBookingsNotCanceled  BookingChanges  \\\n",
              "count          119390.000000                119390.000000   119390.000000   \n",
              "mean                0.087118                     0.137097        0.221124   \n",
              "std                 0.844336                     1.497437        0.652306   \n",
              "min                 0.000000                     0.000000        0.000000   \n",
              "25%                 0.000000                     0.000000        0.000000   \n",
              "50%                 0.000000                     0.000000        0.000000   \n",
              "75%                 0.000000                     0.000000        0.000000   \n",
              "max                26.000000                    72.000000       21.000000   \n",
              "\n",
              "       DaysInWaitingList            ADR  RequiredCarParkingSpaces  \\\n",
              "count      119390.000000  119390.000000             119390.000000   \n",
              "mean            2.321149     101.831122                  0.062518   \n",
              "std            17.594721      50.535790                  0.245291   \n",
              "min             0.000000      -6.380000                  0.000000   \n",
              "25%             0.000000      69.290000                  0.000000   \n",
              "50%             0.000000      94.575000                  0.000000   \n",
              "75%             0.000000     126.000000                  0.000000   \n",
              "max           391.000000    5400.000000                  8.000000   \n",
              "\n",
              "       TotalOfSpecialRequests  \n",
              "count           119390.000000  \n",
              "mean                 0.571363  \n",
              "std                  0.792798  \n",
              "min                  0.000000  \n",
              "25%                  0.000000  \n",
              "50%                  0.000000  \n",
              "75%                  1.000000  \n",
              "max                  5.000000  "
            ]
          },
          "execution_count": 6,
          "metadata": {},
          "output_type": "execute_result"
        }
      ],
      "source": [
        "df.describe()"
      ]
    },
    {
      "cell_type": "code",
      "execution_count": null,
      "metadata": {
        "id": "Qpo8DrZHCnQO",
        "outputId": "46f5ce29-febe-4f57-b8d1-c76439c3b29d"
      },
      "outputs": [
        {
          "data": {
            "text/html": [
              "<div>\n",
              "<style scoped>\n",
              "    .dataframe tbody tr th:only-of-type {\n",
              "        vertical-align: middle;\n",
              "    }\n",
              "\n",
              "    .dataframe tbody tr th {\n",
              "        vertical-align: top;\n",
              "    }\n",
              "\n",
              "    .dataframe thead th {\n",
              "        text-align: right;\n",
              "    }\n",
              "</style>\n",
              "<table border=\"1\" class=\"dataframe\">\n",
              "  <thead>\n",
              "    <tr style=\"text-align: right;\">\n",
              "      <th></th>\n",
              "      <th>ArrivalDateMonth</th>\n",
              "      <th>Meal</th>\n",
              "      <th>Country</th>\n",
              "      <th>MarketSegment</th>\n",
              "      <th>DistributionChannel</th>\n",
              "      <th>ReservedRoomType</th>\n",
              "      <th>AssignedRoomType</th>\n",
              "      <th>DepositType</th>\n",
              "      <th>Agent</th>\n",
              "      <th>Company</th>\n",
              "      <th>CustomerType</th>\n",
              "      <th>ReservationStatus</th>\n",
              "      <th>ReservationStatusDate</th>\n",
              "      <th>hotel</th>\n",
              "    </tr>\n",
              "  </thead>\n",
              "  <tbody>\n",
              "    <tr>\n",
              "      <th>count</th>\n",
              "      <td>119390</td>\n",
              "      <td>119390</td>\n",
              "      <td>118902</td>\n",
              "      <td>119390</td>\n",
              "      <td>119390</td>\n",
              "      <td>119390</td>\n",
              "      <td>119390</td>\n",
              "      <td>119390</td>\n",
              "      <td>119390</td>\n",
              "      <td>119390</td>\n",
              "      <td>119390</td>\n",
              "      <td>119390</td>\n",
              "      <td>119390</td>\n",
              "      <td>119390</td>\n",
              "    </tr>\n",
              "    <tr>\n",
              "      <th>unique</th>\n",
              "      <td>12</td>\n",
              "      <td>5</td>\n",
              "      <td>177</td>\n",
              "      <td>8</td>\n",
              "      <td>5</td>\n",
              "      <td>10</td>\n",
              "      <td>12</td>\n",
              "      <td>3</td>\n",
              "      <td>334</td>\n",
              "      <td>353</td>\n",
              "      <td>4</td>\n",
              "      <td>3</td>\n",
              "      <td>926</td>\n",
              "      <td>2</td>\n",
              "    </tr>\n",
              "    <tr>\n",
              "      <th>top</th>\n",
              "      <td>August</td>\n",
              "      <td>BB</td>\n",
              "      <td>PRT</td>\n",
              "      <td>Online TA</td>\n",
              "      <td>TA/TO</td>\n",
              "      <td>A</td>\n",
              "      <td>A</td>\n",
              "      <td>No Deposit</td>\n",
              "      <td>9</td>\n",
              "      <td>NULL</td>\n",
              "      <td>Transient</td>\n",
              "      <td>Check-Out</td>\n",
              "      <td>2015-10-21</td>\n",
              "      <td>H2</td>\n",
              "    </tr>\n",
              "    <tr>\n",
              "      <th>freq</th>\n",
              "      <td>13877</td>\n",
              "      <td>92310</td>\n",
              "      <td>48590</td>\n",
              "      <td>56477</td>\n",
              "      <td>97870</td>\n",
              "      <td>85994</td>\n",
              "      <td>74053</td>\n",
              "      <td>104641</td>\n",
              "      <td>31961</td>\n",
              "      <td>112593</td>\n",
              "      <td>89613</td>\n",
              "      <td>75166</td>\n",
              "      <td>1461</td>\n",
              "      <td>79330</td>\n",
              "    </tr>\n",
              "  </tbody>\n",
              "</table>\n",
              "</div>"
            ],
            "text/plain": [
              "       ArrivalDateMonth       Meal Country MarketSegment DistributionChannel  \\\n",
              "count            119390     119390  118902        119390              119390   \n",
              "unique               12          5     177             8                   5   \n",
              "top              August  BB            PRT     Online TA               TA/TO   \n",
              "freq              13877      92310   48590         56477               97870   \n",
              "\n",
              "        ReservedRoomType  AssignedRoomType      DepositType        Agent  \\\n",
              "count             119390            119390           119390       119390   \n",
              "unique                10                12                3          334   \n",
              "top     A                 A                 No Deposit                 9   \n",
              "freq               85994             74053           104641        31961   \n",
              "\n",
              "            Company CustomerType ReservationStatus ReservationStatusDate  \\\n",
              "count        119390       119390            119390                119390   \n",
              "unique          353            4                 3                   926   \n",
              "top            NULL    Transient         Check-Out            2015-10-21   \n",
              "freq         112593        89613             75166                  1461   \n",
              "\n",
              "         hotel  \n",
              "count   119390  \n",
              "unique       2  \n",
              "top         H2  \n",
              "freq     79330  "
            ]
          },
          "execution_count": 7,
          "metadata": {},
          "output_type": "execute_result"
        }
      ],
      "source": [
        "df.describe(include='object')"
      ]
    },
    {
      "cell_type": "code",
      "execution_count": null,
      "metadata": {
        "id": "leFBGYK1IuAo",
        "outputId": "927d91f2-28ac-4128-d88c-a8a9ff125b1a"
      },
      "outputs": [
        {
          "name": "stderr",
          "output_type": "stream",
          "text": [
            "C:\\Users\\guira\\AppData\\Local\\Temp\\ipykernel_22096\\3130127001.py:5: FutureWarning: DataFrame.applymap has been deprecated. Use DataFrame.map instead.\n",
            "  df = df.applymap(lambda x: np.nan if str(x).strip().upper() == 'NULL' else x)\n"
          ]
        },
        {
          "data": {
            "text/plain": [
              "IsCanceled                          0\n",
              "LeadTime                            0\n",
              "ArrivalDateYear                     0\n",
              "ArrivalDateMonth                    0\n",
              "ArrivalDateWeekNumber               0\n",
              "ArrivalDateDayOfMonth               0\n",
              "StaysInWeekendNights                0\n",
              "StaysInWeekNights                   0\n",
              "Adults                              0\n",
              "Children                            4\n",
              "Babies                              0\n",
              "Meal                                0\n",
              "Country                           488\n",
              "MarketSegment                       0\n",
              "DistributionChannel                 0\n",
              "IsRepeatedGuest                     0\n",
              "PreviousCancellations               0\n",
              "PreviousBookingsNotCanceled         0\n",
              "ReservedRoomType                    0\n",
              "AssignedRoomType                    0\n",
              "BookingChanges                      0\n",
              "DepositType                         0\n",
              "Agent                           16340\n",
              "Company                        112593\n",
              "DaysInWaitingList                   0\n",
              "CustomerType                        0\n",
              "ADR                                 0\n",
              "RequiredCarParkingSpaces            0\n",
              "TotalOfSpecialRequests              0\n",
              "ReservationStatus                   0\n",
              "ReservationStatusDate               0\n",
              "hotel                               0\n",
              "dtype: int64"
            ]
          },
          "execution_count": 8,
          "metadata": {},
          "output_type": "execute_result"
        }
      ],
      "source": [
        "# let's check for missing values\n",
        "\n",
        "#first let's convert NULL values to NaN, to get uniform format for missing values\n",
        "\n",
        "df = df.applymap(lambda x: np.nan if str(x).strip().upper() == 'NULL' else x)\n",
        "\n",
        "df.isnull().sum()"
      ]
    },
    {
      "cell_type": "code",
      "execution_count": null,
      "metadata": {
        "id": "smTdNd9UwGSL",
        "outputId": "84209053-1904-4284-ea07-2c47cb72fe1d"
      },
      "outputs": [
        {
          "data": {
            "text/plain": [
              "hotel\n",
              "H2    79330\n",
              "H1    40060\n",
              "Name: count, dtype: int64"
            ]
          },
          "execution_count": 9,
          "metadata": {},
          "output_type": "execute_result"
        }
      ],
      "source": [
        "df['hotel'].value_counts()"
      ]
    },
    {
      "cell_type": "code",
      "execution_count": null,
      "metadata": {
        "id": "Oq4X8L0awGSL",
        "outputId": "aaea44ac-5e8f-43b9-eae7-ff83b684f473"
      },
      "outputs": [
        {
          "data": {
            "image/png": "[encoded data removed]",
            "text/plain": [
              "<Figure size 1200x600 with 1 Axes>"
            ]
          },
          "metadata": {},
          "output_type": "display_data"
        }
      ],
      "source": [
        "# let's plot the distribution of number of reservations by country, top 20\n",
        "\n",
        "# Resetting the index of the concatenated DataFrame\n",
        "df.reset_index(drop=True, inplace=True)\n",
        "\n",
        "plt.figure(figsize=(12, 6))\n",
        "sns.countplot(data=df, x='Country', order=df['Country'].value_counts().index[:20])\n",
        "plt.xticks(rotation=90)\n",
        "plt.show()"
      ]
    },
    {
      "cell_type": "markdown",
      "metadata": {
        "id": "gzKP3pKTwGSM"
      },
      "source": [
        "**Portugal is by far the country of origin of the majority of guests. Perhaps what explains this is the fact that these hotels are located in Portugal.**"
      ]
    },
    {
      "cell_type": "code",
      "execution_count": null,
      "metadata": {
        "id": "9aAT1qGSwGSM",
        "outputId": "ede1837e-f078-4271-9b14-bee49f7f83e0"
      },
      "outputs": [
        {
          "data": {
            "image/png": "[encoded data removed]",
            "text/plain": [
              "<Figure size 1200x600 with 1 Axes>"
            ]
          },
          "metadata": {},
          "output_type": "display_data"
        }
      ],
      "source": [
        "# Let's see the distribution of guests (people that didn't cancel) by country\n",
        "\n",
        "#let's see the top 20\n",
        "\n",
        "plt.figure(figsize=(12, 6))\n",
        "sns.countplot(data=df[df['IsCanceled'] == 0], x='Country', order=df[df['IsCanceled'] == 0]['Country'].value_counts().head(20).index)\n",
        "plt.title('Top 20 countries with the most guests')\n",
        "plt.show()"
      ]
    },
    {
      "cell_type": "code",
      "execution_count": null,
      "metadata": {
        "id": "yG9y-FPHwGSM",
        "outputId": "245536d3-b633-41bc-c9eb-f0f2788c0b88"
      },
      "outputs": [
        {
          "data": {
            "image/png": "[encoded data removed]",
            "text/plain": [
              "<Figure size 1200x600 with 1 Axes>"
            ]
          },
          "metadata": {},
          "output_type": "display_data"
        }
      ],
      "source": [
        "# Let's now see the distribution of ratios between number of cancelLations and number of stays by country\n",
        "\n",
        "# let's calculate the ratio\n",
        "\n",
        "country_reservations = df['Country'].value_counts()\n",
        "country_cancellations = df[df['IsCanceled'] == 1]['Country'].value_counts()\n",
        "\n",
        "country_ratio =  country_cancellations/country_reservations\n",
        "\n",
        "# plot top 20, using just countries with at least 100 reservations\n",
        "\n",
        "plt.figure(figsize=(12, 6))\n",
        "country_ratio[country_reservations > 100].sort_values(ascending=False).head(20).plot(kind='bar')\n",
        "plt.title('Top 20 countries with the highest cancellation ratio')\n",
        "plt.show()"
      ]
    },
    {
      "cell_type": "code",
      "execution_count": null,
      "metadata": {
        "id": "nfvldt4MwGSM",
        "outputId": "9901c0e6-e800-4ac7-8f88-77cdb4953a3c"
      },
      "outputs": [
        {
          "data": {
            "text/html": [
              "<div>\n",
              "<style scoped>\n",
              "    .dataframe tbody tr th:only-of-type {\n",
              "        vertical-align: middle;\n",
              "    }\n",
              "\n",
              "    .dataframe tbody tr th {\n",
              "        vertical-align: top;\n",
              "    }\n",
              "\n",
              "    .dataframe thead th {\n",
              "        text-align: right;\n",
              "    }\n",
              "</style>\n",
              "<table border=\"1\" class=\"dataframe\">\n",
              "  <thead>\n",
              "    <tr style=\"text-align: right;\">\n",
              "      <th></th>\n",
              "      <th>reservations</th>\n",
              "      <th>cancellations</th>\n",
              "      <th>ratio</th>\n",
              "    </tr>\n",
              "    <tr>\n",
              "      <th>Country</th>\n",
              "      <th></th>\n",
              "      <th></th>\n",
              "      <th></th>\n",
              "    </tr>\n",
              "  </thead>\n",
              "  <tbody>\n",
              "    <tr>\n",
              "      <th>PRT</th>\n",
              "      <td>48590</td>\n",
              "      <td>27519.0</td>\n",
              "      <td>0.566351</td>\n",
              "    </tr>\n",
              "    <tr>\n",
              "      <th>GBR</th>\n",
              "      <td>12129</td>\n",
              "      <td>2453.0</td>\n",
              "      <td>0.202243</td>\n",
              "    </tr>\n",
              "    <tr>\n",
              "      <th>FRA</th>\n",
              "      <td>10415</td>\n",
              "      <td>1934.0</td>\n",
              "      <td>0.185694</td>\n",
              "    </tr>\n",
              "    <tr>\n",
              "      <th>ESP</th>\n",
              "      <td>8568</td>\n",
              "      <td>2177.0</td>\n",
              "      <td>0.254085</td>\n",
              "    </tr>\n",
              "    <tr>\n",
              "      <th>DEU</th>\n",
              "      <td>7287</td>\n",
              "      <td>1218.0</td>\n",
              "      <td>0.167147</td>\n",
              "    </tr>\n",
              "    <tr>\n",
              "      <th>ITA</th>\n",
              "      <td>3766</td>\n",
              "      <td>1333.0</td>\n",
              "      <td>0.353956</td>\n",
              "    </tr>\n",
              "    <tr>\n",
              "      <th>IRL</th>\n",
              "      <td>3375</td>\n",
              "      <td>832.0</td>\n",
              "      <td>0.246519</td>\n",
              "    </tr>\n",
              "    <tr>\n",
              "      <th>BEL</th>\n",
              "      <td>2342</td>\n",
              "      <td>474.0</td>\n",
              "      <td>0.202391</td>\n",
              "    </tr>\n",
              "    <tr>\n",
              "      <th>BRA</th>\n",
              "      <td>2224</td>\n",
              "      <td>830.0</td>\n",
              "      <td>0.373201</td>\n",
              "    </tr>\n",
              "    <tr>\n",
              "      <th>NLD</th>\n",
              "      <td>2104</td>\n",
              "      <td>387.0</td>\n",
              "      <td>0.183935</td>\n",
              "    </tr>\n",
              "    <tr>\n",
              "      <th>USA</th>\n",
              "      <td>2097</td>\n",
              "      <td>501.0</td>\n",
              "      <td>0.238913</td>\n",
              "    </tr>\n",
              "    <tr>\n",
              "      <th>CHE</th>\n",
              "      <td>1730</td>\n",
              "      <td>428.0</td>\n",
              "      <td>0.247399</td>\n",
              "    </tr>\n",
              "    <tr>\n",
              "      <th>CN</th>\n",
              "      <td>1279</td>\n",
              "      <td>254.0</td>\n",
              "      <td>0.198593</td>\n",
              "    </tr>\n",
              "    <tr>\n",
              "      <th>AUT</th>\n",
              "      <td>1263</td>\n",
              "      <td>230.0</td>\n",
              "      <td>0.182106</td>\n",
              "    </tr>\n",
              "    <tr>\n",
              "      <th>SWE</th>\n",
              "      <td>1024</td>\n",
              "      <td>227.0</td>\n",
              "      <td>0.221680</td>\n",
              "    </tr>\n",
              "    <tr>\n",
              "      <th>CHN</th>\n",
              "      <td>999</td>\n",
              "      <td>462.0</td>\n",
              "      <td>0.462462</td>\n",
              "    </tr>\n",
              "    <tr>\n",
              "      <th>POL</th>\n",
              "      <td>919</td>\n",
              "      <td>215.0</td>\n",
              "      <td>0.233950</td>\n",
              "    </tr>\n",
              "    <tr>\n",
              "      <th>ISR</th>\n",
              "      <td>669</td>\n",
              "      <td>169.0</td>\n",
              "      <td>0.252616</td>\n",
              "    </tr>\n",
              "    <tr>\n",
              "      <th>RUS</th>\n",
              "      <td>632</td>\n",
              "      <td>239.0</td>\n",
              "      <td>0.378165</td>\n",
              "    </tr>\n",
              "    <tr>\n",
              "      <th>NOR</th>\n",
              "      <td>607</td>\n",
              "      <td>181.0</td>\n",
              "      <td>0.298188</td>\n",
              "    </tr>\n",
              "  </tbody>\n",
              "</table>\n",
              "</div>"
            ],
            "text/plain": [
              "         reservations  cancellations     ratio\n",
              "Country                                       \n",
              "PRT             48590        27519.0  0.566351\n",
              "GBR             12129         2453.0  0.202243\n",
              "FRA             10415         1934.0  0.185694\n",
              "ESP              8568         2177.0  0.254085\n",
              "DEU              7287         1218.0  0.167147\n",
              "ITA              3766         1333.0  0.353956\n",
              "IRL              3375          832.0  0.246519\n",
              "BEL              2342          474.0  0.202391\n",
              "BRA              2224          830.0  0.373201\n",
              "NLD              2104          387.0  0.183935\n",
              "USA              2097          501.0  0.238913\n",
              "CHE              1730          428.0  0.247399\n",
              "CN               1279          254.0  0.198593\n",
              "AUT              1263          230.0  0.182106\n",
              "SWE              1024          227.0  0.221680\n",
              "CHN               999          462.0  0.462462\n",
              "POL               919          215.0  0.233950\n",
              "ISR               669          169.0  0.252616\n",
              "RUS               632          239.0  0.378165\n",
              "NOR               607          181.0  0.298188"
            ]
          },
          "execution_count": 13,
          "metadata": {},
          "output_type": "execute_result"
        }
      ],
      "source": [
        "# calculate the number of total reservations and cancellations for each country\n",
        "\n",
        "country_data = pd.DataFrame({'reservations': country_reservations, 'cancellations': country_cancellations})\n",
        "country_data['ratio'] = country_data['cancellations']/country_data['reservations']\n",
        "\n",
        "country_data.sort_values(by=['reservations', 'ratio'], ascending=False).head(20)"
      ]
    },
    {
      "cell_type": "code",
      "execution_count": null,
      "metadata": {
        "id": "RkdiXBYMwGSM",
        "outputId": "2ae32604-6292-4e46-f115-b3c678829240"
      },
      "outputs": [
        {
          "name": "stderr",
          "output_type": "stream",
          "text": [
            "C:\\Users\\guira\\anaconda3\\Lib\\site-packages\\seaborn\\_oldcore.py:1119: FutureWarning: use_inf_as_na option is deprecated and will be removed in a future version. Convert inf values to NaN before operating instead.\n",
            "  with pd.option_context('mode.use_inf_as_na', True):\n"
          ]
        },
        {
          "data": {
            "image/png": "[encoded data removed]",
            "text/plain": [
              "<Figure size 1200x600 with 1 Axes>"
            ]
          },
          "metadata": {},
          "output_type": "display_data"
        }
      ],
      "source": [
        "# let's see the distribution of the prices per hotel (excluding outliers)\n",
        "\n",
        "plt.figure(figsize=(12, 6))\n",
        "sns.histplot(data=df[(df['ADR'] < 1000) & (df['ADR'] > 0)], x='ADR', hue='hotel', bins=50, multiple='dodge')\n",
        "plt.title('Distribution of prices per hotel')\n",
        "plt.show()"
      ]
    },
    {
      "cell_type": "code",
      "execution_count": null,
      "metadata": {
        "id": "H85qnYBfwGSM",
        "outputId": "2daf2954-211f-48d4-be81-d93ae2eded41"
      },
      "outputs": [
        {
          "name": "stderr",
          "output_type": "stream",
          "text": [
            "C:\\Users\\guira\\anaconda3\\Lib\\site-packages\\seaborn\\_oldcore.py:1119: FutureWarning: use_inf_as_na option is deprecated and will be removed in a future version. Convert inf values to NaN before operating instead.\n",
            "  with pd.option_context('mode.use_inf_as_na', True):\n"
          ]
        },
        {
          "data": {
            "image/png": "[encoded data removed]",
            "text/plain": [
              "<Figure size 1200x600 with 1 Axes>"
            ]
          },
          "metadata": {},
          "output_type": "display_data"
        }
      ],
      "source": [
        "# let's see the distribution of the prices for canceled and non-cancelled reservations (excluding outliers)\n",
        "\n",
        "plt.figure(figsize=(12, 6))\n",
        "sns.histplot(data=df[(df['ADR'] < 1000) & (df['ADR'] > 0)], x='ADR', hue='IsCanceled', bins=50, multiple='dodge')\n",
        "plt.title('Distribution of prices for canceled and non-canceled reservations')\n",
        "plt.show()"
      ]
    },
    {
      "cell_type": "code",
      "execution_count": null,
      "metadata": {
        "id": "_psLmdLawGSN",
        "outputId": "52021814-76e2-454f-fd7f-affe0b431183"
      },
      "outputs": [
        {
          "data": {
            "text/plain": [
              "IsCanceled                       int64\n",
              "LeadTime                         int64\n",
              "ArrivalDateYear                  int64\n",
              "ArrivalDateMonth                object\n",
              "ArrivalDateWeekNumber            int64\n",
              "ArrivalDateDayOfMonth            int64\n",
              "StaysInWeekendNights             int64\n",
              "StaysInWeekNights                int64\n",
              "Adults                           int64\n",
              "Children                       float64\n",
              "Babies                           int64\n",
              "Meal                            object\n",
              "Country                         object\n",
              "MarketSegment                   object\n",
              "DistributionChannel             object\n",
              "IsRepeatedGuest                  int64\n",
              "PreviousCancellations            int64\n",
              "PreviousBookingsNotCanceled      int64\n",
              "ReservedRoomType                object\n",
              "AssignedRoomType                object\n",
              "BookingChanges                   int64\n",
              "DepositType                     object\n",
              "Agent                           object\n",
              "Company                         object\n",
              "DaysInWaitingList                int64\n",
              "CustomerType                    object\n",
              "ADR                            float64\n",
              "RequiredCarParkingSpaces         int64\n",
              "TotalOfSpecialRequests           int64\n",
              "ReservationStatus               object\n",
              "ReservationStatusDate           object\n",
              "hotel                           object\n",
              "dtype: object"
            ]
          },
          "execution_count": 16,
          "metadata": {},
          "output_type": "execute_result"
        }
      ],
      "source": [
        "df.dtypes"
      ]
    },
    {
      "cell_type": "code",
      "execution_count": null,
      "metadata": {
        "id": "cktW_YCYwGSN",
        "outputId": "ea76a0c3-a630-41b4-9dc7-4cfec7b5c0cf"
      },
      "outputs": [
        {
          "data": {
            "image/png": "[encoded data removed]",
            "text/plain": [
              "<Figure size 1200x600 with 1 Axes>"
            ]
          },
          "metadata": {},
          "output_type": "display_data"
        }
      ],
      "source": [
        "# let's see the distribution of the Arrival Month for canceled and non-cancelled reservations per hotel\n",
        "\n",
        "plt.figure(figsize=(12, 6))\n",
        "sns.countplot(data=df, x='ArrivalDateMonth', order=['January', 'February', 'March', 'April', 'May', 'June', 'July', 'August', 'September', 'October', 'November', 'December'])\n",
        "plt.title('Reservations per month')\n",
        "plt.show()"
      ]
    },
    {
      "cell_type": "code",
      "execution_count": null,
      "metadata": {
        "id": "IBV3WR9VwGSN",
        "outputId": "a7443794-5e6f-4684-dea1-94a00f164ada"
      },
      "outputs": [
        {
          "data": {
            "image/png": "[encoded data removed]",
            "text/plain": [
              "<Figure size 1200x600 with 1 Axes>"
            ]
          },
          "metadata": {},
          "output_type": "display_data"
        }
      ],
      "source": [
        "# let's see the distribution of stays (non-cancelled reservations) per hotel over the months\n",
        "\n",
        "plt.figure(figsize=(12, 6))\n",
        "sns.countplot(data=df[df['IsCanceled'] == 0], x='ArrivalDateMonth', hue='hotel', order=['January', 'February', 'March', 'April', 'May', 'June', 'July', 'August', 'September', 'October', 'November', 'December'])\n",
        "plt.title('Number of stays per month pre Hotel')\n",
        "plt.ylim(1500, None) # to better see the differences\n",
        "plt.show()"
      ]
    },
    {
      "cell_type": "markdown",
      "metadata": {
        "id": "gYy5CQirwGSN"
      },
      "source": [
        "**The City Hotel (H2) experiences a surge in guest numbers in the months of the Summer, mainly July and August. The Resort Hotel (H1), also witnesses an increase in guest count in July and August, a period that also aligns with its highest rates. The winter season tends to be the least busy for both establishments.**"
      ]
    },
    {
      "cell_type": "code",
      "execution_count": null,
      "metadata": {
        "id": "l5INIKRIwGSN",
        "outputId": "4b2c67a4-1058-4ac3-bdf2-73bf394ea054"
      },
      "outputs": [
        {
          "data": {
            "image/png": "[encoded data removed]",
            "text/plain": [
              "<Figure size 1200x600 with 1 Axes>"
            ]
          },
          "metadata": {},
          "output_type": "display_data"
        }
      ],
      "source": [
        "# distribution of prices, per hotel, per month\n",
        "\n",
        "plt.figure(figsize=(12, 6))\n",
        "sns.barplot(data=df, x='ArrivalDateMonth', y='ADR', hue='hotel', order=['January', 'February', 'March', 'April', 'May', 'June', 'July', 'August', 'September', 'October', 'November', 'December'])\n",
        "plt.title('Prices per month per Hotel')\n",
        "plt.show()"
      ]
    },
    {
      "cell_type": "markdown",
      "metadata": {
        "id": "vceBrv4zwGSN"
      },
      "source": [
        "Note: The sns.barplot() function in seaborn, by default, estimates the mean (average) of the y variable for each category of the x variable.\n",
        "In this case, it’s computing the average ‘ADR’ (Average Daily Rate) for each month (‘ArrivalDateMonth’) separately for each hotel.\n",
        "So, the height of each bar represents the average rate for that hotel for that month."
      ]
    },
    {
      "cell_type": "markdown",
      "metadata": {
        "id": "m0ocC-6bwGSO"
      },
      "source": [
        "**The graph distinctly illustrates that the rates at the Resort Hotel (H1) significantly escalate during the summer season. On the other hand, the City Hotel’s (H2) prices exhibit less fluctuation.**"
      ]
    },
    {
      "cell_type": "code",
      "execution_count": null,
      "metadata": {
        "id": "mnd-0h4EwGSO",
        "outputId": "2fa64421-76eb-4514-f0f0-816753f68126"
      },
      "outputs": [
        {
          "name": "stderr",
          "output_type": "stream",
          "text": [
            "C:\\Users\\guira\\anaconda3\\Lib\\site-packages\\seaborn\\_oldcore.py:1119: FutureWarning: use_inf_as_na option is deprecated and will be removed in a future version. Convert inf values to NaN before operating instead.\n",
            "  with pd.option_context('mode.use_inf_as_na', True):\n"
          ]
        },
        {
          "data": {
            "image/png": "[encoded data removed]",
            "text/plain": [
              "<Figure size 1200x600 with 1 Axes>"
            ]
          },
          "metadata": {},
          "output_type": "display_data"
        }
      ],
      "source": [
        "# let's see the distribution of the lead time for canceled and non-canceled reservations per hotel\n",
        "\n",
        "plt.figure(figsize=(12, 6))\n",
        "sns.histplot(data=df, x='LeadTime', hue='IsCanceled', bins=50, multiple='dodge')\n",
        "plt.title('Distribution of lead time for canceled and non-canceled reservations')\n",
        "plt.show()"
      ]
    },
    {
      "cell_type": "code",
      "execution_count": null,
      "metadata": {
        "id": "nMQttGzfwGSO",
        "outputId": "aa6a8b02-c19c-48cc-812e-73a05de80b0c"
      },
      "outputs": [
        {
          "data": {
            "image/png": "[encoded data removed]",
            "text/plain": [
              "<Figure size 1200x600 with 1 Axes>"
            ]
          },
          "metadata": {},
          "output_type": "display_data"
        }
      ],
      "source": [
        "# let's plot the number of IsRepeatedGuests if the reservation was canceled\n",
        "plt.figure(figsize=(12, 6))\n",
        "sns.countplot(data=df[df['IsCanceled'] == 1], x='IsRepeatedGuest')\n",
        "plt.title('Number of IsRepeatedGuests for canceled reservations')\n",
        "plt.show()"
      ]
    },
    {
      "cell_type": "markdown",
      "metadata": {
        "id": "Wq9EWPnzwGSO"
      },
      "source": [
        "It's no surprise that the number of repeated guests is very low for canceled reservations, as these guests are more likely to know what to expect from the hotel."
      ]
    },
    {
      "cell_type": "code",
      "execution_count": null,
      "metadata": {
        "id": "HpdjxL4dwGSO",
        "outputId": "82026619-8113-466c-d14f-be16de478c67"
      },
      "outputs": [
        {
          "data": {
            "image/png": "[encoded data removed]",
            "text/plain": [
              "<Figure size 1200x600 with 1 Axes>"
            ]
          },
          "metadata": {},
          "output_type": "display_data"
        }
      ],
      "source": [
        "# let's plot the number of PreviousBooks Canceled if the reservation was canceled\n",
        "\n",
        "plt.figure(figsize=(12, 6))\n",
        "sns.countplot(data=df[df['IsCanceled'] == 1], x='PreviousCancellations')\n",
        "plt.title('Number of PreviousCancellations for canceled reservations')\n",
        "plt.show()"
      ]
    },
    {
      "cell_type": "code",
      "execution_count": null,
      "metadata": {
        "id": "E-fEl8E9wGSO",
        "outputId": "e0bcb064-34cd-43a0-97f9-64cc05f92cc7"
      },
      "outputs": [
        {
          "data": {
            "image/png": "[encoded data removed]",
            "text/plain": [
              "<Figure size 2000x1000 with 2 Axes>"
            ]
          },
          "metadata": {},
          "output_type": "display_data"
        }
      ],
      "source": [
        "plt.figure(figsize = (20, 10))\n",
        "\n",
        "corr = df.corr(numeric_only=True)\n",
        "sns.heatmap(corr, annot = True, linewidths = 1)\n",
        "plt.show()"
      ]
    },
    {
      "cell_type": "code",
      "execution_count": null,
      "metadata": {
        "id": "SjX596i0wGSP",
        "outputId": "8957735b-5818-49d7-981b-13d5a24106aa"
      },
      "outputs": [
        {
          "data": {
            "text/plain": [
              "IsCanceled                     1.000000\n",
              "LeadTime                       0.293123\n",
              "PreviousCancellations          0.110133\n",
              "Adults                         0.060017\n",
              "DaysInWaitingList              0.054186\n",
              "ADR                            0.047557\n",
              "StaysInWeekNights              0.024765\n",
              "ArrivalDateYear                0.016660\n",
              "ArrivalDateWeekNumber          0.008148\n",
              "Children                       0.005048\n",
              "StaysInWeekendNights          -0.001791\n",
              "ArrivalDateDayOfMonth         -0.006130\n",
              "Babies                        -0.032491\n",
              "PreviousBookingsNotCanceled   -0.057358\n",
              "IsRepeatedGuest               -0.084793\n",
              "BookingChanges                -0.144381\n",
              "RequiredCarParkingSpaces      -0.195498\n",
              "TotalOfSpecialRequests        -0.234658\n",
              "Name: IsCanceled, dtype: float64"
            ]
          },
          "execution_count": 24,
          "metadata": {},
          "output_type": "execute_result"
        }
      ],
      "source": [
        "# let's see the correlation of variables with IsCanceled\n",
        "\n",
        "corr['IsCanceled'].sort_values(ascending=False)"
      ]
    },
    {
      "cell_type": "code",
      "execution_count": null,
      "metadata": {
        "id": "Ye9FwZvEwGSP",
        "outputId": "c3565e7b-a322-4699-e468-0e4d77b1b355"
      },
      "outputs": [
        {
          "name": "stdout",
          "output_type": "stream",
          "text": [
            "Number of cancellations: 44220\n"
          ]
        }
      ],
      "source": [
        "number_of_cancellations = df['IsCanceled'].sum()\n",
        "print(f'Number of cancellations: {number_of_cancellations}')"
      ]
    },
    {
      "cell_type": "code",
      "execution_count": null,
      "metadata": {
        "id": "C6MCVC0vwGSP",
        "outputId": "6437d5b1-d116-4819-ea12-707e6f45fa16"
      },
      "outputs": [
        {
          "name": "stdout",
          "output_type": "stream",
          "text": [
            "Number of reservations: 75166\n"
          ]
        }
      ],
      "source": [
        "number_of_reservations = df[df['IsCanceled'] == 0].shape[0]\n",
        "print(f'Number of reservations: {number_of_reservations}')"
      ]
    },
    {
      "cell_type": "markdown",
      "metadata": {
        "id": "bj850GdCI0ZZ"
      },
      "source": [
        "## PHASE 2 - DATA PREPROCESSING"
      ]
    },
    {
      "cell_type": "code",
      "execution_count": null,
      "metadata": {
        "id": "DrB8vWk1wGSY"
      },
      "outputs": [],
      "source": [
        "# Drop rows where the value in the \"Children\" column is null\n",
        "df.dropna(subset=['Children'], inplace=True)"
      ]
    },
    {
      "cell_type": "code",
      "execution_count": null,
      "metadata": {
        "id": "MAzqHENswGSZ"
      },
      "outputs": [],
      "source": [
        "# Dropping columns that are not useful for the predictions\n",
        "useless_col = ['DaysInWaitingList', 'ArrivalDateYear', 'AssignedRoomType', 'BookingChanges',\n",
        "               'ReservationStatus', 'Country']\n",
        "\n",
        "df.drop(useless_col, axis=1, inplace=True)"
      ]
    },
    {
      "cell_type": "markdown",
      "source": [
        "On one hand, regarding analysis, all (or almost all) features could be included in the modelling phase, since it's easy to understand their importance/influence to the causing of churn.\n",
        "However, here our goal is to test a model, based in relatively simple algorithms of classification. And including too many features can cause more harm than good. For that reason, there are some columns we decided to drop before modeling.\n",
        "\n",
        "- Since ReservationStatus shows the last status of the reservation, and we already have the IsCanceled column, this column becomes redundant and can be dropped.\n",
        "\n",
        "- ArrivalDateYear is also redundant, since we have other columns that offer us more concrete information about time, and the year of arriving (when considering the years in analysis), doesn't offer per se, a particular interest in relation with churn.\n",
        "\n",
        "- As seen during EDA, the values from country column are very unbalanced, which could cause problems.  And, although, in a certain degree, the country of origin could influence the rate of cancelation from users., we decided to also drop this column to simplify.\n",
        "\n",
        "- Regarding the variables DaysInWaitingList, AssignedRoomType, and BookingChanges, we reckon their importance for this problem. The number of days a customer is waiting for an answer, the changing for a room type of worst appeal than the one initially desired, or the number of changes made by a customer could influence the decision of churn. But, in the end, we considered other variables to be more important."
      ],
      "metadata": {
        "id": "kVAQmKFswV0X"
      }
    },
    {
      "cell_type": "code",
      "execution_count": null,
      "metadata": {
        "id": "pmC2-25twGSZ",
        "outputId": "aec72379-1a9f-4bc2-d4ac-167faa45dbd8"
      },
      "outputs": [
        {
          "data": {
            "text/plain": [
              "['ArrivalDateMonth',\n",
              " 'Meal',\n",
              " 'MarketSegment',\n",
              " 'DistributionChannel',\n",
              " 'ReservedRoomType',\n",
              " 'DepositType',\n",
              " 'Agent',\n",
              " 'Company',\n",
              " 'CustomerType',\n",
              " 'ReservationStatusDate',\n",
              " 'hotel']"
            ]
          },
          "execution_count": 27,
          "metadata": {},
          "output_type": "execute_result"
        }
      ],
      "source": [
        "# Creating numerical and categorical dataframes\n",
        "cat_cols = [col for col in df.columns if df[col].dtype == 'O']\n",
        "cat_cols"
      ]
    },
    {
      "cell_type": "code",
      "execution_count": null,
      "metadata": {
        "id": "adJt1bYDwGSZ",
        "outputId": "ae2753e7-9737-41f2-f67e-c1f999c32bf4"
      },
      "outputs": [
        {
          "name": "stderr",
          "output_type": "stream",
          "text": [
            "C:\\Users\\guira\\AppData\\Local\\Temp\\ipykernel_22096\\1754077145.py:4: SettingWithCopyWarning: \n",
            "A value is trying to be set on a copy of a slice from a DataFrame\n",
            "\n",
            "See the caveats in the documentation: https://pandas.pydata.org/pandas-docs/stable/user_guide/indexing.html#returning-a-view-versus-a-copy\n",
            "  cat_df.rename(columns={'hotel': 'Hotel'}, inplace=True)\n"
          ]
        },
        {
          "data": {
            "text/html": [
              "<div>\n",
              "<style scoped>\n",
              "    .dataframe tbody tr th:only-of-type {\n",
              "        vertical-align: middle;\n",
              "    }\n",
              "\n",
              "    .dataframe tbody tr th {\n",
              "        vertical-align: top;\n",
              "    }\n",
              "\n",
              "    .dataframe thead th {\n",
              "        text-align: right;\n",
              "    }\n",
              "</style>\n",
              "<table border=\"1\" class=\"dataframe\">\n",
              "  <thead>\n",
              "    <tr style=\"text-align: right;\">\n",
              "      <th></th>\n",
              "      <th>ArrivalDateMonth</th>\n",
              "      <th>Meal</th>\n",
              "      <th>MarketSegment</th>\n",
              "      <th>DistributionChannel</th>\n",
              "      <th>ReservedRoomType</th>\n",
              "      <th>DepositType</th>\n",
              "      <th>Agent</th>\n",
              "      <th>Company</th>\n",
              "      <th>CustomerType</th>\n",
              "      <th>ReservationStatusDate</th>\n",
              "      <th>Hotel</th>\n",
              "    </tr>\n",
              "  </thead>\n",
              "  <tbody>\n",
              "    <tr>\n",
              "      <th>0</th>\n",
              "      <td>July</td>\n",
              "      <td>BB</td>\n",
              "      <td>Direct</td>\n",
              "      <td>Direct</td>\n",
              "      <td>C</td>\n",
              "      <td>No Deposit</td>\n",
              "      <td>NaN</td>\n",
              "      <td>NaN</td>\n",
              "      <td>Transient</td>\n",
              "      <td>2015-07-01</td>\n",
              "      <td>H1</td>\n",
              "    </tr>\n",
              "    <tr>\n",
              "      <th>1</th>\n",
              "      <td>July</td>\n",
              "      <td>BB</td>\n",
              "      <td>Direct</td>\n",
              "      <td>Direct</td>\n",
              "      <td>C</td>\n",
              "      <td>No Deposit</td>\n",
              "      <td>NaN</td>\n",
              "      <td>NaN</td>\n",
              "      <td>Transient</td>\n",
              "      <td>2015-07-01</td>\n",
              "      <td>H1</td>\n",
              "    </tr>\n",
              "    <tr>\n",
              "      <th>2</th>\n",
              "      <td>July</td>\n",
              "      <td>BB</td>\n",
              "      <td>Direct</td>\n",
              "      <td>Direct</td>\n",
              "      <td>A</td>\n",
              "      <td>No Deposit</td>\n",
              "      <td>NaN</td>\n",
              "      <td>NaN</td>\n",
              "      <td>Transient</td>\n",
              "      <td>2015-07-02</td>\n",
              "      <td>H1</td>\n",
              "    </tr>\n",
              "    <tr>\n",
              "      <th>3</th>\n",
              "      <td>July</td>\n",
              "      <td>BB</td>\n",
              "      <td>Corporate</td>\n",
              "      <td>Corporate</td>\n",
              "      <td>A</td>\n",
              "      <td>No Deposit</td>\n",
              "      <td>304</td>\n",
              "      <td>NaN</td>\n",
              "      <td>Transient</td>\n",
              "      <td>2015-07-02</td>\n",
              "      <td>H1</td>\n",
              "    </tr>\n",
              "    <tr>\n",
              "      <th>4</th>\n",
              "      <td>July</td>\n",
              "      <td>BB</td>\n",
              "      <td>Online TA</td>\n",
              "      <td>TA/TO</td>\n",
              "      <td>A</td>\n",
              "      <td>No Deposit</td>\n",
              "      <td>240</td>\n",
              "      <td>NaN</td>\n",
              "      <td>Transient</td>\n",
              "      <td>2015-07-03</td>\n",
              "      <td>H1</td>\n",
              "    </tr>\n",
              "  </tbody>\n",
              "</table>\n",
              "</div>"
            ],
            "text/plain": [
              "  ArrivalDateMonth       Meal MarketSegment DistributionChannel  \\\n",
              "0             July  BB               Direct              Direct   \n",
              "1             July  BB               Direct              Direct   \n",
              "2             July  BB               Direct              Direct   \n",
              "3             July  BB            Corporate           Corporate   \n",
              "4             July  BB            Online TA               TA/TO   \n",
              "\n",
              "   ReservedRoomType      DepositType        Agent Company CustomerType  \\\n",
              "0  C                 No Deposit               NaN     NaN    Transient   \n",
              "1  C                 No Deposit               NaN     NaN    Transient   \n",
              "2  A                 No Deposit               NaN     NaN    Transient   \n",
              "3  A                 No Deposit               304     NaN    Transient   \n",
              "4  A                 No Deposit               240     NaN    Transient   \n",
              "\n",
              "  ReservationStatusDate Hotel  \n",
              "0            2015-07-01    H1  \n",
              "1            2015-07-01    H1  \n",
              "2            2015-07-02    H1  \n",
              "3            2015-07-02    H1  \n",
              "4            2015-07-03    H1  "
            ]
          },
          "execution_count": 28,
          "metadata": {},
          "output_type": "execute_result"
        }
      ],
      "source": [
        "# Select only the categorical columns from the DataFrame 'df' and assign to 'cat_df'\n",
        "cat_df = df[cat_cols]\n",
        "\n",
        "cat_df.rename(columns={'hotel': 'Hotel'}, inplace=True)\n",
        "\n",
        "# Display the first five rows of the newly created 'cat_df' DataFrame\n",
        "cat_df.head()"
      ]
    },
    {
      "cell_type": "code",
      "execution_count": null,
      "metadata": {
        "id": "GO7tyoTmwGSa",
        "outputId": "9a30e4d3-6483-41e9-e209-66428b08005f"
      },
      "outputs": [
        {
          "name": "stderr",
          "output_type": "stream",
          "text": [
            "C:\\Users\\guira\\AppData\\Local\\Temp\\ipykernel_22096\\3788733086.py:2: SettingWithCopyWarning: \n",
            "A value is trying to be set on a copy of a slice from a DataFrame.\n",
            "Try using .loc[row_indexer,col_indexer] = value instead\n",
            "\n",
            "See the caveats in the documentation: https://pandas.pydata.org/pandas-docs/stable/user_guide/indexing.html#returning-a-view-versus-a-copy\n",
            "  cat_df['ReservationStatusDate'] = pd.to_datetime(cat_df['ReservationStatusDate'])\n",
            "C:\\Users\\guira\\AppData\\Local\\Temp\\ipykernel_22096\\3788733086.py:5: SettingWithCopyWarning: \n",
            "A value is trying to be set on a copy of a slice from a DataFrame.\n",
            "Try using .loc[row_indexer,col_indexer] = value instead\n",
            "\n",
            "See the caveats in the documentation: https://pandas.pydata.org/pandas-docs/stable/user_guide/indexing.html#returning-a-view-versus-a-copy\n",
            "  cat_df['Year'] = cat_df['ReservationStatusDate'].dt.year\n",
            "C:\\Users\\guira\\AppData\\Local\\Temp\\ipykernel_22096\\3788733086.py:8: SettingWithCopyWarning: \n",
            "A value is trying to be set on a copy of a slice from a DataFrame.\n",
            "Try using .loc[row_indexer,col_indexer] = value instead\n",
            "\n",
            "See the caveats in the documentation: https://pandas.pydata.org/pandas-docs/stable/user_guide/indexing.html#returning-a-view-versus-a-copy\n",
            "  cat_df['Month'] = cat_df['ReservationStatusDate'].dt.month\n",
            "C:\\Users\\guira\\AppData\\Local\\Temp\\ipykernel_22096\\3788733086.py:11: SettingWithCopyWarning: \n",
            "A value is trying to be set on a copy of a slice from a DataFrame.\n",
            "Try using .loc[row_indexer,col_indexer] = value instead\n",
            "\n",
            "See the caveats in the documentation: https://pandas.pydata.org/pandas-docs/stable/user_guide/indexing.html#returning-a-view-versus-a-copy\n",
            "  cat_df['Day'] = cat_df['ReservationStatusDate'].dt.day\n"
          ]
        }
      ],
      "source": [
        "# Convert the 'reservation_status_date' column to pandas datetime format.\n",
        "cat_df['ReservationStatusDate'] = pd.to_datetime(cat_df['ReservationStatusDate'])\n",
        "\n",
        "# Extract the year from 'reservation_status_date' and create a new column 'year' with this information.\n",
        "cat_df['Year'] = cat_df['ReservationStatusDate'].dt.year\n",
        "\n",
        "# Extract the month from 'reservation_status_date' and create a new column 'month' with this information.\n",
        "cat_df['Month'] = cat_df['ReservationStatusDate'].dt.month\n",
        "\n",
        "# Extract the day from 'reservation_status_date' and create a new column 'day' with this information.\n",
        "cat_df['Day'] = cat_df['ReservationStatusDate'].dt.day"
      ]
    },
    {
      "cell_type": "code",
      "execution_count": null,
      "metadata": {
        "id": "eV4x39u1wGSa",
        "outputId": "f8d440e2-d486-46b3-d5f7-47a7f635c2cc"
      },
      "outputs": [
        {
          "name": "stderr",
          "output_type": "stream",
          "text": [
            "C:\\Users\\guira\\AppData\\Local\\Temp\\ipykernel_22096\\1464942811.py:2: SettingWithCopyWarning: \n",
            "A value is trying to be set on a copy of a slice from a DataFrame\n",
            "\n",
            "See the caveats in the documentation: https://pandas.pydata.org/pandas-docs/stable/user_guide/indexing.html#returning-a-view-versus-a-copy\n",
            "  cat_df.drop(['ReservationStatusDate', 'ArrivalDateMonth'], axis=1, inplace=True)\n"
          ]
        }
      ],
      "source": [
        "# Drop the 'ReservationStatusDate' and 'ArrivalDateMonth' columns from `cat_df` in-place.\n",
        "cat_df.drop(['ReservationStatusDate', 'ArrivalDateMonth'], axis=1, inplace=True)"
      ]
    },
    {
      "cell_type": "code",
      "execution_count": null,
      "metadata": {
        "id": "ILPVKoqhwGSa",
        "outputId": "5da891b2-a316-4ce0-c706-f6e81db5720e"
      },
      "outputs": [
        {
          "data": {
            "text/html": [
              "<div>\n",
              "<style scoped>\n",
              "    .dataframe tbody tr th:only-of-type {\n",
              "        vertical-align: middle;\n",
              "    }\n",
              "\n",
              "    .dataframe tbody tr th {\n",
              "        vertical-align: top;\n",
              "    }\n",
              "\n",
              "    .dataframe thead th {\n",
              "        text-align: right;\n",
              "    }\n",
              "</style>\n",
              "<table border=\"1\" class=\"dataframe\">\n",
              "  <thead>\n",
              "    <tr style=\"text-align: right;\">\n",
              "      <th></th>\n",
              "      <th>Meal</th>\n",
              "      <th>MarketSegment</th>\n",
              "      <th>DistributionChannel</th>\n",
              "      <th>ReservedRoomType</th>\n",
              "      <th>DepositType</th>\n",
              "      <th>Agent</th>\n",
              "      <th>Company</th>\n",
              "      <th>CustomerType</th>\n",
              "      <th>Hotel</th>\n",
              "      <th>Year</th>\n",
              "      <th>Month</th>\n",
              "      <th>Day</th>\n",
              "    </tr>\n",
              "  </thead>\n",
              "  <tbody>\n",
              "    <tr>\n",
              "      <th>0</th>\n",
              "      <td>BB</td>\n",
              "      <td>Direct</td>\n",
              "      <td>Direct</td>\n",
              "      <td>C</td>\n",
              "      <td>No Deposit</td>\n",
              "      <td>NaN</td>\n",
              "      <td>NaN</td>\n",
              "      <td>Transient</td>\n",
              "      <td>H1</td>\n",
              "      <td>2015</td>\n",
              "      <td>7</td>\n",
              "      <td>1</td>\n",
              "    </tr>\n",
              "    <tr>\n",
              "      <th>1</th>\n",
              "      <td>BB</td>\n",
              "      <td>Direct</td>\n",
              "      <td>Direct</td>\n",
              "      <td>C</td>\n",
              "      <td>No Deposit</td>\n",
              "      <td>NaN</td>\n",
              "      <td>NaN</td>\n",
              "      <td>Transient</td>\n",
              "      <td>H1</td>\n",
              "      <td>2015</td>\n",
              "      <td>7</td>\n",
              "      <td>1</td>\n",
              "    </tr>\n",
              "    <tr>\n",
              "      <th>2</th>\n",
              "      <td>BB</td>\n",
              "      <td>Direct</td>\n",
              "      <td>Direct</td>\n",
              "      <td>A</td>\n",
              "      <td>No Deposit</td>\n",
              "      <td>NaN</td>\n",
              "      <td>NaN</td>\n",
              "      <td>Transient</td>\n",
              "      <td>H1</td>\n",
              "      <td>2015</td>\n",
              "      <td>7</td>\n",
              "      <td>2</td>\n",
              "    </tr>\n",
              "    <tr>\n",
              "      <th>3</th>\n",
              "      <td>BB</td>\n",
              "      <td>Corporate</td>\n",
              "      <td>Corporate</td>\n",
              "      <td>A</td>\n",
              "      <td>No Deposit</td>\n",
              "      <td>304</td>\n",
              "      <td>NaN</td>\n",
              "      <td>Transient</td>\n",
              "      <td>H1</td>\n",
              "      <td>2015</td>\n",
              "      <td>7</td>\n",
              "      <td>2</td>\n",
              "    </tr>\n",
              "    <tr>\n",
              "      <th>4</th>\n",
              "      <td>BB</td>\n",
              "      <td>Online TA</td>\n",
              "      <td>TA/TO</td>\n",
              "      <td>A</td>\n",
              "      <td>No Deposit</td>\n",
              "      <td>240</td>\n",
              "      <td>NaN</td>\n",
              "      <td>Transient</td>\n",
              "      <td>H1</td>\n",
              "      <td>2015</td>\n",
              "      <td>7</td>\n",
              "      <td>3</td>\n",
              "    </tr>\n",
              "  </tbody>\n",
              "</table>\n",
              "</div>"
            ],
            "text/plain": [
              "        Meal MarketSegment DistributionChannel  ReservedRoomType  \\\n",
              "0  BB               Direct              Direct  C                  \n",
              "1  BB               Direct              Direct  C                  \n",
              "2  BB               Direct              Direct  A                  \n",
              "3  BB            Corporate           Corporate  A                  \n",
              "4  BB            Online TA               TA/TO  A                  \n",
              "\n",
              "       DepositType        Agent Company CustomerType Hotel  Year  Month  Day  \n",
              "0  No Deposit               NaN     NaN    Transient    H1  2015      7    1  \n",
              "1  No Deposit               NaN     NaN    Transient    H1  2015      7    1  \n",
              "2  No Deposit               NaN     NaN    Transient    H1  2015      7    2  \n",
              "3  No Deposit               304     NaN    Transient    H1  2015      7    2  \n",
              "4  No Deposit               240     NaN    Transient    H1  2015      7    3  "
            ]
          },
          "execution_count": 31,
          "metadata": {},
          "output_type": "execute_result"
        }
      ],
      "source": [
        "# Printing the categories dataframe\n",
        "\n",
        "cat_df.head()"
      ]
    },
    {
      "cell_type": "code",
      "execution_count": null,
      "metadata": {
        "id": "33YqsksrwGSb",
        "outputId": "12084855-844f-4468-d8ba-0417b8479f69"
      },
      "outputs": [
        {
          "name": "stdout",
          "output_type": "stream",
          "text": [
            "Meal: \n",
            "['BB       ' 'FB       ' 'HB       ' 'SC       ' 'Undefined']\n",
            "\n",
            "MarketSegment: \n",
            "['Direct' 'Corporate' 'Online TA' 'Offline TA/TO' 'Complementary' 'Groups'\n",
            " 'Aviation']\n",
            "\n",
            "DistributionChannel: \n",
            "['Direct' 'Corporate' 'TA/TO' 'Undefined' 'GDS']\n",
            "\n",
            "ReservedRoomType: \n",
            "['C               ' 'A               ' 'D               '\n",
            " 'E               ' 'G               ' 'F               '\n",
            " 'H               ' 'L               ' 'P               '\n",
            " 'B               ']\n",
            "\n",
            "DepositType: \n",
            "['No Deposit     ' 'Refundable     ' 'Non Refund     ']\n",
            "\n",
            "Agent: \n",
            "[nan '        304' '        240' '        303' '         15' '        241'\n",
            " '          8' '        250' '        115' '          5' '        175'\n",
            " '        134' '        156' '        243' '        242' '          3'\n",
            " '        105' '         40' '        147' '        306' '        184'\n",
            " '         96' '          2' '        127' '         95' '        146'\n",
            " '          9' '        177' '          6' '        143' '        244'\n",
            " '        149' '        167' '        300' '        171' '        305'\n",
            " '         67' '        196' '        152' '        142' '        261'\n",
            " '        104' '         36' '         26' '         29' '        258'\n",
            " '        110' '         71' '        181' '         88' '        251'\n",
            " '        275' '         69' '        248' '        208' '        256'\n",
            " '        314' '        126' '        281' '        273' '        253'\n",
            " '        185' '        330' '        334' '        328' '        326'\n",
            " '        321' '        324' '        313' '         38' '        155'\n",
            " '         68' '        335' '        308' '        332' '         94'\n",
            " '        348' '        310' '        339' '        375' '         66'\n",
            " '        327' '        387' '        298' '         91' '        245'\n",
            " '        385' '        257' '        393' '        168' '        405'\n",
            " '        249' '        315' '         75' '        128' '        307'\n",
            " '         11' '        436' '          1' '        201' '        183'\n",
            " '        223' '        368' '        336' '        291' '        464'\n",
            " '        411' '        481' '         10' '        154' '        468'\n",
            " '        410' '        390' '        440' '        495' '        492'\n",
            " '        493' '        434' '         57' '        531' '        420'\n",
            " '        483' '        526' '        472' '        429' '         16'\n",
            " '        446' '         34' '         78' '        139' '        252'\n",
            " '        270' '         47' '        114' '        301' '        193'\n",
            " '        182' '        135' '        350' '        195' '        352'\n",
            " '        355' '        159' '        363' '        384' '        360'\n",
            " '        331' '        367' '         64' '        406' '        163'\n",
            " '        414' '        333' '        427' '        431' '        430'\n",
            " '        426' '        438' '        433' '        418' '        441'\n",
            " '        282' '        432' '         72' '        450' '        180'\n",
            " '        454' '        455' '         59' '        451' '        254'\n",
            " '        358' '        469' '        165' '        467' '        510'\n",
            " '        337' '        476' '        502' '        527' '        479'\n",
            " '        508' '        535' '        302' '        497' '        187'\n",
            " '         13' '          7' '         27' '         14' '         22'\n",
            " '         17' '         28' '         42' '         20' '         19'\n",
            " '         45' '         37' '         61' '         39' '         21'\n",
            " '         24' '         41' '         50' '         30' '         54'\n",
            " '         52' '         12' '         44' '         31' '         83'\n",
            " '         32' '         63' '         60' '         55' '         56'\n",
            " '         89' '         87' '        118' '         86' '         85'\n",
            " '        210' '        214' '        129' '        179' '        138'\n",
            " '        174' '        170' '        153' '         93' '        151'\n",
            " '        119' '         35' '        173' '         58' '         53'\n",
            " '        133' '         79' '        235' '        192' '        191'\n",
            " '        236' '        162' '        215' '        157' '        287'\n",
            " '        132' '        234' '         98' '         77' '        103'\n",
            " '        107' '        262' '        220' '        121' '        205'\n",
            " '        378' '         23' '        296' '        290' '        229'\n",
            " '         33' '        286' '        276' '        425' '        484'\n",
            " '        323' '        403' '        219' '        394' '        509'\n",
            " '        111' '        423' '          4' '         70' '         82'\n",
            " '         81' '         74' '         92' '         99' '         90'\n",
            " '        112' '        117' '        106' '        148' '        158'\n",
            " '        144' '        211' '        213' '        216' '        232'\n",
            " '        150' '        267' '        227' '        247' '        278'\n",
            " '        280' '        285' '        289' '        269' '        295'\n",
            " '        265' '        288' '        122' '        294' '        325'\n",
            " '        341' '        344' '        346' '        359' '        283'\n",
            " '        364' '        370' '        371' '         25' '        141'\n",
            " '        391' '        397' '        416' '        404' '        299'\n",
            " '        197' '         73' '        354' '        444' '        408'\n",
            " '        461' '        388' '        453' '        459' '        474'\n",
            " '        475' '        480' '        449']\n",
            "\n",
            "Company: \n",
            "[nan '        110' '        113' '        270' '        178' '        240'\n",
            " '        154' '        144' '        307' '        268' '         59'\n",
            " '        204' '        312' '        318' '         94' '        174'\n",
            " '        274' '        195' '        223' '        317' '        281'\n",
            " '        118' '         53' '        286' '         12' '         47'\n",
            " '        324' '        342' '        373' '        371' '        383'\n",
            " '         86' '         82' '        218' '         88' '         31'\n",
            " '        397' '        392' '        405' '        331' '        367'\n",
            " '         20' '         83' '        416' '         51' '        395'\n",
            " '        102' '         34' '         84' '        360' '        394'\n",
            " '        457' '        382' '        461' '        478' '        386'\n",
            " '        112' '        486' '        421' '          9' '        308'\n",
            " '        135' '        224' '        504' '        269' '        356'\n",
            " '        498' '        390' '        513' '        203' '        263'\n",
            " '        477' '        521' '        169' '        515' '        445'\n",
            " '        337' '        251' '        428' '        292' '        388'\n",
            " '        130' '        250' '        355' '        254' '        543'\n",
            " '        531' '        528' '         62' '        120' '         42'\n",
            " '         81' '        116' '        530' '        103' '         39'\n",
            " '         16' '         92' '         61' '        501' '        165'\n",
            " '        291' '        290' '         43' '        325' '        192'\n",
            " '        108' '        200' '        465' '        287' '        297'\n",
            " '        490' '        482' '        207' '        282' '        437'\n",
            " '        225' '        329' '        272' '         28' '         77'\n",
            " '        338' '         72' '        246' '        319' '        146'\n",
            " '        159' '        380' '        323' '        511' '        407'\n",
            " '        278' '         80' '        403' '        399' '         14'\n",
            " '        137' '        343' '        346' '        347' '        349'\n",
            " '        289' '        351' '        353' '         54' '         99'\n",
            " '        358' '        361' '        362' '        366' '        372'\n",
            " '        365' '        277' '        109' '        377' '        379'\n",
            " '         22' '        378' '        330' '        364' '        401'\n",
            " '        232' '        255' '        384' '        167' '        212'\n",
            " '        514' '        391' '        400' '        376' '        402'\n",
            " '        396' '        302' '        398' '          6' '        370'\n",
            " '        369' '        409' '        168' '        104' '        408'\n",
            " '        413' '        148' '         10' '        333' '        419'\n",
            " '        415' '        424' '        425' '        423' '        422'\n",
            " '        435' '        439' '        442' '        448' '        443'\n",
            " '        454' '        444' '         52' '        459' '        458'\n",
            " '        456' '        460' '        447' '        470' '        466'\n",
            " '        484' '        184' '        485' '         32' '        487'\n",
            " '        491' '        494' '        193' '        516' '        496'\n",
            " '        499' '         29' '         78' '        520' '        507'\n",
            " '        506' '        512' '        126' '         64' '        242'\n",
            " '        518' '        523' '        539' '        534' '        436'\n",
            " '        525' '        541' '         40' '        455' '        410'\n",
            " '         45' '         38' '         49' '         48' '         67'\n",
            " '         68' '         65' '         91' '         37' '          8'\n",
            " '        179' '        209' '        219' '        221' '        227'\n",
            " '        153' '        186' '        253' '        202' '        216'\n",
            " '        275' '        233' '        280' '        309' '        321'\n",
            " '         93' '        316' '         85' '        107' '        350'\n",
            " '        279' '        334' '        348' '        150' '         73'\n",
            " '        385' '        418' '        197' '        450' '        452'\n",
            " '        115' '         46' '         76' '         96' '        100'\n",
            " '        105' '        101' '        122' '         11' '        139'\n",
            " '        142' '        127' '        143' '        140' '        149'\n",
            " '        163' '        160' '        180' '        238' '        183'\n",
            " '        222' '        185' '        217' '        215' '        213'\n",
            " '        237' '        230' '        234' '         35' '        245'\n",
            " '        158' '        258' '        259' '        260' '        411'\n",
            " '        257' '        271' '         18' '        106' '        210'\n",
            " '        273' '         71' '        284' '        301' '        305'\n",
            " '        293' '        264' '        311' '        304' '        313'\n",
            " '        288' '        320' '        314' '        332' '        341'\n",
            " '        352' '        243' '        368' '        393' '        132'\n",
            " '        220' '        412' '        420' '        426' '        417'\n",
            " '        429' '        433' '        446' '        357' '        479'\n",
            " '        483' '        489' '        229' '        481' '        497'\n",
            " '        451' '        492']\n",
            "\n",
            "CustomerType: \n",
            "['Transient' 'Contract' 'Transient-Party' 'Group']\n",
            "\n",
            "Hotel: \n",
            "['H1' 'H2']\n",
            "\n",
            "Year: \n",
            "[2015 2014 2016 2017]\n",
            "\n",
            "Month: \n",
            "[ 7  5  4  6  3  8  9  1 11 10 12  2]\n",
            "\n",
            "Day: \n",
            "[ 1  2  3  6 22 23  5  7  8 11 15 16 29 19 18  9 13  4 12 26 17 10 20 14\n",
            " 30 28 25 21 27 24 31]\n",
            "\n"
          ]
        }
      ],
      "source": [
        "# Printing unique values of each column\n",
        "for col in cat_df.columns:\n",
        "    print(f\"{col}: \\n{cat_df[col].unique()}\\n\")"
      ]
    },
    {
      "cell_type": "code",
      "execution_count": null,
      "metadata": {
        "id": "IV9eJp-PwGSb",
        "outputId": "a6af13f1-2712-49d0-bef8-192228b2d84d"
      },
      "outputs": [
        {
          "name": "stderr",
          "output_type": "stream",
          "text": [
            "C:\\Users\\guira\\AppData\\Local\\Temp\\ipykernel_22096\\2786145529.py:3: SettingWithCopyWarning: \n",
            "A value is trying to be set on a copy of a slice from a DataFrame.\n",
            "Try using .loc[row_indexer,col_indexer] = value instead\n",
            "\n",
            "See the caveats in the documentation: https://pandas.pydata.org/pandas-docs/stable/user_guide/indexing.html#returning-a-view-versus-a-copy\n",
            "  cat_df['Hotel'] = cat_df['Hotel'].map({'H1' : 0, 'H2' : 1})\n",
            "C:\\Users\\guira\\AppData\\Local\\Temp\\ipykernel_22096\\2786145529.py:5: SettingWithCopyWarning: \n",
            "A value is trying to be set on a copy of a slice from a DataFrame.\n",
            "Try using .loc[row_indexer,col_indexer] = value instead\n",
            "\n",
            "See the caveats in the documentation: https://pandas.pydata.org/pandas-docs/stable/user_guide/indexing.html#returning-a-view-versus-a-copy\n",
            "  cat_df['MarketSegment'] = cat_df['MarketSegment'].map({'Direct': 0, 'Corporate': 1, 'Online TA': 2, 'Offline TA/TO': 3,\n",
            "C:\\Users\\guira\\AppData\\Local\\Temp\\ipykernel_22096\\2786145529.py:8: SettingWithCopyWarning: \n",
            "A value is trying to be set on a copy of a slice from a DataFrame.\n",
            "Try using .loc[row_indexer,col_indexer] = value instead\n",
            "\n",
            "See the caveats in the documentation: https://pandas.pydata.org/pandas-docs/stable/user_guide/indexing.html#returning-a-view-versus-a-copy\n",
            "  cat_df['DepositType'] = cat_df['DepositType'].map({'No Deposit     ': 0, 'Refundable     ': 1, 'Non Refund     ': 2})\n",
            "C:\\Users\\guira\\AppData\\Local\\Temp\\ipykernel_22096\\2786145529.py:11: SettingWithCopyWarning: \n",
            "A value is trying to be set on a copy of a slice from a DataFrame.\n",
            "Try using .loc[row_indexer,col_indexer] = value instead\n",
            "\n",
            "See the caveats in the documentation: https://pandas.pydata.org/pandas-docs/stable/user_guide/indexing.html#returning-a-view-versus-a-copy\n",
            "  cat_df['CustomerType'] = cat_df['CustomerType'].map({'Transient': 0, 'Contract': 1, 'Transient-Party': 2, 'Group': 3})\n",
            "C:\\Users\\guira\\AppData\\Local\\Temp\\ipykernel_22096\\2786145529.py:13: SettingWithCopyWarning: \n",
            "A value is trying to be set on a copy of a slice from a DataFrame.\n",
            "Try using .loc[row_indexer,col_indexer] = value instead\n",
            "\n",
            "See the caveats in the documentation: https://pandas.pydata.org/pandas-docs/stable/user_guide/indexing.html#returning-a-view-versus-a-copy\n",
            "  cat_df['Year'] = cat_df['Year'].map({2015: 0, 2014: 1, 2016: 2, 2017: 3})\n"
          ]
        }
      ],
      "source": [
        "# Feature Engineering for categorical variables\n",
        "\n",
        "cat_df['Hotel'] = cat_df['Hotel'].map({'H1' : 0, 'H2' : 1})\n",
        "\n",
        "cat_df['MarketSegment'] = cat_df['MarketSegment'].map({'Direct': 0, 'Corporate': 1, 'Online TA': 2, 'Offline TA/TO': 3,\n",
        "                                                           'Complementary': 4, 'Groups': 5, 'Aviation': 6})\n",
        "\n",
        "cat_df['DepositType'] = cat_df['DepositType'].map({'No Deposit     ': 0, 'Refundable     ': 1, 'Non Refund     ': 2})\n",
        "\n",
        "\n",
        "cat_df['CustomerType'] = cat_df['CustomerType'].map({'Transient': 0, 'Contract': 1, 'Transient-Party': 2, 'Group': 3})\n",
        "\n",
        "cat_df['Year'] = cat_df['Year'].map({2015: 0, 2014: 1, 2016: 2, 2017: 3})"
      ]
    },
    {
      "cell_type": "code",
      "execution_count": null,
      "metadata": {
        "id": "ntNzd58BwGSb",
        "outputId": "a7616c8b-b620-4d1c-9481-7f9be863cfba"
      },
      "outputs": [
        {
          "data": {
            "text/html": [
              "<div>\n",
              "<style scoped>\n",
              "    .dataframe tbody tr th:only-of-type {\n",
              "        vertical-align: middle;\n",
              "    }\n",
              "\n",
              "    .dataframe tbody tr th {\n",
              "        vertical-align: top;\n",
              "    }\n",
              "\n",
              "    .dataframe thead th {\n",
              "        text-align: right;\n",
              "    }\n",
              "</style>\n",
              "<table border=\"1\" class=\"dataframe\">\n",
              "  <thead>\n",
              "    <tr style=\"text-align: right;\">\n",
              "      <th></th>\n",
              "      <th>MarketSegment</th>\n",
              "      <th>DepositType</th>\n",
              "      <th>CustomerType</th>\n",
              "      <th>Hotel</th>\n",
              "      <th>Year</th>\n",
              "    </tr>\n",
              "  </thead>\n",
              "  <tbody>\n",
              "    <tr>\n",
              "      <th>0</th>\n",
              "      <td>0</td>\n",
              "      <td>0</td>\n",
              "      <td>0</td>\n",
              "      <td>0</td>\n",
              "      <td>0</td>\n",
              "    </tr>\n",
              "    <tr>\n",
              "      <th>1</th>\n",
              "      <td>0</td>\n",
              "      <td>0</td>\n",
              "      <td>0</td>\n",
              "      <td>0</td>\n",
              "      <td>0</td>\n",
              "    </tr>\n",
              "    <tr>\n",
              "      <th>2</th>\n",
              "      <td>0</td>\n",
              "      <td>0</td>\n",
              "      <td>0</td>\n",
              "      <td>0</td>\n",
              "      <td>0</td>\n",
              "    </tr>\n",
              "    <tr>\n",
              "      <th>3</th>\n",
              "      <td>1</td>\n",
              "      <td>0</td>\n",
              "      <td>0</td>\n",
              "      <td>0</td>\n",
              "      <td>0</td>\n",
              "    </tr>\n",
              "    <tr>\n",
              "      <th>4</th>\n",
              "      <td>2</td>\n",
              "      <td>0</td>\n",
              "      <td>0</td>\n",
              "      <td>0</td>\n",
              "      <td>0</td>\n",
              "    </tr>\n",
              "    <tr>\n",
              "      <th>...</th>\n",
              "      <td>...</td>\n",
              "      <td>...</td>\n",
              "      <td>...</td>\n",
              "      <td>...</td>\n",
              "      <td>...</td>\n",
              "    </tr>\n",
              "    <tr>\n",
              "      <th>119385</th>\n",
              "      <td>3</td>\n",
              "      <td>0</td>\n",
              "      <td>0</td>\n",
              "      <td>1</td>\n",
              "      <td>3</td>\n",
              "    </tr>\n",
              "    <tr>\n",
              "      <th>119386</th>\n",
              "      <td>2</td>\n",
              "      <td>0</td>\n",
              "      <td>0</td>\n",
              "      <td>1</td>\n",
              "      <td>3</td>\n",
              "    </tr>\n",
              "    <tr>\n",
              "      <th>119387</th>\n",
              "      <td>2</td>\n",
              "      <td>0</td>\n",
              "      <td>0</td>\n",
              "      <td>1</td>\n",
              "      <td>3</td>\n",
              "    </tr>\n",
              "    <tr>\n",
              "      <th>119388</th>\n",
              "      <td>2</td>\n",
              "      <td>0</td>\n",
              "      <td>0</td>\n",
              "      <td>1</td>\n",
              "      <td>3</td>\n",
              "    </tr>\n",
              "    <tr>\n",
              "      <th>119389</th>\n",
              "      <td>2</td>\n",
              "      <td>0</td>\n",
              "      <td>0</td>\n",
              "      <td>1</td>\n",
              "      <td>3</td>\n",
              "    </tr>\n",
              "  </tbody>\n",
              "</table>\n",
              "<p>119386 rows × 5 columns</p>\n",
              "</div>"
            ],
            "text/plain": [
              "        MarketSegment  DepositType  CustomerType  Hotel  Year\n",
              "0                   0            0             0      0     0\n",
              "1                   0            0             0      0     0\n",
              "2                   0            0             0      0     0\n",
              "3                   1            0             0      0     0\n",
              "4                   2            0             0      0     0\n",
              "...               ...          ...           ...    ...   ...\n",
              "119385              3            0             0      1     3\n",
              "119386              2            0             0      1     3\n",
              "119387              2            0             0      1     3\n",
              "119388              2            0             0      1     3\n",
              "119389              2            0             0      1     3\n",
              "\n",
              "[119386 rows x 5 columns]"
            ]
          },
          "execution_count": 34,
          "metadata": {},
          "output_type": "execute_result"
        }
      ],
      "source": [
        "cat_df = cat_df.drop(columns=['Meal', 'DistributionChannel', 'ReservedRoomType', 'Agent', 'Company', 'Month', 'Day'])\n",
        "\n",
        "cat_df"
      ]
    },
    {
      "cell_type": "code",
      "execution_count": null,
      "metadata": {
        "id": "E9Jm3CYYwGSb"
      },
      "outputs": [],
      "source": [
        "# Drop categorical columns (specified in `cat_cols`) from `df` to create a new DataFrame `num_df` that presumably contains only numerical columns.\n",
        "num_df = df.drop(columns=cat_cols, axis=1)\n",
        "\n",
        "# Drop the 'IsCanceled' column from `num_df` in-place, modifying `num_df` directly without needing to assign it to a new variable.\n",
        "num_df.drop('IsCanceled', axis=1, inplace=True)"
      ]
    },
    {
      "cell_type": "code",
      "execution_count": null,
      "metadata": {
        "id": "3VyENhqHwGSc",
        "outputId": "cd87f2d9-cdb6-497e-b868-6b101b9c656e"
      },
      "outputs": [
        {
          "name": "stdout",
          "output_type": "stream",
          "text": [
            "<class 'pandas.core.frame.DataFrame'>\n",
            "Index: 119386 entries, 0 to 119389\n",
            "Data columns (total 14 columns):\n",
            " #   Column                       Non-Null Count   Dtype  \n",
            "---  ------                       --------------   -----  \n",
            " 0   LeadTime                     119386 non-null  int64  \n",
            " 1   ArrivalDateWeekNumber        119386 non-null  int64  \n",
            " 2   ArrivalDateDayOfMonth        119386 non-null  int64  \n",
            " 3   StaysInWeekendNights         119386 non-null  int64  \n",
            " 4   StaysInWeekNights            119386 non-null  int64  \n",
            " 5   Adults                       119386 non-null  int64  \n",
            " 6   Children                     119386 non-null  float64\n",
            " 7   Babies                       119386 non-null  int64  \n",
            " 8   IsRepeatedGuest              119386 non-null  int64  \n",
            " 9   PreviousCancellations        119386 non-null  int64  \n",
            " 10  PreviousBookingsNotCanceled  119386 non-null  int64  \n",
            " 11  ADR                          119386 non-null  float64\n",
            " 12  RequiredCarParkingSpaces     119386 non-null  int64  \n",
            " 13  TotalOfSpecialRequests       119386 non-null  int64  \n",
            "dtypes: float64(2), int64(12)\n",
            "memory usage: 13.7 MB\n"
          ]
        }
      ],
      "source": [
        "num_df.info()"
      ]
    },
    {
      "cell_type": "code",
      "execution_count": null,
      "metadata": {
        "id": "KtPGZwfrwGSc",
        "outputId": "6b9a0f8c-a4a5-4f39-af6d-6a8d1b542e86"
      },
      "outputs": [
        {
          "name": "stderr",
          "output_type": "stream",
          "text": [
            "C:\\Users\\guira\\anaconda3\\Lib\\site-packages\\pandas\\core\\arraylike.py:396: RuntimeWarning: invalid value encountered in log\n",
            "  result = getattr(ufunc, method)(*inputs, **kwargs)\n"
          ]
        }
      ],
      "source": [
        "# Normalizing numerical variables\n",
        "num_df['LeadTime'] = np.log(num_df['LeadTime'] + 1)\n",
        "num_df['ArrivalDateWeekNumber'] = np.log(num_df['ArrivalDateWeekNumber'] + 1)\n",
        "num_df['ArrivalDateDayOfMonth'] = np.log(num_df['ArrivalDateDayOfMonth'] + 1)\n",
        "num_df['ADR'] = np.log(num_df['ADR'] + 1)"
      ]
    },
    {
      "cell_type": "code",
      "execution_count": null,
      "metadata": {
        "id": "9pHPHQfxwGSc",
        "outputId": "2c9b4dcb-e1b1-49db-ceeb-018ca5de2aef"
      },
      "outputs": [
        {
          "data": {
            "text/plain": [
              "LeadTime                       2.591255\n",
              "ArrivalDateWeekNumber          0.441050\n",
              "ArrivalDateDayOfMonth          0.506260\n",
              "StaysInWeekendNights           0.997238\n",
              "StaysInWeekNights              3.641567\n",
              "Adults                         0.335543\n",
              "Children                       0.158851\n",
              "Babies                         0.009494\n",
              "IsRepeatedGuest                0.030895\n",
              "PreviousCancellations          0.712928\n",
              "PreviousBookingsNotCanceled    2.242392\n",
              "ADR                            0.540290\n",
              "RequiredCarParkingSpaces       0.060170\n",
              "TotalOfSpecialRequests         0.628529\n",
              "dtype: float64"
            ]
          },
          "execution_count": 38,
          "metadata": {},
          "output_type": "execute_result"
        }
      ],
      "source": [
        "num_df.var()"
      ]
    },
    {
      "cell_type": "code",
      "execution_count": null,
      "metadata": {
        "id": "Yhyhegk9wGSc"
      },
      "outputs": [],
      "source": [
        "# Fill missing values in 'ADR' column with its mean\n",
        "num_df['ADR'] = num_df['ADR'].fillna(value = num_df['ADR'].mean())"
      ]
    },
    {
      "cell_type": "code",
      "execution_count": null,
      "metadata": {
        "id": "vKRbQOohwGSd",
        "outputId": "0401533e-1006-48de-9272-1b599756f4b1"
      },
      "outputs": [
        {
          "data": {
            "text/html": [
              "<div>\n",
              "<style scoped>\n",
              "    .dataframe tbody tr th:only-of-type {\n",
              "        vertical-align: middle;\n",
              "    }\n",
              "\n",
              "    .dataframe tbody tr th {\n",
              "        vertical-align: top;\n",
              "    }\n",
              "\n",
              "    .dataframe thead th {\n",
              "        text-align: right;\n",
              "    }\n",
              "</style>\n",
              "<table border=\"1\" class=\"dataframe\">\n",
              "  <thead>\n",
              "    <tr style=\"text-align: right;\">\n",
              "      <th></th>\n",
              "      <th>LeadTime</th>\n",
              "      <th>ArrivalDateWeekNumber</th>\n",
              "      <th>ArrivalDateDayOfMonth</th>\n",
              "      <th>StaysInWeekendNights</th>\n",
              "      <th>StaysInWeekNights</th>\n",
              "      <th>Adults</th>\n",
              "      <th>Children</th>\n",
              "      <th>Babies</th>\n",
              "      <th>IsRepeatedGuest</th>\n",
              "      <th>PreviousCancellations</th>\n",
              "      <th>PreviousBookingsNotCanceled</th>\n",
              "      <th>ADR</th>\n",
              "      <th>RequiredCarParkingSpaces</th>\n",
              "      <th>TotalOfSpecialRequests</th>\n",
              "    </tr>\n",
              "  </thead>\n",
              "  <tbody>\n",
              "    <tr>\n",
              "      <th>0</th>\n",
              "      <td>5.837730</td>\n",
              "      <td>3.332205</td>\n",
              "      <td>0.693147</td>\n",
              "      <td>0</td>\n",
              "      <td>0</td>\n",
              "      <td>2</td>\n",
              "      <td>0.0</td>\n",
              "      <td>0</td>\n",
              "      <td>0</td>\n",
              "      <td>0</td>\n",
              "      <td>0</td>\n",
              "      <td>0.000000</td>\n",
              "      <td>0</td>\n",
              "      <td>0</td>\n",
              "    </tr>\n",
              "    <tr>\n",
              "      <th>1</th>\n",
              "      <td>6.603944</td>\n",
              "      <td>3.332205</td>\n",
              "      <td>0.693147</td>\n",
              "      <td>0</td>\n",
              "      <td>0</td>\n",
              "      <td>2</td>\n",
              "      <td>0.0</td>\n",
              "      <td>0</td>\n",
              "      <td>0</td>\n",
              "      <td>0</td>\n",
              "      <td>0</td>\n",
              "      <td>0.000000</td>\n",
              "      <td>0</td>\n",
              "      <td>0</td>\n",
              "    </tr>\n",
              "    <tr>\n",
              "      <th>2</th>\n",
              "      <td>2.079442</td>\n",
              "      <td>3.332205</td>\n",
              "      <td>0.693147</td>\n",
              "      <td>0</td>\n",
              "      <td>1</td>\n",
              "      <td>1</td>\n",
              "      <td>0.0</td>\n",
              "      <td>0</td>\n",
              "      <td>0</td>\n",
              "      <td>0</td>\n",
              "      <td>0</td>\n",
              "      <td>4.330733</td>\n",
              "      <td>0</td>\n",
              "      <td>0</td>\n",
              "    </tr>\n",
              "    <tr>\n",
              "      <th>3</th>\n",
              "      <td>2.639057</td>\n",
              "      <td>3.332205</td>\n",
              "      <td>0.693147</td>\n",
              "      <td>0</td>\n",
              "      <td>1</td>\n",
              "      <td>1</td>\n",
              "      <td>0.0</td>\n",
              "      <td>0</td>\n",
              "      <td>0</td>\n",
              "      <td>0</td>\n",
              "      <td>0</td>\n",
              "      <td>4.330733</td>\n",
              "      <td>0</td>\n",
              "      <td>0</td>\n",
              "    </tr>\n",
              "    <tr>\n",
              "      <th>4</th>\n",
              "      <td>2.708050</td>\n",
              "      <td>3.332205</td>\n",
              "      <td>0.693147</td>\n",
              "      <td>0</td>\n",
              "      <td>2</td>\n",
              "      <td>2</td>\n",
              "      <td>0.0</td>\n",
              "      <td>0</td>\n",
              "      <td>0</td>\n",
              "      <td>0</td>\n",
              "      <td>0</td>\n",
              "      <td>4.595120</td>\n",
              "      <td>0</td>\n",
              "      <td>1</td>\n",
              "    </tr>\n",
              "  </tbody>\n",
              "</table>\n",
              "</div>"
            ],
            "text/plain": [
              "   LeadTime  ArrivalDateWeekNumber  ArrivalDateDayOfMonth  \\\n",
              "0  5.837730               3.332205               0.693147   \n",
              "1  6.603944               3.332205               0.693147   \n",
              "2  2.079442               3.332205               0.693147   \n",
              "3  2.639057               3.332205               0.693147   \n",
              "4  2.708050               3.332205               0.693147   \n",
              "\n",
              "   StaysInWeekendNights  StaysInWeekNights  Adults  Children  Babies  \\\n",
              "0                     0                  0       2       0.0       0   \n",
              "1                     0                  0       2       0.0       0   \n",
              "2                     0                  1       1       0.0       0   \n",
              "3                     0                  1       1       0.0       0   \n",
              "4                     0                  2       2       0.0       0   \n",
              "\n",
              "   IsRepeatedGuest  PreviousCancellations  PreviousBookingsNotCanceled  \\\n",
              "0                0                      0                            0   \n",
              "1                0                      0                            0   \n",
              "2                0                      0                            0   \n",
              "3                0                      0                            0   \n",
              "4                0                      0                            0   \n",
              "\n",
              "        ADR  RequiredCarParkingSpaces  TotalOfSpecialRequests  \n",
              "0  0.000000                         0                       0  \n",
              "1  0.000000                         0                       0  \n",
              "2  4.330733                         0                       0  \n",
              "3  4.330733                         0                       0  \n",
              "4  4.595120                         0                       1  "
            ]
          },
          "execution_count": 40,
          "metadata": {},
          "output_type": "execute_result"
        }
      ],
      "source": [
        "num_df.head()"
      ]
    },
    {
      "cell_type": "code",
      "execution_count": null,
      "metadata": {
        "id": "HIeS-jj7wGSd"
      },
      "outputs": [],
      "source": [
        "X = pd.concat([cat_df, num_df], axis = 1)\n",
        "Y = df['IsCanceled']"
      ]
    },
    {
      "cell_type": "code",
      "execution_count": null,
      "metadata": {
        "id": "cXwbu0A4wGSd",
        "outputId": "055eae0b-9508-4d7c-9162-616c4947583b"
      },
      "outputs": [
        {
          "name": "stdout",
          "output_type": "stream",
          "text": [
            "MarketSegment                  0\n",
            "DepositType                    0\n",
            "CustomerType                   0\n",
            "Hotel                          0\n",
            "Year                           0\n",
            "LeadTime                       0\n",
            "ArrivalDateWeekNumber          0\n",
            "ArrivalDateDayOfMonth          0\n",
            "StaysInWeekendNights           0\n",
            "StaysInWeekNights              0\n",
            "Adults                         0\n",
            "Children                       0\n",
            "Babies                         0\n",
            "IsRepeatedGuest                0\n",
            "PreviousCancellations          0\n",
            "PreviousBookingsNotCanceled    0\n",
            "ADR                            0\n",
            "RequiredCarParkingSpaces       0\n",
            "TotalOfSpecialRequests         0\n",
            "dtype: int64\n"
          ]
        }
      ],
      "source": [
        "print(X.isnull().sum())"
      ]
    },
    {
      "cell_type": "code",
      "execution_count": null,
      "metadata": {
        "id": "z9E__aAOwGSd",
        "outputId": "ec46b244-40c5-4821-b1f7-1836af314a92"
      },
      "outputs": [
        {
          "data": {
            "text/plain": [
              "((119386, 19), (119386,))"
            ]
          },
          "execution_count": 43,
          "metadata": {},
          "output_type": "execute_result"
        }
      ],
      "source": [
        "X.shape, Y.shape"
      ]
    },
    {
      "cell_type": "code",
      "execution_count": null,
      "metadata": {
        "id": "b7Y-n_zlwGSe"
      },
      "outputs": [],
      "source": [
        "# Splitting data into training set and test set\n",
        "from sklearn.model_selection import train_test_split\n",
        "X_train, X_test, Y_train, Y_test = train_test_split(X, Y, test_size=0.3, random_state=42)"
      ]
    },
    {
      "cell_type": "code",
      "execution_count": null,
      "metadata": {
        "id": "TYoDVX9IwGSe",
        "outputId": "067757b9-df5b-488d-a006-08ea321dfbe5"
      },
      "outputs": [
        {
          "data": {
            "text/html": [
              "<div>\n",
              "<style scoped>\n",
              "    .dataframe tbody tr th:only-of-type {\n",
              "        vertical-align: middle;\n",
              "    }\n",
              "\n",
              "    .dataframe tbody tr th {\n",
              "        vertical-align: top;\n",
              "    }\n",
              "\n",
              "    .dataframe thead th {\n",
              "        text-align: right;\n",
              "    }\n",
              "</style>\n",
              "<table border=\"1\" class=\"dataframe\">\n",
              "  <thead>\n",
              "    <tr style=\"text-align: right;\">\n",
              "      <th></th>\n",
              "      <th>MarketSegment</th>\n",
              "      <th>DepositType</th>\n",
              "      <th>CustomerType</th>\n",
              "      <th>Hotel</th>\n",
              "      <th>Year</th>\n",
              "      <th>LeadTime</th>\n",
              "      <th>ArrivalDateWeekNumber</th>\n",
              "      <th>ArrivalDateDayOfMonth</th>\n",
              "      <th>StaysInWeekendNights</th>\n",
              "      <th>StaysInWeekNights</th>\n",
              "      <th>Adults</th>\n",
              "      <th>Children</th>\n",
              "      <th>Babies</th>\n",
              "      <th>IsRepeatedGuest</th>\n",
              "      <th>PreviousCancellations</th>\n",
              "      <th>PreviousBookingsNotCanceled</th>\n",
              "      <th>ADR</th>\n",
              "      <th>RequiredCarParkingSpaces</th>\n",
              "      <th>TotalOfSpecialRequests</th>\n",
              "    </tr>\n",
              "  </thead>\n",
              "  <tbody>\n",
              "    <tr>\n",
              "      <th>46467</th>\n",
              "      <td>3</td>\n",
              "      <td>2</td>\n",
              "      <td>0</td>\n",
              "      <td>1</td>\n",
              "      <td>0</td>\n",
              "      <td>5.017280</td>\n",
              "      <td>0.693147</td>\n",
              "      <td>1.098612</td>\n",
              "      <td>2</td>\n",
              "      <td>1</td>\n",
              "      <td>2</td>\n",
              "      <td>0.0</td>\n",
              "      <td>0</td>\n",
              "      <td>0</td>\n",
              "      <td>0</td>\n",
              "      <td>0</td>\n",
              "      <td>4.624973</td>\n",
              "      <td>0</td>\n",
              "      <td>0</td>\n",
              "    </tr>\n",
              "    <tr>\n",
              "      <th>9710</th>\n",
              "      <td>2</td>\n",
              "      <td>0</td>\n",
              "      <td>0</td>\n",
              "      <td>0</td>\n",
              "      <td>2</td>\n",
              "      <td>4.812184</td>\n",
              "      <td>3.988984</td>\n",
              "      <td>3.332205</td>\n",
              "      <td>0</td>\n",
              "      <td>4</td>\n",
              "      <td>2</td>\n",
              "      <td>0.0</td>\n",
              "      <td>0</td>\n",
              "      <td>0</td>\n",
              "      <td>0</td>\n",
              "      <td>0</td>\n",
              "      <td>4.327438</td>\n",
              "      <td>0</td>\n",
              "      <td>2</td>\n",
              "    </tr>\n",
              "    <tr>\n",
              "      <th>40307</th>\n",
              "      <td>5</td>\n",
              "      <td>0</td>\n",
              "      <td>2</td>\n",
              "      <td>1</td>\n",
              "      <td>0</td>\n",
              "      <td>3.044522</td>\n",
              "      <td>3.433987</td>\n",
              "      <td>3.135494</td>\n",
              "      <td>0</td>\n",
              "      <td>2</td>\n",
              "      <td>2</td>\n",
              "      <td>0.0</td>\n",
              "      <td>0</td>\n",
              "      <td>0</td>\n",
              "      <td>0</td>\n",
              "      <td>0</td>\n",
              "      <td>4.143135</td>\n",
              "      <td>0</td>\n",
              "      <td>0</td>\n",
              "    </tr>\n",
              "    <tr>\n",
              "      <th>68079</th>\n",
              "      <td>2</td>\n",
              "      <td>0</td>\n",
              "      <td>0</td>\n",
              "      <td>1</td>\n",
              "      <td>3</td>\n",
              "      <td>4.488636</td>\n",
              "      <td>2.995732</td>\n",
              "      <td>2.564949</td>\n",
              "      <td>1</td>\n",
              "      <td>2</td>\n",
              "      <td>3</td>\n",
              "      <td>0.0</td>\n",
              "      <td>0</td>\n",
              "      <td>0</td>\n",
              "      <td>0</td>\n",
              "      <td>0</td>\n",
              "      <td>5.214936</td>\n",
              "      <td>0</td>\n",
              "      <td>0</td>\n",
              "    </tr>\n",
              "    <tr>\n",
              "      <th>22999</th>\n",
              "      <td>2</td>\n",
              "      <td>0</td>\n",
              "      <td>0</td>\n",
              "      <td>0</td>\n",
              "      <td>3</td>\n",
              "      <td>0.000000</td>\n",
              "      <td>1.791759</td>\n",
              "      <td>1.098612</td>\n",
              "      <td>0</td>\n",
              "      <td>1</td>\n",
              "      <td>1</td>\n",
              "      <td>0.0</td>\n",
              "      <td>0</td>\n",
              "      <td>1</td>\n",
              "      <td>0</td>\n",
              "      <td>1</td>\n",
              "      <td>3.784190</td>\n",
              "      <td>0</td>\n",
              "      <td>1</td>\n",
              "    </tr>\n",
              "  </tbody>\n",
              "</table>\n",
              "</div>"
            ],
            "text/plain": [
              "       MarketSegment  DepositType  CustomerType  Hotel  Year  LeadTime  \\\n",
              "46467              3            2             0      1     0  5.017280   \n",
              "9710               2            0             0      0     2  4.812184   \n",
              "40307              5            0             2      1     0  3.044522   \n",
              "68079              2            0             0      1     3  4.488636   \n",
              "22999              2            0             0      0     3  0.000000   \n",
              "\n",
              "       ArrivalDateWeekNumber  ArrivalDateDayOfMonth  StaysInWeekendNights  \\\n",
              "46467               0.693147               1.098612                     2   \n",
              "9710                3.988984               3.332205                     0   \n",
              "40307               3.433987               3.135494                     0   \n",
              "68079               2.995732               2.564949                     1   \n",
              "22999               1.791759               1.098612                     0   \n",
              "\n",
              "       StaysInWeekNights  Adults  Children  Babies  IsRepeatedGuest  \\\n",
              "46467                  1       2       0.0       0                0   \n",
              "9710                   4       2       0.0       0                0   \n",
              "40307                  2       2       0.0       0                0   \n",
              "68079                  2       3       0.0       0                0   \n",
              "22999                  1       1       0.0       0                1   \n",
              "\n",
              "       PreviousCancellations  PreviousBookingsNotCanceled       ADR  \\\n",
              "46467                      0                            0  4.624973   \n",
              "9710                       0                            0  4.327438   \n",
              "40307                      0                            0  4.143135   \n",
              "68079                      0                            0  5.214936   \n",
              "22999                      0                            1  3.784190   \n",
              "\n",
              "       RequiredCarParkingSpaces  TotalOfSpecialRequests  \n",
              "46467                         0                       0  \n",
              "9710                          0                       2  \n",
              "40307                         0                       0  \n",
              "68079                         0                       0  \n",
              "22999                         0                       1  "
            ]
          },
          "execution_count": 46,
          "metadata": {},
          "output_type": "execute_result"
        }
      ],
      "source": [
        "X_train.head()"
      ]
    },
    {
      "cell_type": "code",
      "execution_count": null,
      "metadata": {
        "id": "mSV2Pi8_wGSe",
        "outputId": "6e2d8b30-476d-43f1-8ac4-7a70e499c798"
      },
      "outputs": [
        {
          "data": {
            "text/html": [
              "<div>\n",
              "<style scoped>\n",
              "    .dataframe tbody tr th:only-of-type {\n",
              "        vertical-align: middle;\n",
              "    }\n",
              "\n",
              "    .dataframe tbody tr th {\n",
              "        vertical-align: top;\n",
              "    }\n",
              "\n",
              "    .dataframe thead th {\n",
              "        text-align: right;\n",
              "    }\n",
              "</style>\n",
              "<table border=\"1\" class=\"dataframe\">\n",
              "  <thead>\n",
              "    <tr style=\"text-align: right;\">\n",
              "      <th></th>\n",
              "      <th>MarketSegment</th>\n",
              "      <th>DepositType</th>\n",
              "      <th>CustomerType</th>\n",
              "      <th>Hotel</th>\n",
              "      <th>Year</th>\n",
              "      <th>LeadTime</th>\n",
              "      <th>ArrivalDateWeekNumber</th>\n",
              "      <th>ArrivalDateDayOfMonth</th>\n",
              "      <th>StaysInWeekendNights</th>\n",
              "      <th>StaysInWeekNights</th>\n",
              "      <th>Adults</th>\n",
              "      <th>Children</th>\n",
              "      <th>Babies</th>\n",
              "      <th>IsRepeatedGuest</th>\n",
              "      <th>PreviousCancellations</th>\n",
              "      <th>PreviousBookingsNotCanceled</th>\n",
              "      <th>ADR</th>\n",
              "      <th>RequiredCarParkingSpaces</th>\n",
              "      <th>TotalOfSpecialRequests</th>\n",
              "    </tr>\n",
              "  </thead>\n",
              "  <tbody>\n",
              "    <tr>\n",
              "      <th>30946</th>\n",
              "      <td>0</td>\n",
              "      <td>0</td>\n",
              "      <td>0</td>\n",
              "      <td>0</td>\n",
              "      <td>2</td>\n",
              "      <td>5.318120</td>\n",
              "      <td>3.912023</td>\n",
              "      <td>1.098612</td>\n",
              "      <td>2</td>\n",
              "      <td>5</td>\n",
              "      <td>2</td>\n",
              "      <td>0.0</td>\n",
              "      <td>0</td>\n",
              "      <td>0</td>\n",
              "      <td>0</td>\n",
              "      <td>0</td>\n",
              "      <td>4.216562</td>\n",
              "      <td>0</td>\n",
              "      <td>0</td>\n",
              "    </tr>\n",
              "    <tr>\n",
              "      <th>40207</th>\n",
              "      <td>2</td>\n",
              "      <td>0</td>\n",
              "      <td>0</td>\n",
              "      <td>1</td>\n",
              "      <td>0</td>\n",
              "      <td>4.418841</td>\n",
              "      <td>3.401197</td>\n",
              "      <td>2.833213</td>\n",
              "      <td>0</td>\n",
              "      <td>3</td>\n",
              "      <td>2</td>\n",
              "      <td>0.0</td>\n",
              "      <td>0</td>\n",
              "      <td>0</td>\n",
              "      <td>0</td>\n",
              "      <td>0</td>\n",
              "      <td>4.350278</td>\n",
              "      <td>0</td>\n",
              "      <td>0</td>\n",
              "    </tr>\n",
              "    <tr>\n",
              "      <th>110028</th>\n",
              "      <td>2</td>\n",
              "      <td>0</td>\n",
              "      <td>0</td>\n",
              "      <td>1</td>\n",
              "      <td>3</td>\n",
              "      <td>4.812184</td>\n",
              "      <td>2.772589</td>\n",
              "      <td>2.708050</td>\n",
              "      <td>2</td>\n",
              "      <td>5</td>\n",
              "      <td>2</td>\n",
              "      <td>0.0</td>\n",
              "      <td>0</td>\n",
              "      <td>0</td>\n",
              "      <td>0</td>\n",
              "      <td>0</td>\n",
              "      <td>4.792230</td>\n",
              "      <td>0</td>\n",
              "      <td>2</td>\n",
              "    </tr>\n",
              "    <tr>\n",
              "      <th>67743</th>\n",
              "      <td>5</td>\n",
              "      <td>2</td>\n",
              "      <td>0</td>\n",
              "      <td>1</td>\n",
              "      <td>2</td>\n",
              "      <td>5.093750</td>\n",
              "      <td>2.944439</td>\n",
              "      <td>1.945910</td>\n",
              "      <td>2</td>\n",
              "      <td>1</td>\n",
              "      <td>1</td>\n",
              "      <td>0.0</td>\n",
              "      <td>0</td>\n",
              "      <td>0</td>\n",
              "      <td>0</td>\n",
              "      <td>0</td>\n",
              "      <td>4.394449</td>\n",
              "      <td>0</td>\n",
              "      <td>0</td>\n",
              "    </tr>\n",
              "    <tr>\n",
              "      <th>109993</th>\n",
              "      <td>2</td>\n",
              "      <td>0</td>\n",
              "      <td>0</td>\n",
              "      <td>1</td>\n",
              "      <td>3</td>\n",
              "      <td>4.262680</td>\n",
              "      <td>2.833213</td>\n",
              "      <td>2.833213</td>\n",
              "      <td>2</td>\n",
              "      <td>2</td>\n",
              "      <td>2</td>\n",
              "      <td>0.0</td>\n",
              "      <td>0</td>\n",
              "      <td>0</td>\n",
              "      <td>0</td>\n",
              "      <td>0</td>\n",
              "      <td>4.691348</td>\n",
              "      <td>0</td>\n",
              "      <td>0</td>\n",
              "    </tr>\n",
              "  </tbody>\n",
              "</table>\n",
              "</div>"
            ],
            "text/plain": [
              "        MarketSegment  DepositType  CustomerType  Hotel  Year  LeadTime  \\\n",
              "30946               0            0             0      0     2  5.318120   \n",
              "40207               2            0             0      1     0  4.418841   \n",
              "110028              2            0             0      1     3  4.812184   \n",
              "67743               5            2             0      1     2  5.093750   \n",
              "109993              2            0             0      1     3  4.262680   \n",
              "\n",
              "        ArrivalDateWeekNumber  ArrivalDateDayOfMonth  StaysInWeekendNights  \\\n",
              "30946                3.912023               1.098612                     2   \n",
              "40207                3.401197               2.833213                     0   \n",
              "110028               2.772589               2.708050                     2   \n",
              "67743                2.944439               1.945910                     2   \n",
              "109993               2.833213               2.833213                     2   \n",
              "\n",
              "        StaysInWeekNights  Adults  Children  Babies  IsRepeatedGuest  \\\n",
              "30946                   5       2       0.0       0                0   \n",
              "40207                   3       2       0.0       0                0   \n",
              "110028                  5       2       0.0       0                0   \n",
              "67743                   1       1       0.0       0                0   \n",
              "109993                  2       2       0.0       0                0   \n",
              "\n",
              "        PreviousCancellations  PreviousBookingsNotCanceled       ADR  \\\n",
              "30946                       0                            0  4.216562   \n",
              "40207                       0                            0  4.350278   \n",
              "110028                      0                            0  4.792230   \n",
              "67743                       0                            0  4.394449   \n",
              "109993                      0                            0  4.691348   \n",
              "\n",
              "        RequiredCarParkingSpaces  TotalOfSpecialRequests  \n",
              "30946                          0                       0  \n",
              "40207                          0                       0  \n",
              "110028                         0                       2  \n",
              "67743                          0                       0  \n",
              "109993                         0                       0  "
            ]
          },
          "execution_count": 47,
          "metadata": {},
          "output_type": "execute_result"
        }
      ],
      "source": [
        "X_test.head()"
      ]
    },
    {
      "cell_type": "code",
      "execution_count": null,
      "metadata": {
        "id": "FbqXLxTVwGSe",
        "outputId": "8537e299-934d-4f83-9d94-6fe41a4b30e6"
      },
      "outputs": [
        {
          "data": {
            "text/plain": [
              "46467    1\n",
              "9710     1\n",
              "40307    1\n",
              "68079    1\n",
              "22999    0\n",
              "Name: IsCanceled, dtype: int64"
            ]
          },
          "execution_count": 48,
          "metadata": {},
          "output_type": "execute_result"
        }
      ],
      "source": [
        "Y_train.head()"
      ]
    },
    {
      "cell_type": "code",
      "execution_count": null,
      "metadata": {
        "id": "yPSx14ZAwGSf",
        "outputId": "16f253f4-beed-45df-b51f-b00b674074c7"
      },
      "outputs": [
        {
          "data": {
            "text/plain": [
              "30946     0\n",
              "40207     1\n",
              "110028    0\n",
              "67743     1\n",
              "109993    0\n",
              "Name: IsCanceled, dtype: int64"
            ]
          },
          "execution_count": 49,
          "metadata": {},
          "output_type": "execute_result"
        }
      ],
      "source": [
        "Y_test.head()"
      ]
    },
    {
      "cell_type": "markdown",
      "metadata": {
        "id": "RZ7NNgRHwGSf"
      },
      "source": [
        "## PHASE 3 - MODELLING (CONSTRUCTION OF THE PREDICTIVE MODELS)"
      ]
    },
    {
      "cell_type": "markdown",
      "metadata": {
        "id": "9fnlfdEjwGSf"
      },
      "source": [
        "### Model Selection:\n",
        "Once the target variable is binary (canceled or not canceled), this is a classification problem. We will start with a simple model like Logistic Regression to establish a baseline performance."
      ]
    },
    {
      "cell_type": "code",
      "execution_count": null,
      "metadata": {
        "id": "-2q1HEWNI2R6",
        "outputId": "9ff51d94-8057-4204-8437-ba45e9f5c7b5"
      },
      "outputs": [
        {
          "name": "stdout",
          "output_type": "stream",
          "text": [
            "Accuracy: 0.7852356488720125\n",
            "ROC-AUC Score: 0.7340961865002138\n",
            "F1 Score: 0.6492476060191519\n"
          ]
        }
      ],
      "source": [
        "from sklearn.linear_model import LogisticRegression\n",
        "from sklearn.metrics import accuracy_score, roc_auc_score, f1_score\n",
        "\n",
        "# Initialize the model\n",
        "model = LogisticRegression(max_iter=1000)\n",
        "\n",
        "# Train the model\n",
        "model.fit(X_train, Y_train)\n",
        "\n",
        "# Predict on the test set\n",
        "Y_pred = model.predict(X_test)\n",
        "\n",
        "# Evaluate the model\n",
        "accuracy = accuracy_score(Y_test, Y_pred)\n",
        "roc_auc = roc_auc_score(Y_test, Y_pred)\n",
        "f1 = f1_score(Y_test, Y_pred)\n",
        "\n",
        "print(f\"Accuracy: {accuracy}\")\n",
        "print(f\"ROC-AUC Score: {roc_auc}\")\n",
        "print(f\"F1 Score: {f1}\")"
      ]
    },
    {
      "cell_type": "markdown",
      "metadata": {
        "id": "YUuyMFt0wGSg"
      },
      "source": [
        "The accuracy score suggests that approximately 79% of the predictions match the actual labels and the 0.73 ROC-AUC Score suggests that our model has a good ability to distinguish between the classes(canceled vs not canceled). This ROC-AUC score ranges from 0.5 (no discrimination ability) to 1 (perfect discrimination ability). Lastly, the F1 score, which balances precision and recall, is 0.65 approximately. This is a solid score, especially considering that it's our model's initial performance.\n",
        "\n",
        "\n",
        "These results are a solid starting point, especially considering the simplicity and interpretability of Logistic Regression."
      ]
    },
    {
      "cell_type": "code",
      "execution_count": null,
      "metadata": {
        "id": "e63hGANfI3EF",
        "outputId": "75fa3334-3cae-4e73-90a1-0db480fe2546"
      },
      "outputs": [
        {
          "name": "stdout",
          "output_type": "stream",
          "text": [
            "Random Forest Accuracy: 0.8671264239446058\n",
            "Random Forest ROC-AUC Score: 0.8448153407574344\n",
            "Random Forest F1 Score: 0.8092814491243537\n"
          ]
        }
      ],
      "source": [
        "from sklearn.ensemble import RandomForestClassifier\n",
        "from sklearn.metrics import accuracy_score, roc_auc_score, f1_score\n",
        "\n",
        "# Initialize the Random Forest Classifier\n",
        "rf_model = RandomForestClassifier(n_estimators=100, random_state=42)\n",
        "\n",
        "# Train the model on the training data\n",
        "rf_model.fit(X_train, Y_train)\n",
        "\n",
        "# Predict on the test data\n",
        "Y_pred_rf = rf_model.predict(X_test)\n",
        "\n",
        "# Evaluate the model\n",
        "accuracy_rf = accuracy_score(Y_test, Y_pred_rf)\n",
        "roc_auc_rf = roc_auc_score(Y_test, Y_pred_rf)\n",
        "f1_rf = f1_score(Y_test, Y_pred_rf)\n",
        "\n",
        "print(f\"Random Forest Accuracy: {accuracy_rf}\")\n",
        "print(f\"Random Forest ROC-AUC Score: {roc_auc_rf}\")\n",
        "print(f\"Random Forest F1 Score: {f1_rf}\")"
      ]
    },
    {
      "cell_type": "markdown",
      "metadata": {
        "id": "fgd9CYqVwGSg"
      },
      "source": [
        "**These results from the Random Forest model indicate a significant improvement over the initial simpler model. With an accuracy of approximately 87%, the model is quite adept at predicting booking cancellations, correctly classifying bookings around 87% of the time. The ROC-AUC score of 0.85 further demonstrates the model's strong capability to differentiate between canceled and not canceled bookings. Additionally, the F1 score of 0.81 is a robust indicator that the model maintains a good balance between precision and recall, which is crucial for a classification task where both false positives and false negatives carry significant implications.**"
      ]
    },
    {
      "cell_type": "code",
      "execution_count": null,
      "metadata": {
        "id": "xcj6o_fgI3nZ",
        "outputId": "47cfe28d-6867-423a-ae42-ce5d8741fe47"
      },
      "outputs": [
        {
          "name": "stdout",
          "output_type": "stream",
          "text": [
            "Best Parameters: {'max_depth': None, 'min_samples_leaf': 1, 'min_samples_split': 2, 'n_estimators': 200}\n",
            "Best Score: 0.8652387220294365\n"
          ]
        }
      ],
      "source": [
        "from sklearn.model_selection import GridSearchCV\n",
        "from sklearn.ensemble import RandomForestClassifier\n",
        "\n",
        "# Define the parameter grid\n",
        "param_grid = {\n",
        "    'n_estimators': [100, 200],\n",
        "    'max_depth': [10, 20, None],\n",
        "    'min_samples_split': [2, 5],\n",
        "    'min_samples_leaf': [1, 2],\n",
        "}\n",
        "\n",
        "# Initialize the model\n",
        "rf = RandomForestClassifier(random_state=42)\n",
        "\n",
        "# Initialize GridSearchCV\n",
        "grid_search = GridSearchCV(estimator=rf, param_grid=param_grid, cv=5, scoring='accuracy', n_jobs=-1)\n",
        "\n",
        "# Fit GridSearchCV\n",
        "grid_search.fit(X_train, Y_train)\n",
        "\n",
        "# Best parameters and score\n",
        "print(\"Best Parameters:\", grid_search.best_params_)\n",
        "print(\"Best Score:\", grid_search.best_score_)\n",
        "\n",
        "# Use the best estimator for further predictions\n",
        "best_rf = grid_search.best_estimator_"
      ]
    },
    {
      "cell_type": "markdown",
      "metadata": {
        "id": "sgcgPMKVwGSh"
      },
      "source": [
        "**Let's apply these features and optimize the Random Forest model**"
      ]
    },
    {
      "cell_type": "code",
      "execution_count": null,
      "metadata": {
        "id": "fV7N5S86I35J",
        "outputId": "d6490e88-e11b-457f-aa17-8822f3c9af86"
      },
      "outputs": [
        {
          "name": "stdout",
          "output_type": "stream",
          "text": [
            "Optimized Random Forest Accuracy: 0.8672939468394014\n",
            "Optimized Random Forest ROC-AUC Score: 0.8451626781982804\n",
            "Optimized Random Forest F1 Score: 0.8096896896896898\n"
          ]
        }
      ],
      "source": [
        "from sklearn.metrics import accuracy_score, roc_auc_score, f1_score\n",
        "\n",
        "# Initialize the optimized Random Forest model\n",
        "optimized_rf = RandomForestClassifier(max_depth=None, min_samples_leaf=1, min_samples_split=2, n_estimators=200, random_state=42)\n",
        "\n",
        "# Train the model on the training data\n",
        "optimized_rf.fit(X_train, Y_train)\n",
        "\n",
        "# Make predictions on the test data\n",
        "Y_pred_opt = optimized_rf.predict(X_test)\n",
        "\n",
        "# Evaluate the optimized model\n",
        "accuracy_opt = accuracy_score(Y_test, Y_pred_opt)\n",
        "roc_auc_opt = roc_auc_score(Y_test, Y_pred_opt)\n",
        "f1_opt = f1_score(Y_test, Y_pred_opt)\n",
        "\n",
        "print(f\"Optimized Random Forest Accuracy: {accuracy_opt}\")\n",
        "print(f\"Optimized Random Forest ROC-AUC Score: {roc_auc_opt}\")\n",
        "print(f\"Optimized Random Forest F1 Score: {f1_opt}\")"
      ]
    },
    {
      "cell_type": "markdown",
      "metadata": {
        "id": "tkLeCxQJwGSi"
      },
      "source": [
        "These improvements through hyperparameter tuning are modest, but in real-world data even small increments in model performance metrics can be valuable, especially when applied at scale."
      ]
    },
    {
      "cell_type": "code",
      "execution_count": null,
      "metadata": {
        "id": "KCp1LLz8wGSi",
        "outputId": "dd04e11b-060a-4bdb-aa80-876c11aec10a"
      },
      "outputs": [
        {
          "name": "stdout",
          "output_type": "stream",
          "text": [
            "XGBoost Accuracy: 0.8464094259548804\n",
            "XGBoost ROC-AUC Score: 0.8181405566495542\n",
            "XGBoost F1 Score: 0.7742067889832943\n"
          ]
        }
      ],
      "source": [
        "import xgboost as xgb\n",
        "\n",
        "# Initialize an XGBoost classifier\n",
        "xgb_model = xgb.XGBClassifier(objective='binary:logistic', eval_metric='logloss', use_label_encoder=False, seed=42)\n",
        "\n",
        "# Train the model on the training data\n",
        "xgb_model.fit(X_train, Y_train)\n",
        "\n",
        "# Predict on the test set\n",
        "Y_pred_xgb = xgb_model.predict(X_test)\n",
        "\n",
        "# Evaluate the XGBoost model\n",
        "accuracy_xgb = accuracy_score(Y_test, Y_pred_xgb)\n",
        "roc_auc_xgb = roc_auc_score(Y_test, Y_pred_xgb)\n",
        "f1_xgb = f1_score(Y_test, Y_pred_xgb)\n",
        "\n",
        "print(f\"XGBoost Accuracy: {accuracy_xgb}\")\n",
        "print(f\"XGBoost ROC-AUC Score: {roc_auc_xgb}\")\n",
        "print(f\"XGBoost F1 Score: {f1_xgb}\")\n"
      ]
    },
    {
      "cell_type": "code",
      "execution_count": null,
      "metadata": {
        "id": "5dhXNHskwGSi",
        "outputId": "aa96e720-25f0-4df9-f04f-014aadf6b6c0"
      },
      "outputs": [
        {
          "name": "stdout",
          "output_type": "stream",
          "text": [
            "Stacking Model Accuracy: 0.8690808577172213\n",
            "Stacking Model ROC-AUC Score: 0.8491986976220585\n",
            "Stacking Model F1 Score: 0.814319090801093\n"
          ]
        }
      ],
      "source": [
        "from sklearn.ensemble import StackingClassifier\n",
        "\n",
        "# Define the base models for stacking\n",
        "base_models = [\n",
        "    ('optimized_rf', optimized_rf),\n",
        "    ('xgb', xgb_model)\n",
        "]\n",
        "\n",
        "# Define the meta-model\n",
        "meta_model = LogisticRegression()\n",
        "\n",
        "# Define the stacking ensemble\n",
        "stacking_model = StackingClassifier(estimators=base_models, final_estimator=meta_model, cv=5)\n",
        "\n",
        "# Fit the stacking model on the training data\n",
        "stacking_model.fit(X_train, Y_train)\n",
        "\n",
        "# Predict on the test set\n",
        "Y_pred_stack = stacking_model.predict(X_test)\n",
        "\n",
        "# Evaluate the stacking model\n",
        "accuracy_stack = accuracy_score(Y_test, Y_pred_stack)\n",
        "roc_auc_stack = roc_auc_score(Y_test, Y_pred_stack)\n",
        "f1_stack = f1_score(Y_test, Y_pred_stack)\n",
        "\n",
        "print(f\"Stacking Model Accuracy: {accuracy_stack}\")\n",
        "print(f\"Stacking Model ROC-AUC Score: {roc_auc_stack}\")\n",
        "print(f\"Stacking Model F1 Score: {f1_stack}\")"
      ]
    },
    {
      "cell_type": "markdown",
      "metadata": {
        "id": "novBCa90wGSm"
      },
      "source": [
        "## PHASE 4 - RECOMMENDATIONS"
      ]
    },
    {
      "cell_type": "code",
      "execution_count": null,
      "metadata": {
        "id": "Ea4WHLK5wGSm",
        "outputId": "71bbe417-168d-4d31-e139-8a33bb7b0b5d"
      },
      "outputs": [
        {
          "data": {
            "text/html": [
              "<div>\n",
              "<style scoped>\n",
              "    .dataframe tbody tr th:only-of-type {\n",
              "        vertical-align: middle;\n",
              "    }\n",
              "\n",
              "    .dataframe tbody tr th {\n",
              "        vertical-align: top;\n",
              "    }\n",
              "\n",
              "    .dataframe thead th {\n",
              "        text-align: right;\n",
              "    }\n",
              "</style>\n",
              "<table border=\"1\" class=\"dataframe\">\n",
              "  <thead>\n",
              "    <tr style=\"text-align: right;\">\n",
              "      <th></th>\n",
              "      <th>Model</th>\n",
              "      <th>Accuracy</th>\n",
              "      <th>ROC-AUC</th>\n",
              "      <th>F1 Score</th>\n",
              "    </tr>\n",
              "  </thead>\n",
              "  <tbody>\n",
              "    <tr>\n",
              "      <th>0</th>\n",
              "      <td>Logistic Regression</td>\n",
              "      <td>0.785236</td>\n",
              "      <td>0.734096</td>\n",
              "      <td>0.649248</td>\n",
              "    </tr>\n",
              "    <tr>\n",
              "      <th>1</th>\n",
              "      <td>Random Forest</td>\n",
              "      <td>0.867126</td>\n",
              "      <td>0.844815</td>\n",
              "      <td>0.809281</td>\n",
              "    </tr>\n",
              "    <tr>\n",
              "      <th>2</th>\n",
              "      <td>Optimized Random Forest</td>\n",
              "      <td>0.867294</td>\n",
              "      <td>0.845163</td>\n",
              "      <td>0.809690</td>\n",
              "    </tr>\n",
              "    <tr>\n",
              "      <th>3</th>\n",
              "      <td>XGBoost</td>\n",
              "      <td>0.846409</td>\n",
              "      <td>0.818141</td>\n",
              "      <td>0.774207</td>\n",
              "    </tr>\n",
              "    <tr>\n",
              "      <th>4</th>\n",
              "      <td>Stacking</td>\n",
              "      <td>0.869081</td>\n",
              "      <td>0.849199</td>\n",
              "      <td>0.814319</td>\n",
              "    </tr>\n",
              "  </tbody>\n",
              "</table>\n",
              "</div>"
            ],
            "text/plain": [
              "                     Model  Accuracy   ROC-AUC  F1 Score\n",
              "0      Logistic Regression  0.785236  0.734096  0.649248\n",
              "1            Random Forest  0.867126  0.844815  0.809281\n",
              "2  Optimized Random Forest  0.867294  0.845163  0.809690\n",
              "3                  XGBoost  0.846409  0.818141  0.774207\n",
              "4                 Stacking  0.869081  0.849199  0.814319"
            ]
          },
          "execution_count": 57,
          "metadata": {},
          "output_type": "execute_result"
        }
      ],
      "source": [
        "# Organize all scores in a DataFrame\n",
        "scores = {\n",
        "    'Model': ['Logistic Regression', 'Random Forest', 'Optimized Random Forest', 'XGBoost', 'Stacking'],\n",
        "    'Accuracy': [accuracy, accuracy_rf, accuracy_opt, accuracy_xgb, accuracy_stack],\n",
        "    'ROC-AUC': [roc_auc, roc_auc_rf, roc_auc_opt, roc_auc_xgb, roc_auc_stack],\n",
        "    'F1 Score': [f1, f1_rf, f1_opt, f1_xgb, f1_stack]\n",
        "}\n",
        "\n",
        "scores_df = pd.DataFrame(scores)\n",
        "scores_df"
      ]
    },
    {
      "cell_type": "code",
      "execution_count": null,
      "metadata": {
        "id": "SykH9hAowGSm",
        "outputId": "44428a14-bbc1-4df2-be06-b95dd1a2dc70"
      },
      "outputs": [
        {
          "data": {
            "image/png": "[encoded data removed]",
            "text/plain": [
              "<Figure size 1400x800 with 1 Axes>"
            ]
          },
          "metadata": {},
          "output_type": "display_data"
        }
      ],
      "source": [
        "plt.figure(figsize=(14, 8))\n",
        "\n",
        "# Melting the DataFrame to work with seaborn\n",
        "melted_df = scores_df.melt(id_vars='Model', var_name='Metric', value_name='Score')\n",
        "\n",
        "# Creating the bar plot\n",
        "ax = sns.barplot(data=melted_df, x='Score', y='Model', hue='Metric', palette='viridis')\n",
        "\n",
        "# Adding the text on the bars\n",
        "for p in ax.patches:\n",
        "    width = p.get_width()\n",
        "    if width > 0.1:  # get bar length\n",
        "        ax.text(width + 0.01,       # set the text at 1 unit right of the bar\n",
        "                p.get_y() + p.get_height() / 2,  # get Y coordinate + half of the bar's height\n",
        "                '{:1.4f}'.format(width),  # our format (4 decimal points)\n",
        "                ha='left',   # horizontal alignment\n",
        "                va='center')  # vertical alignment\n",
        "\n",
        "plt.title('Comparison of Model Scores')\n",
        "plt.xlabel('Score')\n",
        "plt.ylabel('Model')\n",
        "plt.xlim(0, 1)\n",
        "plt.legend(loc='upper right')\n",
        "plt.tight_layout()\n",
        "plt.show()\n"
      ]
    },
    {
      "cell_type": "markdown",
      "metadata": {
        "id": "UZxs62ezwGSm"
      },
      "source": [
        "**The Stacking Model, with its combination of the Optimized Random Forest and XGBoost predictions, is the model with the best evaluation performance and therefore will be our choice. It captures effectively the complex patterns of the data by using the benefits of both models that would be overlooked if we used them individually.**"
      ]
    }
  ],
  "metadata": {
    "colab": {
      "provenance": []
    },
    "kernelspec": {
      "display_name": "Python 3 (ipykernel)",
      "language": "python",
      "name": "python3"
    },
    "language_info": {
      "codemirror_mode": {
        "name": "ipython",
        "version": 3
      },
      "file_extension": ".py",
      "mimetype": "text/x-python",
      "name": "python",
      "nbconvert_exporter": "python",
      "pygments_lexer": "ipython3",
      "version": "3.11.7"
    }
  },
  "nbformat": 4,
  "nbformat_minor": 0
}